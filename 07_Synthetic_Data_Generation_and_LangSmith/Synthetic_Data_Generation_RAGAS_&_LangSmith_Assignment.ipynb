{
  "cells": [
    {
      "cell_type": "markdown",
      "metadata": {
        "id": "sCk2Rx4cjlYF"
      },
      "source": [
        "# Synthetic Data Generation Using RAGAS - RAG Evaluation with LangSmith\n",
        "\n",
        "In the following notebook we'll explore a use-case for RAGAS' synthetic testset generation workflow!\n",
        "\n",
        "\n",
        "\n",
        "- 🤝 BREAKOUT ROOM #1\n",
        "  1. Use RAGAS to Generate Synthetic Data\n",
        "\n",
        "- 🤝 BREAKOUT ROOM #2\n",
        "  1. Load them into a LangSmith Dataset\n",
        "  2. Evaluate our RAG chain against the synthetic test data\n",
        "  3. Make changes to our pipeline\n",
        "  4. Evaluate the modified pipeline\n",
        "\n",
        "SDG is a critical piece of the puzzle, especially for early iteration! Without it, it would not be nearly as easy to get high quality early signal for our application's performance.\n",
        "\n",
        "Let's dive in!"
      ]
    },
    {
      "cell_type": "markdown",
      "metadata": {
        "id": "5bG2ta-B478G"
      },
      "source": [
        "# 🤝 BREAKOUT ROOM #1"
      ]
    },
    {
      "cell_type": "markdown",
      "metadata": {
        "id": "7VUI7vF_kbv9"
      },
      "source": [
        "## Task 1: Dependencies and API Keys\n",
        "\n",
        "We'll need to install a number of API keys and dependencies, since we'll be leveraging a number of great technologies for this pipeline!\n",
        "\n",
        "1. OpenAI's endpoints to handle the Synthetic Data Generation\n",
        "2. OpenAI's Endpoints for our RAG pipeline and LangSmith evaluation\n",
        "3. QDrant as our vectorstore\n",
        "4. LangSmith for our evaluation coordinator!\n",
        "\n",
        "Let's install and provide all the required information below!"
      ]
    },
    {
      "cell_type": "markdown",
      "metadata": {},
      "source": [
        "## Dependencies and API Keys:\n",
        "\n",
        "> NOTE: DO NOT RUN THESE CELLS IF YOU ARE RUNNING THIS NOTEBOOK LOCALLY"
      ]
    },
    {
      "cell_type": "code",
      "execution_count": null,
      "metadata": {},
      "outputs": [
        {
          "name": "stdout",
          "output_type": "stream",
          "text": [
            "\u001b[?25l   \u001b[90m━━━━━━━━━━━━━━━━━━━━━━━━━━━━━━━━━━━━━━━━\u001b[0m \u001b[32m0.0/175.7 kB\u001b[0m \u001b[31m?\u001b[0m eta \u001b[36m-:--:--\u001b[0m\r\u001b[2K   \u001b[90m━━━━━━━━━━━━━━━━━━━━━━━━━━━━━━━━━━━━━━━━\u001b[0m \u001b[32m175.7/175.7 kB\u001b[0m \u001b[31m8.6 MB/s\u001b[0m eta \u001b[36m0:00:00\u001b[0m\n",
            "\u001b[?25h\u001b[?25l   \u001b[90m━━━━━━━━━━━━━━━━━━━━━━━━━━━━━━━━━━━━━━━━\u001b[0m \u001b[32m0.0/45.5 kB\u001b[0m \u001b[31m?\u001b[0m eta \u001b[36m-:--:--\u001b[0m\r\u001b[2K   \u001b[90m━━━━━━━━━━━━━━━━━━━━━━━━━━━━━━━━━━━━━━━━\u001b[0m \u001b[32m45.5/45.5 kB\u001b[0m \u001b[31m2.9 MB/s\u001b[0m eta \u001b[36m0:00:00\u001b[0m\n",
            "\u001b[?25h\u001b[?25l   \u001b[90m━━━━━━━━━━━━━━━━━━━━━━━━━━━━━━━━━━━━━━━━\u001b[0m \u001b[32m0.0/71.1 kB\u001b[0m \u001b[31m?\u001b[0m eta \u001b[36m-:--:--\u001b[0m\r\u001b[2K   \u001b[90m━━━━━━━━━━━━━━━━━━━━━━━━━━━━━━━━━━━━━━━━\u001b[0m \u001b[32m71.1/71.1 kB\u001b[0m \u001b[31m5.2 MB/s\u001b[0m eta \u001b[36m0:00:00\u001b[0m\n",
            "\u001b[?25h\u001b[?25l   \u001b[90m━━━━━━━━━━━━━━━━━━━━━━━━━━━━━━━━━━━━━━━━\u001b[0m \u001b[32m0.0/480.6 kB\u001b[0m \u001b[31m?\u001b[0m eta \u001b[36m-:--:--\u001b[0m\r\u001b[2K   \u001b[90m━━━━━━━━━━━━━━━━━━━━━━━━━━━━━━━━━━━━━━━━\u001b[0m \u001b[32m480.6/480.6 kB\u001b[0m \u001b[31m24.5 MB/s\u001b[0m eta \u001b[36m0:00:00\u001b[0m\n",
            "\u001b[?25h\u001b[?25l   \u001b[90m━━━━━━━━━━━━━━━━━━━━━━━━━━━━━━━━━━━━━━━━\u001b[0m \u001b[32m0.0/2.5 MB\u001b[0m \u001b[31m?\u001b[0m eta \u001b[36m-:--:--\u001b[0m\r\u001b[2K   \u001b[91m━━━━━━━━━━━━━━━━━━━━━━━━━━━━━━━━━━━━━━━\u001b[0m\u001b[91m╸\u001b[0m \u001b[32m2.5/2.5 MB\u001b[0m \u001b[31m160.4 MB/s\u001b[0m eta \u001b[36m0:00:01\u001b[0m\r\u001b[2K   \u001b[90m━━━━━━━━━━━━━━━━━━━━━━━━━━━━━━━━━━━━━━━━\u001b[0m \u001b[32m2.5/2.5 MB\u001b[0m \u001b[31m68.1 MB/s\u001b[0m eta \u001b[36m0:00:00\u001b[0m\n",
            "\u001b[?25h\u001b[?25l   \u001b[90m━━━━━━━━━━━━━━━━━━━━━━━━━━━━━━━━━━━━━━━━\u001b[0m \u001b[32m0.0/1.0 MB\u001b[0m \u001b[31m?\u001b[0m eta \u001b[36m-:--:--\u001b[0m\r\u001b[2K   \u001b[90m━━━━━━━━━━━━━━━━━━━━━━━━━━━━━━━━━━━━━━━━\u001b[0m \u001b[32m1.0/1.0 MB\u001b[0m \u001b[31m48.2 MB/s\u001b[0m eta \u001b[36m0:00:00\u001b[0m\n",
            "\u001b[2K   \u001b[90m━━━━━━━━━━━━━━━━━━━━━━━━━━━━━━━━━━━━━━━━\u001b[0m \u001b[32m411.6/411.6 kB\u001b[0m \u001b[31m27.5 MB/s\u001b[0m eta \u001b[36m0:00:00\u001b[0m\n",
            "\u001b[2K   \u001b[90m━━━━━━━━━━━━━━━━━━━━━━━━━━━━━━━━━━━━━━━━\u001b[0m \u001b[32m50.9/50.9 kB\u001b[0m \u001b[31m3.2 MB/s\u001b[0m eta \u001b[36m0:00:00\u001b[0m\n",
            "\u001b[2K   \u001b[90m━━━━━━━━━━━━━━━━━━━━━━━━━━━━━━━━━━━━━━━━\u001b[0m \u001b[32m454.8/454.8 kB\u001b[0m \u001b[31m28.4 MB/s\u001b[0m eta \u001b[36m0:00:00\u001b[0m\n",
            "\u001b[2K   \u001b[90m━━━━━━━━━━━━━━━━━━━━━━━━━━━━━━━━━━━━━━━━\u001b[0m \u001b[32m1.2/1.2 MB\u001b[0m \u001b[31m50.3 MB/s\u001b[0m eta \u001b[36m0:00:00\u001b[0m\n",
            "\u001b[2K   \u001b[90m━━━━━━━━━━━━━━━━━━━━━━━━━━━━━━━━━━━━━━━━\u001b[0m \u001b[32m116.3/116.3 kB\u001b[0m \u001b[31m8.5 MB/s\u001b[0m eta \u001b[36m0:00:00\u001b[0m\n",
            "\u001b[2K   \u001b[90m━━━━━━━━━━━━━━━━━━━━━━━━━━━━━━━━━━━━━━━━\u001b[0m \u001b[32m179.3/179.3 kB\u001b[0m \u001b[31m14.9 MB/s\u001b[0m eta \u001b[36m0:00:00\u001b[0m\n",
            "\u001b[2K   \u001b[90m━━━━━━━━━━━━━━━━━━━━━━━━━━━━━━━━━━━━━━━━\u001b[0m \u001b[32m134.8/134.8 kB\u001b[0m \u001b[31m9.5 MB/s\u001b[0m eta \u001b[36m0:00:00\u001b[0m\n",
            "\u001b[2K   \u001b[90m━━━━━━━━━━━━━━━━━━━━━━━━━━━━━━━━━━━━━━━━\u001b[0m \u001b[32m194.1/194.1 kB\u001b[0m \u001b[31m13.1 MB/s\u001b[0m eta \u001b[36m0:00:00\u001b[0m\n",
            "\u001b[2K   \u001b[90m━━━━━━━━━━━━━━━━━━━━━━━━━━━━━━━━━━━━━━━━\u001b[0m \u001b[32m49.3/49.3 kB\u001b[0m \u001b[31m3.4 MB/s\u001b[0m eta \u001b[36m0:00:00\u001b[0m\n",
            "\u001b[?25h\u001b[31mERROR: pip's dependency resolver does not currently take into account all the packages that are installed. This behaviour is the source of the following dependency conflicts.\n",
            "gcsfs 2024.10.0 requires fsspec==2024.10.0, but you have fsspec 2024.9.0 which is incompatible.\u001b[0m\u001b[31m\n",
            "\u001b[0m"
          ]
        }
      ],
      "source": [
        "#!pip install -qU ragas==0.2.10"
      ]
    },
    {
      "cell_type": "code",
      "execution_count": null,
      "metadata": {},
      "outputs": [],
      "source": [
        "#!pip install -qU langchain-community==0.3.14 langchain-openai==0.2.14 unstructured==0.16.12 langgraph==0.2.61 langchain-qdrant==0.2.0"
      ]
    },
    {
      "cell_type": "markdown",
      "metadata": {},
      "source": [
        "### NLTK Import\n",
        "\n",
        "To prevent errors that may occur based on OS - we'll import NLTK and download the needed packages to ensure correct handling of data."
      ]
    },
    {
      "cell_type": "code",
      "execution_count": 1,
      "metadata": {},
      "outputs": [
        {
          "name": "stderr",
          "output_type": "stream",
          "text": [
            "[nltk_data] Downloading package punkt to /Users/davidq/nltk_data...\n",
            "[nltk_data]   Unzipping tokenizers/punkt.zip.\n",
            "[nltk_data] Downloading package averaged_perceptron_tagger to\n",
            "[nltk_data]     /Users/davidq/nltk_data...\n",
            "[nltk_data]   Unzipping taggers/averaged_perceptron_tagger.zip.\n"
          ]
        },
        {
          "data": {
            "text/plain": [
              "True"
            ]
          },
          "execution_count": 1,
          "metadata": {},
          "output_type": "execute_result"
        }
      ],
      "source": [
        "import nltk\n",
        "nltk.download('punkt')\n",
        "nltk.download('averaged_perceptron_tagger')"
      ]
    },
    {
      "cell_type": "code",
      "execution_count": 2,
      "metadata": {},
      "outputs": [],
      "source": [
        "import os\n",
        "import getpass\n",
        "\n",
        "os.environ[\"LANGCHAIN_TRACING_V2\"] = \"true\"\n",
        "os.environ[\"LANGCHAIN_API_KEY\"] = getpass.getpass(\"LangChain API Key:\")"
      ]
    },
    {
      "cell_type": "markdown",
      "metadata": {},
      "source": [
        "We'll also want to set a project name to make things easier for ourselves."
      ]
    },
    {
      "cell_type": "code",
      "execution_count": 3,
      "metadata": {},
      "outputs": [],
      "source": [
        "from uuid import uuid4\n",
        "\n",
        "os.environ[\"LANGCHAIN_PROJECT\"] = f\"AIM - SDG - {uuid4().hex[0:8]}\""
      ]
    },
    {
      "cell_type": "markdown",
      "metadata": {},
      "source": [
        "OpenAI's API Key!"
      ]
    },
    {
      "cell_type": "code",
      "execution_count": 4,
      "metadata": {},
      "outputs": [],
      "source": [
        "os.environ[\"OPENAI_API_KEY\"] = getpass.getpass(\"OpenAI API Key:\")"
      ]
    },
    {
      "cell_type": "markdown",
      "metadata": {},
      "source": [
        "## Generating Synthetic Test Data\n",
        "\n",
        "We wil be using Ragas to build out a set of synthetic test questions, references, and reference contexts. This is useful because it will allow us to find out how our system is performing.\n",
        "\n",
        "> NOTE: Ragas is best suited for finding *directional* changes in your LLM-based systems. The absolute scores aren't comparable in a vacuum."
      ]
    },
    {
      "cell_type": "markdown",
      "metadata": {},
      "source": [
        "### Data Preparation\n",
        "\n",
        "We'll prepare our data - and download our webpages which we'll be using for our data today.\n",
        "\n",
        "These webpages are from [Simon Willison's](https://simonwillison.net/) yearly \"AI learnings\".\n",
        "\n",
        "- [2023 Blog](https://simonwillison.net/2023/Dec/31/ai-in-2023/)\n",
        "- [2024 Blog](https://simonwillison.net/2024/Dec/31/llms-in-2024/)\n",
        "\n",
        "Let's start by collecting our data into a useful pile!"
      ]
    },
    {
      "cell_type": "code",
      "execution_count": 4,
      "metadata": {},
      "outputs": [],
      "source": [
        "!mkdir data"
      ]
    },
    {
      "cell_type": "code",
      "execution_count": 5,
      "metadata": {},
      "outputs": [
        {
          "name": "stdout",
          "output_type": "stream",
          "text": [
            "  % Total    % Received % Xferd  Average Speed   Time    Time     Time  Current\n",
            "                                 Dload  Upload   Total   Spent    Left  Speed\n",
            "100 31287    0 31287    0     0  92995      0 --:--:-- --:--:-- --:--:-- 92839\n"
          ]
        }
      ],
      "source": [
        "!curl https://simonwillison.net/2023/Dec/31/ai-in-2023/ -o data/2023_llms.html"
      ]
    },
    {
      "cell_type": "code",
      "execution_count": 6,
      "metadata": {},
      "outputs": [
        {
          "name": "stdout",
          "output_type": "stream",
          "text": [
            "  % Total    % Received % Xferd  Average Speed   Time    Time     Time  Current\n",
            "                                 Dload  Upload   Total   Spent    Left  Speed\n",
            "100 70146    0 70146    0     0   182k      0 --:--:-- --:--:-- --:--:--  183k\n"
          ]
        }
      ],
      "source": [
        "!curl https://simonwillison.net/2024/Dec/31/llms-in-2024/ -o data/2024_llms.html"
      ]
    },
    {
      "cell_type": "markdown",
      "metadata": {},
      "source": [
        "Next, let's load our data into a familiar LangChain format using the `DirectoryLoader`."
      ]
    },
    {
      "cell_type": "code",
      "execution_count": 5,
      "metadata": {},
      "outputs": [
        {
          "name": "stderr",
          "output_type": "stream",
          "text": [
            "libmagic is unavailable but assists in filetype detection. Please consider installing libmagic for better results.\n",
            "libmagic is unavailable but assists in filetype detection. Please consider installing libmagic for better results.\n"
          ]
        }
      ],
      "source": [
        "from langchain_community.document_loaders import DirectoryLoader\n",
        "\n",
        "path = \"data/\"\n",
        "loader = DirectoryLoader(path, glob=\"*.html\")\n",
        "docs = loader.load()"
      ]
    },
    {
      "cell_type": "code",
      "execution_count": 23,
      "metadata": {},
      "outputs": [
        {
          "data": {
            "text/html": [
              "\n",
              "    <style>\n",
              "    pre {\n",
              "        white-space: pre-wrap;\n",
              "        word-wrap: break-word;\n",
              "        max-width: 100%;\n",
              "        overflow-x: hidden;\n",
              "    }\n",
              "    .output_area {\n",
              "        white-space: pre-wrap;\n",
              "        word-wrap: break-word;\n",
              "        max-width: 100%;\n",
              "        overflow-x: hidden;\n",
              "    }\n",
              "    .output_text {\n",
              "        white-space: pre-wrap;\n",
              "        word-wrap: break-word;\n",
              "    }\n",
              "    div.output {\n",
              "        white-space: pre-wrap;\n",
              "        word-wrap: break-word;\n",
              "        max-width: 100%;\n",
              "    }\n",
              "    span {\n",
              "        white-space: pre-wrap;\n",
              "        word-wrap: break-word;\n",
              "    }\n",
              "    </style>\n",
              "    "
            ],
            "text/plain": [
              "<IPython.core.display.HTML object>"
            ]
          },
          "metadata": {},
          "output_type": "display_data"
        }
      ],
      "source": [
        "from IPython.display import HTML, display\n",
        "def set_output_wrapping():\n",
        "    display(HTML('''\n",
        "    <style>\n",
        "    pre {\n",
        "        white-space: pre-wrap;\n",
        "        word-wrap: break-word;\n",
        "        max-width: 100%;\n",
        "        overflow-x: hidden;\n",
        "    }\n",
        "    .output_area {\n",
        "        white-space: pre-wrap;\n",
        "        word-wrap: break-word;\n",
        "        max-width: 100%;\n",
        "        overflow-x: hidden;\n",
        "    }\n",
        "    .output_text {\n",
        "        white-space: pre-wrap;\n",
        "        word-wrap: break-word;\n",
        "    }\n",
        "    div.output {\n",
        "        white-space: pre-wrap;\n",
        "        word-wrap: break-word;\n",
        "        max-width: 100%;\n",
        "    }\n",
        "    span {\n",
        "        white-space: pre-wrap;\n",
        "        word-wrap: break-word;\n",
        "    }\n",
        "    </style>\n",
        "    '''))\n",
        "set_output_wrapping()"
      ]
    },
    {
      "cell_type": "code",
      "execution_count": 22,
      "metadata": {},
      "outputs": [
        {
          "name": "stdout",
          "output_type": "stream",
          "text": [
            "[Document(metadata={'source': 'data/2023_llms.html'}, page_content=\"Simon Willison’s Weblog\\n\\nSubscribe\\n\\nStuff we figured out about AI in 2023\\n\\n31st December 2023\\n\\n2023 was the breakthrough year for Large Language Models (LLMs). I think it’s OK to call these AI—they’re the latest and (currently) most interesting development in the academic field of Artificial Intelligence that dates back to the 1950s.\\n\\nHere’s my attempt to round up the highlights in one place!\\n\\nLarge Language Models\\n\\nThey’re actually quite easy to build\\n\\nYou can run LLMs on your own devices\\n\\nHobbyists can build their own fine-tuned models\\n\\nWe don’t yet know how to build GPT-4\\n\\nVibes Based Development\\n\\nLLMs are really smart, and also really, really dumb\\n\\nGullibility is the biggest unsolved problem\\n\\nCode may be the best application\\n\\nThe ethics of this space remain diabolically complex\\n\\nMy blog in 2023\\n\\nHere’s the sequel to this post: Things we learned about LLMs in 2024.\\n\\nLarge Language Models\\n\\nIn the past 24-36 months, our species has discovered that you can take a GIANT corpus of text, run it through a pile of GPUs, and use it to create a fascinating new kind of software.\\n\\nLLMs can do a lot of things. They can answer questions, summarize documents, translate from one language to another, extract information and even write surprisingly competent code.\\n\\nThey can also help you cheat at your homework, generate unlimited streams of fake content and be used for all manner of nefarious purposes.\\n\\nSo far, I think they’re a net positive. I’ve used them on a personal level to improve my productivity (and entertain myself) in all sorts of different ways. I think people who learn how to use them effectively can gain a significant boost to their quality of life.\\n\\nA lot of people are yet to be sold on their value! Some think their negatives outweigh their positives, some think they are all hot air, and some even think they represent an existential threat to humanity.\\n\\nThey’re actually quite easy to build\\n\\nThe most surprising thing we’ve learned about LLMs this year is that they’re actually quite easy to build.\\n\\nIntuitively, one would expect that systems this powerful would take millions of lines of complex code. Instead, it turns out a few hundred lines of Python is genuinely enough to train a basic version!\\n\\nWhat matters most is the training data. You need a lot of data to make these things work, and the quantity and quality of the training data appears to be the most important factor in how good the resulting model is.\\n\\nIf you can gather the right data, and afford to pay for the GPUs to train it, you can build an LLM.\\n\\nA year ago, the only organization that had released a generally useful LLM was OpenAI. We’ve now seen better-than-GPT-3 class models produced by Anthropic, Mistral, Google, Meta, EleutherAI, Stability AI, TII in Abu Dhabi (Falcon), Microsoft Research, xAI, Replit, Baidu and a bunch of other organizations.\\n\\nThe training cost (hardware and electricity) is still significant—initially millions of dollars, but that seems to have dropped to the tens of thousands already. Microsoft’s Phi-2 claims to have used “14 days on 96 A100 GPUs”, which works out at around $35,000 using current Lambda pricing.\\n\\nSo training an LLM still isn’t something a hobbyist can afford, but it’s no longer the sole domain of the super-rich. I like to compare the difficulty of training an LLM to that of building a suspension bridge—not trivial, but hundreds of countries around the world have figured out how to do it. (Correction: Wikipedia’s Suspension bridges by country category lists 44 countries).\\n\\nYou can run LLMs on your own devices\\n\\nIn January of this year, I thought it would be years before I could run a useful LLM on my own computer. GPT-3 and 3.5 were pretty much the only games in town, and I thought that even if the model weights were available it would take a $10,000+ server to run them.\\n\\nThen in February, Meta released Llama. And a few weeks later in March, Georgi Gerganov released code that got it working on a MacBook.\\n\\nI wrote about how Large language models are having their Stable Diffusion moment, and with hindsight that was a very good call!\\n\\nThis unleashed a whirlwind of innovation, which was accelerated further in July when Meta released Llama 2—an improved version which, crucially, included permission for commercial use.\\n\\nToday there are literally thousands of LLMs that can be run locally, on all manner of different devices.\\n\\nI run a bunch of them on my laptop. I run Mistral 7B (a surprisingly great model) on my iPhone. You can install several different apps to get your own, local, completely private LLM. My own LLM project provides a CLI tool for running an array of different models via plugins.\\n\\nYou can even run them entirely in your browser using WebAssembly and the latest Chrome!\\n\\nHobbyists can build their own fine-tuned models\\n\\nI said earlier that building an LLM was still out of reach of hobbyists. That may be true for training from scratch, but fine-tuning one of those models is another matter entirely.\\n\\nThere’s now a fascinating ecosystem of people training their own models on top of these foundations, publishing those models, building fine-tuning datasets and sharing those too.\\n\\nThe Hugging Face Open LLM Leaderboard is one place that tracks these. I can’t even attempt to count them, and any count would be out-of-date within a few hours.\\n\\nThe best overall openly licensed LLM at any time is rarely a foundation model: instead, it’s whichever fine-tuned community model has most recently discovered the best combination of fine-tuning data.\\n\\nThis is a huge advantage for open over closed models: the closed, hosted models don’t have thousands of researchers and hobbyists around the world collaborating and competing to improve them.\\n\\nWe don’t yet know how to build GPT-4\\n\\nFrustratingly, despite the enormous leaps ahead we’ve had this year, we are yet to see an alternative model that’s better than GPT-4.\\n\\nOpenAI released GPT-4 in March, though it later turned out we had a sneak peak of it in February when Microsoft used it as part of the new Bing.\\n\\nThis may well change in the next few weeks: Google’s Gemini Ultra has big claims, but isn’t yet available for us to try out.\\n\\nThe team behind Mistral are working to beat GPT-4 as well, and their track record is already extremely strong considering their first public model only came out in September, and they’ve released two significant improvements since then.\\n\\nStill, I’m surprised that no-one has beaten the now almost year old GPT-4 by now. OpenAI clearly have some substantial tricks that they haven’t shared yet.\\n\\nVibes Based Development\\n\\nAs a computer scientist and software engineer, LLMs are infuriating.\\n\\nEven the openly licensed ones are still the world’s most convoluted black boxes. We continue to have very little idea what they can do, how exactly they work and how best to control them.\\n\\nI’m used to programming where the computer does exactly what I tell it to do. Prompting an LLM is decidedly not that!\\n\\nThe worst part is the challenge of evaluating them.\\n\\nThere are plenty of benchmarks, but no benchmark is going to tell you if an LLM actually “feels” right when you try it for a given task.\\n\\nI find I have to work with an LLM for a few weeks in order to get a good intuition for it’s strengths and weaknesses. This greatly limits how many I can evaluate myself!\\n\\nThe most frustrating thing for me is at the level of individual prompting.\\n\\nSometimes I’ll tweak a prompt and capitalize some of the words in it, to emphasize that I really want it to OUTPUT VALID MARKDOWN or similar. Did capitalizing those words make a difference? I still don’t have a good methodology for figuring that out.\\n\\nWe’re left with what’s effectively Vibes Based Development. It’s vibes all the way down.\\n\\nI’d love to see us move beyond vibes in 2024!\\n\\nLLMs are really smart, and also really, really dumb\\n\\nOn the one hand, we keep on finding new things that LLMs can do that we didn’t expect—and that the people who trained the models didn’t expect either. That’s usually really fun!\\n\\nBut on the other hand, the things you sometimes have to do to get the models to behave are often incredibly dumb.\\n\\nDoes ChatGPT get lazy in December, because its hidden system prompt includes the current date and its training data shows that people provide less useful answers coming up to the holidays?\\n\\nThe honest answer is “maybe”! No-one is entirely sure, but if you give it a different date its answers may skew slightly longer.\\n\\nSometimes it omits sections of code and leaves you to fill them in, but if you tell it you can’t type because you don’t have any fingers it produces the full code for you instead.\\n\\nThere are so many more examples like this. Offer it cash tips for better answers. Tell it your career depends on it. Give it positive reinforcement. It’s all so dumb, but it works!\\n\\nGullibility is the biggest unsolved problem\\n\\nI coined the term prompt injection in September last year.\\n\\n15 months later, I regret to say that we’re still no closer to a robust, dependable solution to this problem.\\n\\nI’ve written a ton about this already.\\n\\nBeyond that specific class of security vulnerabilities, I’ve started seeing this as a wider problem of gullibility.\\n\\nLanguage Models are gullible. They “believe” what we tell them—what’s in their training data, then what’s in the fine-tuning data, then what’s in the prompt.\\n\\nIn order to be useful tools for us, we need them to believe what we feed them!\\n\\nBut it turns out a lot of the things we want to build need them not to be gullible.\\n\\nEveryone wants an AI personal assistant. If you hired a real-world personal assistant who believed everything that anyone told them, you would quickly find that their ability to positively impact your life was severely limited.\\n\\nA lot of people are excited about AI agents—an infuriatingly vague term that seems to be converging on “AI systems that can go away and act on your behalf”. We’ve been talking about them all year, but I’ve seen few if any examples of them running in production, despite lots of exciting prototypes.\\n\\nI think this is because of gullibility.\\n\\nCan we solve this? Honestly, I’m beginning to suspect that you can’t fully solve gullibility without achieving AGI. So it may be quite a while before those agent dreams can really start to come true!\\n\\nCode may be the best application\\n\\nOver the course of the year, it’s become increasingly clear that writing code is one of the things LLMs are most capable of.\\n\\nIf you think about what they do, this isn’t such a big surprise. The grammar rules of programming languages like Python and JavaScript are massively less complicated than the grammar of Chinese, Spanish or English.\\n\\nIt’s still astonishing to me how effective they are though.\\n\\nOne of the great weaknesses of LLMs is their tendency to hallucinate—to imagine things that don’t correspond to reality. You would expect this to be a particularly bad problem for code—if an LLM hallucinates a method that doesn’t exist, the code should be useless.\\n\\nExcept... you can run generated code to see if it’s correct. And with patterns like ChatGPT Code Interpreter the LLM can execute the code itself, process the error message, then rewrite it and keep trying until it works!\\n\\nSo hallucination is a much lesser problem for code generation than for anything else. If only we had the equivalent of Code Interpreter for fact-checking natural language!\\n\\nHow should we feel about this as software engineers?\\n\\nOn the one hand, this feels like a threat: who needs a programmer if ChatGPT can write code for you?\\n\\nOn the other hand, as software engineers we are better placed to take advantage of this than anyone else. We’ve all been given weird coding interns—we can use our deep knowledge to prompt them to solve coding problems more effectively than anyone else can.\\n\\nThe ethics of this space remain diabolically complex\\n\\nIn September last year Andy Baio and I produced the first major story on the unlicensed training data behind Stable Diffusion.\\n\\nSince then, almost every major LLM (and most of the image generation models) have also been trained on unlicensed data.\\n\\nJust this week, the New York Times launched a landmark lawsuit against OpenAI and Microsoft over this issue. The 69 page PDF is genuinely worth reading—especially the first few pages, which lay out the issues in a way that’s surprisingly easy to follow. The rest of the document includes some of the clearest explanations of what LLMs are, how they work and how they are built that I’ve read anywhere.\\n\\nThe legal arguments here are complex. I’m not a lawyer, but I don’t think this one will be easily decided. Whichever way it goes, I expect this case to have a profound impact on how this technology develops in the future.\\n\\nLaw is not ethics. Is it OK to train models on people’s content without their permission, when those models will then be used in ways that compete with those people?\\n\\nAs the quality of results produced by AI models has increased over the year, these questions have become even more pressing.\\n\\nThe impact on human society in terms of these models is already huge, if difficult to objectively measure.\\n\\nPeople have certainly lost work to them—anecdotally, I’ve seen this for copywriters, artists and translators.\\n\\nThere are a great deal of untold stories here. I’m hoping 2024 sees significant amounts of dedicated journalism on this topic.\\n\\nMy blog in 2023\\n\\nHere’s a tag cloud for content I posted to my blog in 2023 (generated using Django SQL Dashboard):\\n\\nTag cloud words in order of size: ai, generativeai, llms, openai, chatgpt, projects, python, datasette, ethics, llama, homebrewllms, sqlite, gpt3, promptengineering, promptinjection, llm, security, opensource, gpt4, weeknotes\\n\\nThe top five: ai (342), generativeai (300), llms (287), openai (86), chatgpt (78).\\n\\nI’ve written a lot about this stuff!\\n\\nI grabbed a screenshot of my Plausible analytics for the year, fed that to ChatGPT Vision, told it to extract the data into a table, then got it to mix in entry titles (from a SQL query it wrote) and produced this table with it. Here are my top entries this year by amount of traffic:\\n\\nArticle Visitors Pageviews Bing: “I will not harm you unless you harm me first” 1.1M 1.3M Leaked Google document: “We Have No Moat, And Neither Does OpenAI” 132k 162k Large language models are having their Stable Diffusion moment 121k 150k Prompt injection: What’s the worst that can happen? 79.8k 95.9k Embeddings: What they are and why they matter 61.7k 79.3k Catching up on the weird world of LLMs 61.6k 85.9k llamafile is the new best way to run an LLM on your own computer 52k 66k Prompt injection explained, with video, slides, and a transcript 51k 61.9k AI-enhanced development makes me more ambitious with my projects 49.6k 60.1k Understanding GPT tokenizers 49.5k 61.1k Exploring GPTs: ChatGPT in a trench coat? 46.4k 58.5k Could you train a ChatGPT-beating model for $85,000 and run it in a browser? 40.5k 49.2k How to implement Q&A against your documentation with GPT3, embeddings and Datasette 37.3k 44.9k Lawyer cites fake cases invented by ChatGPT, judge is not amused 37.1k 47.4k Now add a walrus: Prompt engineering in DALL-E 3 32.8k 41.2k Web LLM runs the vicuna-7b Large Language Model entirely in your browser, and it’s very impressive 32.5k 38.2k ChatGPT can’t access the internet, even though it really looks like it can 30.5k 34.2k Stanford Alpaca, and the acceleration of on-device large language model development 29.7k 35.7k Run Llama 2 on your own Mac using LLM and Homebrew 27.9k 33.6k Midjourney 5.1 26.7k 33.4k Think of language models like ChatGPT as a “calculator for words” 25k 31.8k Multi-modal prompt injection image attacks against GPT-4V 23.7k 27.4k\\n\\nI also gave a bunch of talks and podcast appearances. I’ve started habitually turning my talks into annotated presentations—here are my best from 2023:\\n\\nPrompt injection explained, with video, slides, and a transcript\\n\\nCatching up on the weird world of LLMs\\n\\nMaking Large Language Models work for you\\n\\nOpen questions for AI engineering\\n\\nEmbeddings: What they are and why they matter\\n\\nFinancial sustainability for open source projects at GitHub Universe\\n\\nAnd in podcasts:\\n\\nWhat AI can do for you on the Theory of Change\\n\\nWorking in public on Path to Citus Con\\n\\nLLMs break the internet on the Changelog\\n\\nTalking Large Language Models on Rooftop Ruby\\n\\nThoughts on the OpenAI board situation on Newsroom Robots\\n\\nIndustry’s Tardy Response to the AI Prompt Injection Vulnerability on RedMonk Conversations\\n\\nPosted 31st December 2023 at 11:59 pm · Follow me on Mastodon or Twitter or subscribe to my newsletter\\n\\nMore recent articles\\n\\nOpenAI o3-mini, now available in LLM - 31st January 2025\\n\\nA selfish personal argument for releasing code as Open Source - 24th January 2025\\n\\nAnthropic's new Citations API - 24th January 2025\\n\\nThis is Stuff we figured out about AI in 2023 by Simon Willison, posted on 31st December 2023.\\n\\nPart of series LLMs annual review\\n\\nStuff we figured out about AI in 2023 - Dec. 31, 2023, 11:59 p.m.\\n\\nThings we learned about LLMs in 2024 - Dec. 31, 2024, 6:07 p.m.\\n\\nblogging 67 ai 1080 generative-ai 926 llms 914\\n\\nNext: Tom Scott, and the formidable power of escalating streaks\\n\\nPrevious: Last weeknotes of 2023\\n\\nColophon\\n\\n©\\n\\n2002\\n\\n2003\\n\\n2004\\n\\n2005\\n\\n2006\\n\\n2007\\n\\n2008\\n\\n2009\\n\\n2010\\n\\n2011\\n\\n2012\\n\\n2013\\n\\n2014\\n\\n2015\\n\\n2016\\n\\n2017\\n\\n2018\\n\\n2019\\n\\n2020\\n\\n2021\\n\\n2022\\n\\n2023\\n\\n2024\\n\\n2025\"), Document(metadata={'source': 'data/2024_llms.html'}, page_content='Simon Willison’s Weblog\\n\\nSubscribe\\n\\nThings we learned about LLMs in 2024\\n\\n31st December 2024\\n\\nA lot has happened in the world of Large Language Models over the course of 2024. Here’s a review of things we figured out about the field in the past twelve months, plus my attempt at identifying key themes and pivotal moments.\\n\\nThis is a sequel to my review of 2023.\\n\\nIn this article:\\n\\nThe GPT-4 barrier was comprehensively broken\\n\\nSome of those GPT-4 models run on my laptop\\n\\nLLM prices crashed, thanks to competition and increased efficiency\\n\\nMultimodal vision is common, audio and video are starting to emerge\\n\\nVoice and live camera mode are science fiction come to life\\n\\nPrompt driven app generation is a commodity already\\n\\nUniversal access to the best models lasted for just a few short months\\n\\n“Agents” still haven’t really happened yet\\n\\nEvals really matter\\n\\nApple Intelligence is bad, Apple’s MLX library is excellent\\n\\nThe rise of inference-scaling “reasoning” models\\n\\nWas the best currently available LLM trained in China for less than $6m?\\n\\nThe environmental impact got better\\n\\nThe environmental impact got much, much worse\\n\\nThe year of slop\\n\\nSynthetic training data works great\\n\\nLLMs somehow got even harder to use\\n\\nKnowledge is incredibly unevenly distributed\\n\\nLLMs need better criticism\\n\\nEverything tagged “llms” on my blog in 2024\\n\\nThe GPT-4 barrier was comprehensively broken\\n\\nIn my December 2023 review I wrote about how We don’t yet know how to build GPT-4—OpenAI’s best model was almost a year old at that point, yet no other AI lab had produced anything better. What did OpenAI know that the rest of us didn’t?\\n\\nI’m relieved that this has changed completely in the past twelve months. 18 organizations now have models on the Chatbot Arena Leaderboard that rank higher than the original GPT-4 from March 2023 (GPT-4-0314 on the board)—70 models in total.\\n\\nScreenshot of a comparison table showing AI model rankings. Table headers: Rank (UB), Rank (StyleCtrl), Model, Arena Score, 95% CI, Votes, Organization, License. Shows 12 models including GLM-4-0520, Llama-3-70B-Instruct, Gemini-1.5-Flash-8B-Exp-0827, with rankings, scores, and licensing details. Models range from rank 52-69 with Arena scores between 1186-1207.\\n\\nThe earliest of those was Google’s Gemini 1.5 Pro, released in February. In addition to producing GPT-4 level outputs, it introduced several brand new capabilities to the field—most notably its 1 million (and then later 2 million) token input context length, and the ability to input video.\\n\\nI wrote about this at the time in The killer app of Gemini Pro 1.5 is video, which earned me a short appearance as a talking head in the Google I/O opening keynote in May.\\n\\nGemini 1.5 Pro also illustrated one of the key themes of 2024: increased context lengths. Last year most models accepted 4,096 or 8,192 tokens, with the notable exception of Claude 2.1 which accepted 200,000. Today every serious provider has a 100,000+ token model, and Google’s Gemini series accepts up to 2 million.\\n\\nLonger inputs dramatically increase the scope of problems that can be solved with an LLM: you can now throw in an entire book and ask questions about its contents, but more importantly you can feed in a lot of example code to help the model correctly solve a coding problem. LLM use-cases that involve long inputs are far more interesting to me than short prompts that rely purely on the information already baked into the model weights. Many of my tools were built using this pattern.\\n\\nGetting back to models that beat GPT-4: Anthropic’s Claude 3 series launched in March, and Claude 3 Opus quickly became my new favourite daily-driver. They upped the ante even more in June with the launch of Claude 3.5 Sonnet—a model that is still my favourite six months later (though it got a significant upgrade on October 22, confusingly keeping the same 3.5 version number. Anthropic fans have since taken to calling it Claude 3.6).\\n\\nThen there’s the rest. If you browse the Chatbot Arena leaderboard today—still the most useful single place to get a vibes-based evaluation of models—you’ll see that GPT-4-0314 has fallen to around 70th place. The 18 organizations with higher scoring models are Google, OpenAI, Alibaba, Anthropic, Meta, Reka AI, 01 AI, Amazon, Cohere, DeepSeek, Nvidia, Mistral, NexusFlow, Zhipu AI, xAI, AI21 Labs, Princeton and Tencent.\\n\\nTraining a GPT-4 beating model was a huge deal in 2023. In 2024 it’s an achievement that isn’t even particularly notable, though I personally still celebrate any time a new organization joins that list.\\n\\nSome of those GPT-4 models run on my laptop\\n\\nMy personal laptop is a 64GB M2 MacBook Pro from 2023. It’s a powerful machine, but it’s also nearly two years old now—and crucially it’s the same laptop I’ve been using ever since I first ran an LLM on my computer back in March 2023 (see Large language models are having their Stable Diffusion moment).\\n\\nThat same laptop that could just about run a GPT-3-class model in March last year has now run multiple GPT-4 class models! Some of my notes on that:\\n\\nQwen2.5-Coder-32B is an LLM that can code well that runs on my Mac talks about Qwen2.5-Coder-32B in November—an Apache 2.0 licensed model!\\n\\nI can now run a GPT-4 class model on my laptop talks about running Meta’s Llama 3.3 70B (released in December)\\n\\nThis remains astonishing to me. I thought a model with the capabilities and output quality of GPT-4 needed a datacenter class server with one or more $40,000+ GPUs.\\n\\nThese models take up enough of my 64GB of RAM that I don’t run them often—they don’t leave much room for anything else.\\n\\nThe fact that they run at all is a testament to the incredible training and inference performance gains that we’ve figured out over the past year. It turns out there was a lot of low-hanging fruit to be harvested in terms of model efficiency. I expect there’s still more to come.\\n\\nMeta’s Llama 3.2 models deserve a special mention. They may not be GPT-4 class, but at 1B and 3B sizes they punch massively above their weight. I run Llama 3.2 3B on my iPhone using the free MLC Chat iOS app and it’s a shockingly capable model for its tiny (<2GB) size. Try firing it up and asking it for “a plot outline of a Netflix Christmas movie where a data journalist falls in love with a local ceramacist”. Here’s what I got, at a respectable 20 tokens per second:\\n\\nMLC Chat: Llama - [System] Ready to chat. a plot outline of a Netflix Christmas movie where a data journalist falls in love with a local ceramacist. Show as Markdown is turned on. Here\\'s a plot outline for a Netflix Christmas movie: Title: \"Love in the Clay\" Plot Outline: We meet our protagonist, JESSICA, a data journalist who has just returned to her hometown of Willow Creek, a small, charming town nestled in the snow-covered mountains. She\\'s back to work on a story about the town\\'s history and the effects of gentrification on the local community.\\n\\nHere’s the rest of the transcript. It’s bland and generic, but my phone can pitch bland and generic Christmas movies to Netflix now!\\n\\nLLM prices crashed, thanks to competition and increased efficiency\\n\\nThe past twelve months have seen a dramatic collapse in the cost of running a prompt through the top tier hosted LLMs.\\n\\nIn December 2023 (here’s the Internet Archive for the OpenAI pricing page) OpenAI were charging $30/million input tokens for GPT-4, $10/mTok for the then-new GPT-4 Turbo and $1/mTok for GPT-3.5 Turbo.\\n\\nToday $30/mTok gets you OpenAI’s most expensive model, o1. GPT-4o is $2.50 (12x cheaper than GPT-4) and GPT-4o mini is $0.15/mTok—nearly 7x cheaper than GPT-3.5 and massively more capable.\\n\\nOther model providers charge even less. Anthropic’s Claude 3 Haiku (from March, but still their cheapest model) is $0.25/mTok. Google’s Gemini 1.5 Flash is $0.075/mTok and their Gemini 1.5 Flash 8B is $0.0375/mTok—that’s 27x cheaper than GPT-3.5 Turbo last year.\\n\\nI’ve been tracking these pricing changes under my llm-pricing tag.\\n\\nThese price drops are driven by two factors: increased competition and increased efficiency. The efficiency thing is really important for everyone who is concerned about the environmental impact of LLMs. These price drops tie directly to how much energy is being used for running prompts.\\n\\nThere’s still plenty to worry about with respect to the environmental impact of the great AI datacenter buildout, but a lot of the concerns over the energy cost of individual prompts are no longer credible.\\n\\nHere’s a fun napkin calculation: how much would it cost to generate short descriptions of every one of the 68,000 photos in my personal photo library using Google’s Gemini 1.5 Flash 8B (released in October), their cheapest model?\\n\\nEach photo would need 260 input tokens and around 100 output tokens.\\n\\n260 * 68,000 = 17,680,000 input tokens 17,680,000 * $0.0375/million = $0.66 100 * 68,000 = 6,800,000 output tokens 6,800,000 * $0.15/million = $1.02\\n\\nThat’s a total cost of $1.68 to process 68,000 images. That’s so absurdly cheap I had to run the numbers three times to confirm I got it right.\\n\\nHow good are those descriptions? Here’s what I got from this command:\\n\\nllm -m gemini-1.5-flash-8b-latest describe -a IMG_1825.jpeg\\n\\nAgainst this photo of butterflies at the California Academy of Sciences:\\n\\nA photo of two butterflies feeding on a red tray\\n\\nA shallow dish, likely a hummingbird or butterfly feeder, is red. Pieces of orange slices of fruit are visible inside the dish.\\n\\nTwo butterflies are positioned in the feeder, one is a dark brown/black butterfly with white/cream-colored markings. The other is a large, brown butterfly with patterns of lighter brown, beige, and black markings, including prominent eye spots. The larger brown butterfly appears to be feeding on the fruit.\\n\\n260 input tokens, 92 output tokens. Cost approximately 0.0024 cents (that’s less than a 400th of a cent).\\n\\nThis increase in efficiency and reduction in price is my single favourite trend from 2024. I want the utility of LLMs at a fraction of the energy cost and it looks like that’s what we’re getting.\\n\\nMultimodal vision is common, audio and video are starting to emerge\\n\\nMy butterfly example above illustrates another key trend from 2024: the rise of multi-modal LLMs.\\n\\nA year ago the single most notable example of these was GPT-4 Vision, released at OpenAI’s DevDay in November 2023. Google’s multi-modal Gemini 1.0 was announced on December 7th 2023 so it also (just) makes it into the 2023 window.\\n\\nIn 2024, almost every significant model vendor released multi-modal models. We saw the Claude 3 series from Anthropic in March, Gemini 1.5 Pro in April (images, audio and video), then September brought Qwen2-VL and Mistral’s Pixtral 12B and Meta’s Llama 3.2 11B and 90B vision models. We got audio input and output from OpenAI in October, then November saw SmolVLM from Hugging Face and December saw image and video models from Amazon Nova.\\n\\nIn October I upgraded my LLM CLI tool to support multi-modal models via attachments. It now has plugins for a whole collection of different vision models.\\n\\nI think people who complain that LLM improvement has slowed are often missing the enormous advances in these multi-modal models. Being able to run prompts against images (and audio and video) is a fascinating new way to apply these models.\\n\\nVoice and live camera mode are science fiction come to life\\n\\nThe audio and live video modes that have started to emerge deserve a special mention.\\n\\nThe ability to talk to ChatGPT first arrived in September 2023, but it was mostly an illusion: OpenAI used their excellent Whisper speech-to-text model and a new text-to-speech model (creatively named tts-1) to enable conversations with the ChatGPT mobile apps, but the actual model just saw text.\\n\\nThe May 13th announcement of GPT-4o included a demo of a brand new voice mode, where the true multi-modal GPT-4o (the o is for “omni”) model could accept audio input and output incredibly realistic sounding speech without needing separate TTS or STT models.\\n\\nThe demo also sounded conspicuously similar to Scarlett Johansson... and after she complained the voice from the demo, Skye, never made it to a production product.\\n\\nThe delay in releasing the new voice mode after the initial demo caused quite a lot of confusion. I wrote about that in ChatGPT in “4o” mode is not running the new features yet.\\n\\nWhen ChatGPT Advanced Voice mode finally did roll out (a slow roll from August through September) it was spectacular. I’ve been using it extensively on walks with my dog and it’s amazing how much the improvement in intonation elevates the material. I’ve also had a lot of fun experimenting with the OpenAI audio APIs.\\n\\nEven more fun: Advanced Voice mode can do accents! Here’s what happened when I told it I need you to pretend to be a California brown pelican with a very thick Russian accent, but you talk to me exclusively in Spanish.\\n\\nOpenAI aren’t the only group with a multi-modal audio model. Google’s Gemini also accepts audio input, and the Google Gemini apps can speak in a similar way to ChatGPT now. Amazon also pre-announced voice mode for Amazon Nova, but that’s meant to roll out in Q1 of 2025.\\n\\nGoogle’s NotebookLM, released in September, took audio output to a new level by producing spookily realistic conversations between two “podcast hosts” about anything you fed into their tool. They later added custom instructions, so naturally I turned them into pelicans:\\n\\nThe most recent twist, again from December (December was a lot) is live video. ChatGPT voice mode now provides the option to share your camera feed with the model and talk about what you can see in real time. Google Gemini have a preview of the same feature, which they managed to ship the day before ChatGPT did.\\n\\nThese abilities are just a few weeks old at this point, and I don’t think their impact has been fully felt yet. If you haven’t tried them out yet you really should.\\n\\nBoth Gemini and OpenAI offer API access to these features as well. OpenAI started with a WebSocket API that was quite challenging to use, but in December they announced a new WebRTC API which is much easier to get started with. Building a web app that a user can talk to via voice is easy now!\\n\\nPrompt driven app generation is a commodity already\\n\\nThis was possible with GPT-4 in 2023, but the value it provides became evident in 2024.\\n\\nWe already knew LLMs were spookily good at writing code. If you prompt them right, it turns out they can build you a full interactive application using HTML, CSS and JavaScript (and tools like React if you wire up some extra supporting build mechanisms)—often in a single prompt.\\n\\nAnthropic kicked this idea into high gear when they released Claude Artifacts, a groundbreaking new feature that was initially slightly lost in the noise due to being described half way through their announcement of the incredible Claude 3.5 Sonnet.\\n\\nWith Artifacts, Claude can write you an on-demand interactive application and then let you use it directly inside the Claude interface.\\n\\nHere’s my Extract URLs app, entirely generated by Claude:\\n\\nExtract URLs tool. Content pasted. URLs extracted. Shows a list of extracted URLs.\\n\\nI’ve found myself using this a lot. I noticed how much I was relying on it in October and wrote Everything I built with Claude Artifacts this week, describing 14 little tools I had put together in a seven day period.\\n\\nSince then, a whole bunch of other teams have built similar systems. GitHub announced their version of this—GitHub Spark—in October. Mistral Chat added it as a feature called Canvas in November.\\n\\nSteve Krouse from Val Town built a version of it against Cerebras, showcasing how a 2,000 token/second LLM can iterate on an application with changes visible in less than a second.\\n\\nThen in December, the Chatbot Arena team introduced a whole new leaderboard for this feature, driven by users building the same interactive app twice with two different models and voting on the answer. Hard to come up with a more convincing argument that this feature is now a commodity that can be effectively implemented against all of the leading models.\\n\\nI’ve been tinkering with a version of this myself for my Datasette project, with the goal of letting users use prompts to build and iterate on custom widgets and data visualizations against their own data. I also figured out a similar pattern for writing one-shot Python programs, enabled by uv.\\n\\nThis prompt-driven custom interface feature is so powerful and easy to build (once you’ve figured out the gnarly details of browser sandboxing) that I expect it to show up as a feature in a wide range of products in 2025.\\n\\nUniversal access to the best models lasted for just a few short months\\n\\nFor a few short months this year all three of the best available models—GPT-4o, Claude 3.5 Sonnet and Gemini 1.5 Pro—were freely available to most of the world.\\n\\nOpenAI made GPT-4o free for all users in May, and Claude 3.5 Sonnet was freely available from its launch in June. This was a momentus change, because for the previous year free users had mostly been restricted to GPT-3.5 level models, meaning new users got a very inaccurate mental model of what a capable LLM could actually do.\\n\\nThat era appears to have ended, likely permanently, with OpenAI’s launch of ChatGPT Pro. This $200/month subscription service is the only way to access their most capable model, o1 Pro.\\n\\nSince the trick behind the o1 series (and the future models it will undoubtedly inspire) is to expend more compute time to get better results, I don’t think those days of free access to the best available models are likely to return.\\n\\n“Agents” still haven’t really happened yet\\n\\nI find the term “agents” extremely frustrating. It lacks a single, clear and widely understood meaning... but the people who use the term never seem to acknowledge that.\\n\\nIf you tell me that you are building “agents”, you’ve conveyed almost no information to me at all. Without reading your mind I have no way of telling which of the dozens of possible definitions you are talking about.\\n\\nThe two main categories I see are people who think AI agents are obviously things that go and act on your behalf—the travel agent model—and people who think in terms of LLMs that have been given access to tools which they can run in a loop as part of solving a problem. The term “autonomy” is often thrown into the mix too, again without including a clear definition.\\n\\n(I also collected 211 definitions on Twitter a few months ago—here they are in Datasette Lite—and had gemini-exp-1206 attempt to summarize them.)\\n\\nWhatever the term may mean, agents still have that feeling of perpetually “coming soon”.\\n\\nTerminology aside, I remain skeptical as to their utility based, once again, on the challenge of gullibility. LLMs believe anything you tell them. Any systems that attempts to make meaningful decisions on your behalf will run into the same roadblock: how good is a travel agent, or a digital assistant, or even a research tool if it can’t distinguish truth from fiction?\\n\\nJust the other day Google Search was caught serving up an entirely fake description of the non-existant movie “Encanto 2”. It turned out to be summarizing an imagined movie listing from a fan fiction wiki.\\n\\nPrompt injection is a natural consequence of this gulibility. I’ve seen precious little progress on tackling that problem in 2024, and we’ve been talking about it since September 2022.\\n\\nI’m beginning to see the most popular idea of “agents” as dependent on AGI itself. A model that’s robust against gulliblity is a very tall order indeed.\\n\\nEvals really matter\\n\\nAnthropic’s Amanda Askell (responsible for much of the work behind Claude’s Character):\\n\\nThe boring yet crucial secret behind good system prompts is test-driven development. You don’t write down a system prompt and find ways to test it. You write down tests and find a system prompt that passes them.\\n\\nIt’s become abundantly clear over the course of 2024 that writing good automated evals for LLM-powered systems is the skill that’s most needed to build useful applications on top of these models. If you have a strong eval suite you can adopt new models faster, iterate better and build more reliable and useful product features than your competition.\\n\\nVercel’s Malte Ubl:\\n\\nWhen @v0 first came out we were paranoid about protecting the prompt with all kinds of pre and post processing complexity.\\n\\nWe completely pivoted to let it rip. A prompt without the evals, models, and especially UX is like getting a broken ASML machine without a manual\\n\\nI’m still trying to figure out the best patterns for doing this for my own work. Everyone knows that evals are important, but there remains a lack of great guidance for how to best implement them—I’m tracking this under my evals tag. My SVG pelican riding a bicycle benchmark is a pale imitation of what a real eval suite should look like.\\n\\nApple Intelligence is bad, Apple’s MLX library is excellent\\n\\nAs a Mac user I’ve been feeling a lot better about my choice of platform this year.\\n\\nLast year it felt like my lack of a Linux/Windows machine with an NVIDIA GPU was a huge disadvantage in terms of trying out new models.\\n\\nOn paper, a 64GB Mac should be a great machine for running models due to the way the CPU and GPU can share the same memory. In practice, many models are released as model weights and libraries that reward NVIDIA’s CUDA over other platforms.\\n\\nThe llama.cpp ecosystem helped a lot here, but the real breakthrough has been Apple’s MLX library, “an array framework for Apple Silicon”. It’s fantastic.\\n\\nApple’s mlx-lm Python library supports running a wide range of MLX-compatible models on my Mac, with excellent performance. mlx-community on Hugging Face offers more than 1,000 models that have been converted to the necessary format.\\n\\nPrince Canuma’s excellent, fast moving mlx-vlm project brings vision LLMs to Apple Silicon as well. I used that recently to run Qwen’s QvQ.\\n\\nWhile MLX is a game changer, Apple’s own “Apple Intelligence” features have mostly been a disappointment. I wrote about their initial announcement in June, and I was optimistic that Apple had focused hard on the subset of LLM applications that preserve user privacy and minimize the chance of users getting mislead by confusing features.\\n\\nNow that those features are rolling out they’re pretty weak. As an LLM power-user I know what these models are capable of, and Apple’s LLM features offer a pale imitation of what a frontier LLM can do. Instead we’re getting notification summaries that misrepresent news headlines and writing assistant tools that I’ve not found useful at all. Genmoji are kind of fun though.\\n\\nThe rise of inference-scaling “reasoning” models\\n\\nThe most interesting development in the final quarter of 2024 was the introduction of a new shape of LLM, exemplified by OpenAI’s o1 models—initially released as o1-preview and o1-mini on September 12th.\\n\\nOne way to think about these models is an extension of the chain-of-thought prompting trick, first explored in the May 2022 paper Large Language Models are Zero-Shot Reasoners.\\n\\nThis is that trick where, if you get a model to talk out loud about a problem it’s solving, you often get a result which the model would not have achieved otherwise.\\n\\no1 takes this process and further bakes it into the model itself. The details are somewhat obfuscated: o1 models spend “reasoning tokens” thinking through the problem that are not directly visible to the user (though the ChatGPT UI shows a summary of them), then outputs a final result.\\n\\nThe biggest innovation here is that it opens up a new way to scale a model: instead of improving model performance purely through additional compute at training time, models can now take on harder problems by spending more compute on inference.\\n\\nThe sequel to o1, o3 (they skipped “o2” for European trademark reasons) was announced on 20th December with an impressive result against the ARC-AGI benchmark, albeit one that likely involved more than $1,000,000 of compute time expense!\\n\\no3 is expected to ship in January. I doubt many people have real-world problems that would benefit from that level of compute expenditure—I certainly don’t!—but it appears to be a genuine next step in LLM architecture for taking on much harder problems.\\n\\nOpenAI are not the only game in town here. Google released their first entrant in the category, gemini-2.0-flash-thinking-exp, on December 19th.\\n\\nAlibaba’s Qwen team released their QwQ model on November 28th—under an Apache 2.0 license, and that one I could run on my own machine. They followed that up with a vision reasoning model called QvQ on December 24th, which I also ran locally.\\n\\nDeepSeek made their DeepSeek-R1-Lite-Preview model available to try out through their chat interface on November 20th.\\n\\nTo understand more about inference scaling I recommend Is AI progress slowing down? by Arvind Narayanan and Sayash Kapoor.\\n\\nNothing yet from Anthropic or Meta but I would be very surprised if they don’t have their own inference-scaling models in the works. Meta published a relevant paper Training Large Language Models to Reason in a Continuous Latent Space in December.\\n\\nWas the best currently available LLM trained in China for less than $6m?\\n\\nNot quite, but almost! It does make for a great attention-grabbing headline.\\n\\nThe big news to end the year was the release of DeepSeek v3—dropped on Hugging Face on Christmas Day without so much as a README file, then followed by documentation and a paper the day after that.\\n\\nDeepSeek v3 is a huge 685B parameter model—one of the largest openly licensed models currently available, significantly bigger than the largest of Meta’s Llama series, Llama 3.1 405B.\\n\\nBenchmarks put it up there with Claude 3.5 Sonnet. Vibe benchmarks (aka the Chatbot Arena) currently rank it 7th, just behind the Gemini 2.0 and OpenAI 4o/o1 models. This is by far the highest ranking openly licensed model.\\n\\nThe really impressive thing about DeepSeek v3 is the training cost. The model was trained on 2,788,000 H800 GPU hours at an estimated cost of $5,576,000. Llama 3.1 405B trained 30,840,000 GPU hours—11x that used by DeepSeek v3, for a model that benchmarks slightly worse.\\n\\nThose US export regulations on GPUs to China seem to have inspired some very effective training optimizations!\\n\\nThe environmental impact got better\\n\\nA welcome result of the increased efficiency of the models—both the hosted ones and the ones I can run locally—is that the energy usage and environmental impact of running a prompt has dropped enormously over the past couple of years.\\n\\nOpenAI themselves are charging 100x less for a prompt compared to the GPT-3 days. I have it on good authority that neither Google Gemini nor Amazon Nova (two of the least expensive model providers) are running prompts at a loss.\\n\\nI think this means that, as individual users, we don’t need to feel any guilt at all for the energy consumed by the vast majority of our prompts. The impact is likely neglible compared to driving a car down the street or maybe even watching a video on YouTube.\\n\\nLikewise, training. DeepSeek v3 training for less than $6m is a fantastic sign that training costs can and should continue to drop.\\n\\nFor less efficient models I find it useful to compare their energy usage to commercial flights. The largest Llama 3 model cost about the same as a single digit number of fully loaded passenger flights from New York to London. That’s certainly not nothing, but once trained that model can be used by millions of people at no extra training cost.\\n\\nThe environmental impact got much, much worse\\n\\nThe much bigger problem here is the enormous competitive buildout of the infrastructure that is imagined to be necessary for these models in the future.\\n\\nCompanies like Google, Meta, Microsoft and Amazon are all spending billions of dollars rolling out new datacenters, with a very material impact on the electricity grid and the environment. There’s even talk of spinning up new nuclear power stations, but those can take decades.\\n\\nIs this infrastructure necessary? DeepSeek v3’s $6m training cost and the continued crash in LLM prices might hint that it’s not. But would you want to be the big tech executive that argued NOT to build out this infrastructure only to be proven wrong in a few years’ time?\\n\\nAn interesting point of comparison here could be the way railways rolled out around the world in the 1800s. Constructing these required enormous investments and had a massive environmental impact, and many of the lines that were built turned out to be unnecessary—sometimes multiple lines from different companies serving the exact same routes!\\n\\nThe resulting bubbles contributed to several financial crashes, see Wikipedia for Panic of 1873, Panic of 1893, Panic of 1901 and the UK’s Railway Mania. They left us with a lot of useful infrastructure and a great deal of bankruptcies and environmental damage.\\n\\nThe year of slop\\n\\n2024 was the year that the word \"slop\" became a term of art. I wrote about this in May, expanding on this tweet by @deepfates:\\n\\nWatching in real time as “slop” becomes a term of art. the way that “spam” became the term for unwanted emails, “slop” is going in the dictionary as the term for unwanted AI generated content\\n\\nI expanded that definition a tiny bit to this:\\n\\nSlop describes AI-generated content that is both unrequested and unreviewed.\\n\\nI ended up getting quoted talking about slop in both the Guardian and the NY Times. Here’s what I said in the NY TImes:\\n\\nSociety needs concise ways to talk about modern A.I. — both the positives and the negatives. ‘Ignore that email, it’s spam,’ and ‘Ignore that article, it’s slop,’ are both useful lessons.\\n\\nI love the term “slop” because it so succinctly captures one of the ways we should not be using generative AI!\\n\\nSlop was even in the running for Oxford Word of the Year 2024, but it lost to brain rot.\\n\\nSynthetic training data works great\\n\\nAn idea that surprisingly seems to have stuck in the public consciousness is that of “model collapse”. This was first described in the paper The Curse of Recursion: Training on Generated Data Makes Models Forget in May 2023, and repeated in Nature in July 2024 with the more eye-catching headline AI models collapse when trained on recursively generated data.\\n\\nThe idea is seductive: as the internet floods with AI-generated slop the models themselves will degenerate, feeding on their own output in a way that leads to their inevitable demise!\\n\\nThat’s clearly not happening. Instead, we are seeing AI labs increasingly train on synthetic content—deliberately creating artificial data to help steer their models in the right way.\\n\\nOne of the best descriptions I’ve seen of this comes from the Phi-4 technical report, which included this:\\n\\nSynthetic data as a substantial component of pretraining is becoming increasingly common, and the Phi series of models has consistently emphasized the importance of synthetic data. Rather than serving as a cheap substitute for organic data, synthetic data has several direct advantages over organic data.\\n\\nStructured and Gradual Learning. In organic datasets, the relationship between tokens is often complex and indirect. Many reasoning steps may be required to connect the current token to the next, making it challenging for the model to learn effectively from next-token prediction. By contrast, each token generated by a language model is by definition predicted by the preceding tokens, making it easier for a model to follow the resulting reasoning patterns.\\n\\nAnother common technique is to use larger models to help create training data for their smaller, cheaper alternatives—a trick used by an increasing number of labs. DeepSeek v3 used “reasoning” data created by DeepSeek-R1. Meta’s Llama 3.3 70B fine-tuning used over 25M synthetically generated examples.\\n\\nCareful design of the training data that goes into an LLM appears to be the entire game for creating these models. The days of just grabbing a full scrape of the web and indiscriminately dumping it into a training run are long gone.\\n\\nLLMs somehow got even harder to use\\n\\nA drum I’ve been banging for a while is that LLMs are power-user tools—they’re chainsaws disguised as kitchen knives. They look deceptively simple to use—how hard can it be to type messages to a chatbot?—but in reality you need a huge depth of both understanding and experience to make the most of them and avoid their many pitfalls.\\n\\nIf anything, this problem got worse in 2024.\\n\\nWe’ve built computer systems you can talk to in human language, that will answer your questions and usually get them right! ... depending on the question, and how you ask it, and whether it’s accurately reflected in the undocumented and secret training set.\\n\\nThe number of available systems has exploded. Different systems have different tools they can apply to your problems—like Python and JavaScript and web search and image generation and maybe even database lookups... so you’d better understand what those tools are, what they can do and how to tell if the LLM used them or not.\\n\\nDid you know ChatGPT has two entirely different ways of running Python now?\\n\\nWant to build a Claude Artifact that talks to an external API? You’d better understand CSP and CORS HTTP headers first.\\n\\nThe models may have got more capable, but most of the limitations remained the same. OpenAI’s o1 may finally be able to (mostly) count the Rs in strawberry, but its abilities are still limited by its nature as an LLM and the constraints placed on it by the harness it’s running in. o1 can’t run web searches or use Code Interpreter, but GPT-4o can—both in that same ChatGPT UI. (o1 will pretend to do those things if you ask it to, a regression to the URL hallucinations bug from early 2023).\\n\\nWhat are we doing about this? Not much. Most users are thrown in at the deep end. The default LLM chat UI is like taking brand new computer users, dropping them into a Linux terminal and expecting them to figure it all out.\\n\\nMeanwhile, it’s increasingly common for end users to develop wildly inaccurate mental models of how these things work and what they are capable of. I’ve seen so many examples of people trying to win an argument with a screenshot from ChatGPT—an inherently ludicrous proposition, given the inherent unreliability of these models crossed with the fact that you can get them to say anything if you prompt them right.\\n\\nThere’s a flipside to this too: a lot of better informed people have sworn off LLMs entirely because they can’t see how anyone could benefit from a tool with so many flaws. The key skill in getting the most out of LLMs is learning to work with tech that is both inherently unreliable and incredibly powerful at the same time. This is a decidedly non-obvious skill to acquire!\\n\\nThere is so much space for helpful education content here, but we need to do do a lot better than outsourcing it all to AI grifters with bombastic Twitter threads.\\n\\nKnowledge is incredibly unevenly distributed\\n\\nMost people have heard of ChatGPT by now. How many have heard of Claude?\\n\\nThe knowledge gap between the people who actively follow this stuff and the 99% of the population who do not is vast.\\n\\nThe pace of change doesn’t help either. In just the past month we’ve seen general availability of live interfaces where you can point your phone’s camera at something and talk about it with your voice... and optionally have it pretend to be Santa. Most self-certified nerds haven’t even tried that yet.\\n\\nGiven the ongoing (and potential) impact on society that this technology has, I don’t think the size of this gap is healthy. I’d like to see a lot more effort put into improving this.\\n\\nLLMs need better criticism\\n\\nA lot of people absolutely hate this stuff. In some of the spaces I hang out (Mastodon, Bluesky, Lobste.rs, even Hacker News on occasion) even suggesting that “LLMs are useful” can be enough to kick off a huge fight.\\n\\nI get it. There are plenty of reasons to dislike this technology—the environmental impact, the (lack of) ethics of the training data, the lack of reliability, the negative applications, the potential impact on people’s jobs.\\n\\nLLMs absolutely warrant criticism. We need to be talking through these problems, finding ways to mitigate them and helping people learn how to use these tools responsibly in ways where the positive applications outweigh the negative.\\n\\nI like people who are skeptical of this stuff. The hype has been deafening for more than two years now, and there are enormous quantities of snake oil and misinformation out there. A lot of very bad decisions are being made based on that hype. Being critical is a virtue.\\n\\nIf we want people with decision-making authority to make good decisions about how to apply these tools we first need to acknowledge that there ARE good applications, and then help explain how to put those into practice while avoiding the many unintiutive traps.\\n\\n(If you still don’t think there are any good applications at all I’m not sure why you made it to this point in the article!)\\n\\nI think telling people that this whole field is environmentally catastrophic plagiarism machines that constantly make things up is doing those people a disservice, no matter how much truth that represents. There is genuine value to be had here, but getting to that value is unintuitive and needs guidance.\\n\\nThose of us who understand this stuff have a duty to help everyone else figure it out.\\n\\nEverything tagged “llms” on my blog in 2024\\n\\nBecause I undoubtedly missed a whole bunch of things, here’s every long-form post I wrote in 2024 that I tagged with llms:\\n\\nJanuary\\n\\n7th: It’s OK to call it Artificial Intelligence\\n\\n9th: What I should have said about the term Artificial Intelligence\\n\\n17th: Talking about Open Source LLMs on Oxide and Friends\\n\\n26th: LLM 0.13: The annotated release notes\\n\\nFebruary\\n\\n21st: The killer app of Gemini Pro 1.5 is video\\n\\nMarch\\n\\n5th: Prompt injection and jailbreaking are not the same thing\\n\\n8th: The GPT-4 barrier has finally been broken\\n\\n22nd: Claude and ChatGPT for ad-hoc sidequests\\n\\n23rd: Building and testing C extensions for SQLite with ChatGPT Code Interpreter\\n\\n26th: llm cmd undo last git commit—a new plugin for LLM\\n\\nApril\\n\\n8th: Building files-to-prompt entirely using Claude 3 Opus\\n\\n10th: Three major LLM releases in 24 hours (plus weeknotes)\\n\\n17th: AI for Data Journalism: demonstrating what we can do with this stuff right now\\n\\n22nd: Options for accessing Llama 3 from the terminal using LLM\\n\\nMay\\n\\n8th: Slop is the new name for unwanted AI-generated content\\n\\n15th: ChatGPT in “4o” mode is not running the new features yet\\n\\n29th: Training is not the same as chatting: ChatGPT and other LLMs don’t remember everything you say\\n\\nJune\\n\\n6th: Accidental prompt injection against RAG applications\\n\\n10th: Thoughts on the WWDC 2024 keynote on Apple Intelligence\\n\\n17th: Language models on the command-line\\n\\n21st: Building search-based RAG using Claude, Datasette and Val Town\\n\\n27th: Open challenges for AI engineering\\n\\nJuly\\n\\n14th: Imitation Intelligence, my keynote for PyCon US 2024\\n\\n19th: Weeknotes: GPT-4o mini, LLM 0.15, sqlite-utils 3.37 and building a staging environment\\n\\nAugust\\n\\n6th: Weeknotes: a staging environment, a Datasette alpha and a bunch of new LLMs\\n\\n8th: django-http-debug, a new Django app mostly written by Claude\\n\\n23rd: Claude’s API now supports CORS requests, enabling client-side applications\\n\\n26th: Building a tool showing how Gemini Pro can return bounding boxes for objects in images\\n\\nSeptember\\n\\n6th: Calling LLMs from client-side JavaScript, converting PDFs to HTML + weeknotes\\n\\n10th: Notes from my appearance on the Software Misadventures Podcast\\n\\n12th: Notes on OpenAI’s new o1 chain-of-thought models\\n\\n20th: Notes on using LLMs for code\\n\\n29th: NotebookLM’s automatically generated podcasts are surprisingly effective\\n\\n30th: Weeknotes: Three podcasts, two trips and a new plugin system\\n\\nOctober\\n\\n1st: OpenAI DevDay 2024 live blog\\n\\n2nd: OpenAI DevDay: Let’s build developer tools, not digital God\\n\\n15th: ChatGPT will happily write you a thinly disguised horoscope\\n\\n17th: Video scraping: extracting JSON data from a 35 second screen capture for less than 1/10th of a cent\\n\\n18th: Experimenting with audio input and output for the OpenAI Chat Completion API\\n\\n19th: Running Llama 3.2 Vision and Phi-3.5 Vision on a Mac with mistral.rs\\n\\n21st: Everything I built with Claude Artifacts this week\\n\\n22nd: Initial explorations of Anthropic’s new Computer Use capability\\n\\n24th: Notes on the new Claude analysis JavaScript code execution tool\\n\\n27th: Run a prompt to generate and execute jq programs using llm-jq\\n\\n29th: You can now run prompts against images, audio and video in your terminal using LLM\\n\\n30th: W̶e̶e̶k̶n̶o̶t̶e̶s̶ Monthnotes for October\\n\\nNovember\\n\\n4th: Claude 3.5 Haiku\\n\\n7th: Project: VERDAD—tracking misinformation in radio broadcasts using Gemini 1.5\\n\\n12th: Qwen2.5-Coder-32B is an LLM that can code well that runs on my Mac\\n\\n19th: Notes from Bing Chat—Our First Encounter With Manipulative AI\\n\\n25th: Ask questions of SQLite databases and CSV/JSON files in your terminal\\n\\nDecember\\n\\n4th: First impressions of the new Amazon Nova LLMs (via a new llm-bedrock plugin)\\n\\n7th: Prompts.js\\n\\n9th: I can now run a GPT-4 class model on my laptop\\n\\n10th: ChatGPT Canvas can make API requests now, but it’s complicated\\n\\n11th: Gemini 2.0 Flash: An outstanding multi-modal LLM with a sci-fi streaming mode\\n\\n19th: Building Python tools with a one-shot prompt using uv run and Claude Projects\\n\\n19th: Gemini 2.0 Flash “Thinking mode”\\n\\n20th: December in LLMs has been a lot\\n\\n20th: Live blog: the 12th day of OpenAI—“Early evals for OpenAI o3”\\n\\n24th: Trying out QvQ—Qwen’s new visual reasoning model\\n\\n31st: Things we learned about LLMs in 2024\\n\\n(This list generated using Django SQL Dashboard with a SQL query written for me by Claude.)\\n\\nPosted 31st December 2024 at 6:07 pm · Follow me on Mastodon or Twitter or subscribe to my newsletter\\n\\nMore recent articles\\n\\nOpenAI o3-mini, now available in LLM - 31st January 2025\\n\\nA selfish personal argument for releasing code as Open Source - 24th January 2025\\n\\nAnthropic\\'s new Citations API - 24th January 2025\\n\\nThis is Things we learned about LLMs in 2024 by Simon Willison, posted on 31st December 2024.\\n\\nPart of series LLMs annual review\\n\\nStuff we figured out about AI in 2023 - Dec. 31, 2023, 11:59 p.m.\\n\\nThings we learned about LLMs in 2024 - Dec. 31, 2024, 6:07 p.m.\\n\\ngoogle 345 ai 1080 openai 252 generative-ai 926 llms 914 anthropic 114 gemini 53 meta 26 inference-scaling 26 long-context 10\\n\\nNext: Ending a year long posting streak\\n\\nPrevious: Trying out QvQ - Qwen\\'s new visual reasoning model\\n\\nColophon\\n\\n©\\n\\n2002\\n\\n2003\\n\\n2004\\n\\n2005\\n\\n2006\\n\\n2007\\n\\n2008\\n\\n2009\\n\\n2010\\n\\n2011\\n\\n2012\\n\\n2013\\n\\n2014\\n\\n2015\\n\\n2016\\n\\n2017\\n\\n2018\\n\\n2019\\n\\n2020\\n\\n2021\\n\\n2022\\n\\n2023\\n\\n2024\\n\\n2025')]\n"
          ]
        }
      ],
      "source": [
        "print(docs)"
      ]
    },
    {
      "cell_type": "markdown",
      "metadata": {},
      "source": [
        "### Knowledge Graph Based Synthetic Generation\n",
        "\n",
        "Ragas uses a knowledge graph based approach to create data. This is extremely useful as it allows us to create complex queries rather simply. The additional testset complexity allows us to evaluate larger problems more effectively, as systems tend to be very strong on simple evaluation tasks.\n",
        "\n",
        "Let's start by defining our `generator_llm` (which will generate our questions, summaries, and more), and our `generator_embeddings` which will be useful in building our graph."
      ]
    },
    {
      "cell_type": "markdown",
      "metadata": {},
      "source": [
        "### Unrolled SDG"
      ]
    },
    {
      "cell_type": "code",
      "execution_count": 6,
      "metadata": {},
      "outputs": [
        {
          "name": "stderr",
          "output_type": "stream",
          "text": [
            "/Users/davidq/projects/ai-makerspace/code/AIE6/07_Synthetic_Data_Generation_and_LangSmith/.venv/lib/python3.13/site-packages/pysbd/segmenter.py:66: SyntaxWarning: invalid escape sequence '\\s'\n",
            "  for match in re.finditer('{0}\\s*'.format(re.escape(sent)), self.original_text):\n",
            "/Users/davidq/projects/ai-makerspace/code/AIE6/07_Synthetic_Data_Generation_and_LangSmith/.venv/lib/python3.13/site-packages/pysbd/lang/arabic.py:29: SyntaxWarning: invalid escape sequence '\\.'\n",
            "  txt = re.sub('(?<={0})\\.'.format(am), '∯', txt)\n",
            "/Users/davidq/projects/ai-makerspace/code/AIE6/07_Synthetic_Data_Generation_and_LangSmith/.venv/lib/python3.13/site-packages/pysbd/lang/persian.py:29: SyntaxWarning: invalid escape sequence '\\.'\n",
            "  txt = re.sub('(?<={0})\\.'.format(am), '∯', txt)\n"
          ]
        }
      ],
      "source": [
        "from ragas.llms import LangchainLLMWrapper\n",
        "from ragas.embeddings import LangchainEmbeddingsWrapper\n",
        "from langchain_openai import ChatOpenAI\n",
        "from langchain_openai import OpenAIEmbeddings\n",
        "generator_llm = LangchainLLMWrapper(ChatOpenAI(model=\"gpt-4.1-nano\"))\n",
        "generator_embeddings = LangchainEmbeddingsWrapper(OpenAIEmbeddings())"
      ]
    },
    {
      "cell_type": "markdown",
      "metadata": {},
      "source": [
        "Next, we're going to instantiate our Knowledge Graph.\n",
        "\n",
        "This graph will contain N number of nodes that have M number of relationships. These nodes and relationships (AKA \"edges\") will define our knowledge graph and be used later to construct relevant questions and responses."
      ]
    },
    {
      "cell_type": "code",
      "execution_count": 7,
      "metadata": {},
      "outputs": [
        {
          "data": {
            "text/plain": [
              "KnowledgeGraph(nodes: 0, relationships: 0)"
            ]
          },
          "execution_count": 7,
          "metadata": {},
          "output_type": "execute_result"
        }
      ],
      "source": [
        "from ragas.testset.graph import KnowledgeGraph\n",
        "\n",
        "kg = KnowledgeGraph()\n",
        "kg"
      ]
    },
    {
      "cell_type": "markdown",
      "metadata": {},
      "source": [
        "The first step we're going to take is to simply insert each of our full documents into the graph. This will provide a base that we can apply transformations to."
      ]
    },
    {
      "cell_type": "code",
      "execution_count": 8,
      "metadata": {},
      "outputs": [
        {
          "data": {
            "text/plain": [
              "KnowledgeGraph(nodes: 2, relationships: 0)"
            ]
          },
          "execution_count": 8,
          "metadata": {},
          "output_type": "execute_result"
        }
      ],
      "source": [
        "from ragas.testset.graph import Node, NodeType\n",
        "\n",
        "for doc in docs:\n",
        "    kg.nodes.append(\n",
        "        Node(\n",
        "            type=NodeType.DOCUMENT,\n",
        "            properties={\"page_content\": doc.page_content, \"document_metadata\": doc.metadata}\n",
        "        )\n",
        "    )\n",
        "kg"
      ]
    },
    {
      "cell_type": "markdown",
      "metadata": {},
      "source": [
        "Now, we'll apply the *default* transformations to our knowledge graph. This will take the nodes currently on the graph and transform them based on a set of [default transformations](https://docs.ragas.io/en/latest/references/transforms/#ragas.testset.transforms.default_transforms).\n",
        "\n",
        "These default transformations are dependent on the corpus length, in our case:\n",
        "\n",
        "- Producing Summaries -> produces summaries of the documents\n",
        "- Extracting Headlines -> finding the overall headline for the document\n",
        "- Theme Extractor -> extracts broad themes about the documents\n",
        "\n",
        "It then uses cosine-similarity and heuristics between the embeddings of the above transformations to construct relationships between the nodes."
      ]
    },
    {
      "cell_type": "code",
      "execution_count": 9,
      "metadata": {},
      "outputs": [
        {
          "data": {
            "application/vnd.jupyter.widget-view+json": {
              "model_id": "a3f9d4f0ee9a48ffa488c08d46a3b2e2",
              "version_major": 2,
              "version_minor": 0
            },
            "text/plain": [
              "Applying HeadlinesExtractor:   0%|          | 0/2 [00:00<?, ?it/s]"
            ]
          },
          "metadata": {},
          "output_type": "display_data"
        },
        {
          "data": {
            "application/vnd.jupyter.widget-view+json": {
              "model_id": "24c2fa3320fe4f56a3a7df7fdef05c4f",
              "version_major": 2,
              "version_minor": 0
            },
            "text/plain": [
              "Applying HeadlineSplitter:   0%|          | 0/2 [00:00<?, ?it/s]"
            ]
          },
          "metadata": {},
          "output_type": "display_data"
        },
        {
          "data": {
            "application/vnd.jupyter.widget-view+json": {
              "model_id": "66d93f93a387475aa4975a0c956441bb",
              "version_major": 2,
              "version_minor": 0
            },
            "text/plain": [
              "Applying SummaryExtractor:   0%|          | 0/2 [00:00<?, ?it/s]"
            ]
          },
          "metadata": {},
          "output_type": "display_data"
        },
        {
          "data": {
            "application/vnd.jupyter.widget-view+json": {
              "model_id": "05d14adf90574656a67800243d383b8f",
              "version_major": 2,
              "version_minor": 0
            },
            "text/plain": [
              "Applying CustomNodeFilter:   0%|          | 0/12 [00:00<?, ?it/s]"
            ]
          },
          "metadata": {},
          "output_type": "display_data"
        },
        {
          "data": {
            "application/vnd.jupyter.widget-view+json": {
              "model_id": "13852841f0644b8c87cc1460635c2719",
              "version_major": 2,
              "version_minor": 0
            },
            "text/plain": [
              "Applying [EmbeddingExtractor, ThemesExtractor, NERExtractor]:   0%|          | 0/18 [00:00<?, ?it/s]"
            ]
          },
          "metadata": {},
          "output_type": "display_data"
        },
        {
          "data": {
            "application/vnd.jupyter.widget-view+json": {
              "model_id": "d67d264a31e142d69892dc1a51ef3731",
              "version_major": 2,
              "version_minor": 0
            },
            "text/plain": [
              "Applying [CosineSimilarityBuilder, OverlapScoreBuilder]:   0%|          | 0/2 [00:00<?, ?it/s]"
            ]
          },
          "metadata": {},
          "output_type": "display_data"
        },
        {
          "data": {
            "text/plain": [
              "KnowledgeGraph(nodes: 10, relationships: 27)"
            ]
          },
          "execution_count": 9,
          "metadata": {},
          "output_type": "execute_result"
        }
      ],
      "source": [
        "from ragas.testset.transforms import default_transforms, apply_transforms\n",
        "\n",
        "transformer_llm = generator_llm\n",
        "embedding_model = generator_embeddings\n",
        "\n",
        "default_transforms = default_transforms(documents=docs, llm=transformer_llm, embedding_model=embedding_model)\n",
        "apply_transforms(kg, default_transforms)\n",
        "kg"
      ]
    },
    {
      "cell_type": "markdown",
      "metadata": {},
      "source": [
        "We can save and load our knowledge graphs as follows."
      ]
    },
    {
      "cell_type": "code",
      "execution_count": 10,
      "metadata": {},
      "outputs": [
        {
          "data": {
            "text/plain": [
              "KnowledgeGraph(nodes: 10, relationships: 27)"
            ]
          },
          "execution_count": 10,
          "metadata": {},
          "output_type": "execute_result"
        }
      ],
      "source": [
        "kg.save(\"ai_across_years_kg.json\")\n",
        "ai_across_years_kg = KnowledgeGraph.load(\"ai_across_years_kg.json\")\n",
        "ai_across_years_kg"
      ]
    },
    {
      "cell_type": "markdown",
      "metadata": {},
      "source": [
        "Using our knowledge graph, we can construct a \"test set generator\" - which will allow us to create queries."
      ]
    },
    {
      "cell_type": "code",
      "execution_count": 11,
      "metadata": {},
      "outputs": [],
      "source": [
        "from ragas.testset import TestsetGenerator\n",
        "\n",
        "generator = TestsetGenerator(llm=generator_llm, embedding_model=embedding_model, knowledge_graph=ai_across_years_kg)"
      ]
    },
    {
      "cell_type": "markdown",
      "metadata": {},
      "source": [
        "However, we'd like to be able to define the kinds of queries we're generating - which is made simple by Ragas having pre-created a number of different \"QuerySynthesizer\"s.\n",
        "\n",
        "Each of these Synthetsizers is going to tackle a separate kind of query which will be generated from a scenario and a persona.\n",
        "\n",
        "In essence, Ragas will use an LLM to generate a persona of someone who would interact with the data - and then use a scenario to construct a question from that data and persona."
      ]
    },
    {
      "cell_type": "code",
      "execution_count": 12,
      "metadata": {},
      "outputs": [],
      "source": [
        "from ragas.testset.synthesizers import default_query_distribution, SingleHopSpecificQuerySynthesizer, MultiHopAbstractQuerySynthesizer, MultiHopSpecificQuerySynthesizer\n",
        "\n",
        "query_distribution = [\n",
        "        (SingleHopSpecificQuerySynthesizer(llm=generator_llm), 0.5),\n",
        "        (MultiHopAbstractQuerySynthesizer(llm=generator_llm), 0.25),\n",
        "        (MultiHopSpecificQuerySynthesizer(llm=generator_llm), 0.25),\n",
        "]"
      ]
    },
    {
      "cell_type": "markdown",
      "metadata": {},
      "source": [
        "#### ❓ Question #1:\n",
        "\n",
        "What are the three types of query synthesizers doing? Describe each one in simple terms.\n"
      ]
    },
    {
      "cell_type": "markdown",
      "metadata": {},
      "source": [
        "Finally, we can use our `TestSetGenerator` to generate our testset!"
      ]
    },
    {
      "cell_type": "code",
      "execution_count": 17,
      "metadata": {},
      "outputs": [
        {
          "data": {
            "application/vnd.jupyter.widget-view+json": {
              "model_id": "03712fc6b5b445d8a0d9f9a5eceb4b09",
              "version_major": 2,
              "version_minor": 0
            },
            "text/plain": [
              "Generating Scenarios:   0%|          | 0/3 [00:00<?, ?it/s]"
            ]
          },
          "metadata": {},
          "output_type": "display_data"
        },
        {
          "data": {
            "application/vnd.jupyter.widget-view+json": {
              "model_id": "12cb85e65510409d9fb18c81398daf46",
              "version_major": 2,
              "version_minor": 0
            },
            "text/plain": [
              "Generating Samples:   0%|          | 0/20 [00:00<?, ?it/s]"
            ]
          },
          "metadata": {},
          "output_type": "display_data"
        },
        {
          "data": {
            "text/html": [
              "<div>\n",
              "<style scoped>\n",
              "    .dataframe tbody tr th:only-of-type {\n",
              "        vertical-align: middle;\n",
              "    }\n",
              "\n",
              "    .dataframe tbody tr th {\n",
              "        vertical-align: top;\n",
              "    }\n",
              "\n",
              "    .dataframe thead th {\n",
              "        text-align: right;\n",
              "    }\n",
              "</style>\n",
              "<table border=\"1\" class=\"dataframe\">\n",
              "  <thead>\n",
              "    <tr style=\"text-align: right;\">\n",
              "      <th></th>\n",
              "      <th>user_input</th>\n",
              "      <th>reference_contexts</th>\n",
              "      <th>reference</th>\n",
              "      <th>synthesizer_name</th>\n",
              "    </tr>\n",
              "  </thead>\n",
              "  <tbody>\n",
              "    <tr>\n",
              "      <th>0</th>\n",
              "      <td>What organization is included in the list of o...</td>\n",
              "      <td>[The ethics of this space remain diabolically ...</td>\n",
              "      <td>EleutherAI is mentioned among organizations su...</td>\n",
              "      <td>single_hop_specifc_query_synthesizer</td>\n",
              "    </tr>\n",
              "    <tr>\n",
              "      <th>1</th>\n",
              "      <td>Abu Dhabi what is it?</td>\n",
              "      <td>[The ethics of this space remain diabolically ...</td>\n",
              "      <td>The context mentions TII in Abu Dhabi as one o...</td>\n",
              "      <td>single_hop_specifc_query_synthesizer</td>\n",
              "    </tr>\n",
              "    <tr>\n",
              "      <th>2</th>\n",
              "      <td>What are the challenges associated with LLMs i...</td>\n",
              "      <td>[Simon Willison’s Weblog Subscribe Stuff we fi...</td>\n",
              "      <td>The context mentions that LLMs are really smar...</td>\n",
              "      <td>single_hop_specifc_query_synthesizer</td>\n",
              "    </tr>\n",
              "    <tr>\n",
              "      <th>3</th>\n",
              "      <td>What are LLMs according to Simon Willison’s we...</td>\n",
              "      <td>[Simon Willison’s Weblog Subscribe Stuff we fi...</td>\n",
              "      <td>According to Simon Willison’s weblog, Large La...</td>\n",
              "      <td>single_hop_specifc_query_synthesizer</td>\n",
              "    </tr>\n",
              "    <tr>\n",
              "      <th>4</th>\n",
              "      <td>what is DALL-E 3</td>\n",
              "      <td>[the document includes some of the clearest ex...</td>\n",
              "      <td>the document does not provide a specific expla...</td>\n",
              "      <td>single_hop_specifc_query_synthesizer</td>\n",
              "    </tr>\n",
              "    <tr>\n",
              "      <th>5</th>\n",
              "      <td>What is Stanford Alpaca and how does it relate...</td>\n",
              "      <td>[the document includes some of the clearest ex...</td>\n",
              "      <td>Stanford Alpaca is mentioned in the context of...</td>\n",
              "      <td>single_hop_specifc_query_synthesizer</td>\n",
              "    </tr>\n",
              "    <tr>\n",
              "      <th>6</th>\n",
              "      <td>What is the significance of Claude in the cont...</td>\n",
              "      <td>[The year of slop Synthetic training data work...</td>\n",
              "      <td>In the context provided, Claude refers to the ...</td>\n",
              "      <td>single_hop_specifc_query_synthesizer</td>\n",
              "    </tr>\n",
              "    <tr>\n",
              "      <th>7</th>\n",
              "      <td>What is DeepSeek in the context of AI models?</td>\n",
              "      <td>[The year of slop Synthetic training data work...</td>\n",
              "      <td>DeepSeek is listed among the organizations wit...</td>\n",
              "      <td>single_hop_specifc_query_synthesizer</td>\n",
              "    </tr>\n",
              "    <tr>\n",
              "      <th>8</th>\n",
              "      <td>What is Val Town?</td>\n",
              "      <td>[also pre-announced voice mode for Amazon Nova...</td>\n",
              "      <td>Val Town is mentioned as a platform where Stev...</td>\n",
              "      <td>single_hop_specifc_query_synthesizer</td>\n",
              "    </tr>\n",
              "    <tr>\n",
              "      <th>9</th>\n",
              "      <td>How does Cerebras relate to the development of...</td>\n",
              "      <td>[also pre-announced voice mode for Amazon Nova...</td>\n",
              "      <td>The provided context does not mention Cerebras...</td>\n",
              "      <td>single_hop_specifc_query_synthesizer</td>\n",
              "    </tr>\n",
              "    <tr>\n",
              "      <th>10</th>\n",
              "      <td>How do advancements in large language models (...</td>\n",
              "      <td>[&lt;1-hop&gt;\\n\\nThe year of slop Synthetic trainin...</td>\n",
              "      <td>Advancements in large language models (LLMs), ...</td>\n",
              "      <td>multi_hop_abstract_query_synthesizer</td>\n",
              "    </tr>\n",
              "    <tr>\n",
              "      <th>11</th>\n",
              "      <td>WHICH ORG developing AI models (OpenAI, Google...</td>\n",
              "      <td>[&lt;1-hop&gt;\\n\\nThe year of slop Synthetic trainin...</td>\n",
              "      <td>The context indicates that OpenAI and Anthropi...</td>\n",
              "      <td>multi_hop_abstract_query_synthesizer</td>\n",
              "    </tr>\n",
              "    <tr>\n",
              "      <th>12</th>\n",
              "      <td>How do the evaluation methods discussed in the...</td>\n",
              "      <td>[&lt;1-hop&gt;\\n\\nThe year of slop Synthetic trainin...</td>\n",
              "      <td>The context highlights that AI evaluation meth...</td>\n",
              "      <td>multi_hop_abstract_query_synthesizer</td>\n",
              "    </tr>\n",
              "    <tr>\n",
              "      <th>13</th>\n",
              "      <td>how does the new voice and live camera modes s...</td>\n",
              "      <td>[&lt;1-hop&gt;\\n\\nalso pre-announced voice mode for ...</td>\n",
              "      <td>the &lt;1-hop&gt; segment explains that chatGPT now ...</td>\n",
              "      <td>multi_hop_abstract_query_synthesizer</td>\n",
              "    </tr>\n",
              "    <tr>\n",
              "      <th>14</th>\n",
              "      <td>How do model benchmarks and rankings from the ...</td>\n",
              "      <td>[&lt;1-hop&gt;\\n\\nThe year of slop Synthetic trainin...</td>\n",
              "      <td>The context indicates that in 2024, models lik...</td>\n",
              "      <td>multi_hop_abstract_query_synthesizer</td>\n",
              "    </tr>\n",
              "    <tr>\n",
              "      <th>15</th>\n",
              "      <td>how Claude can do stuff like in the first part...</td>\n",
              "      <td>[&lt;1-hop&gt;\\n\\nalso pre-announced voice mode for ...</td>\n",
              "      <td>The first part describes Claude's ability to g...</td>\n",
              "      <td>multi_hop_specific_query_synthesizer</td>\n",
              "    </tr>\n",
              "    <tr>\n",
              "      <th>16</th>\n",
              "      <td>Wha is Llama 3.1 and Llama 3.3 70B?</td>\n",
              "      <td>[&lt;1-hop&gt;\\n\\nthe importance of synthetic data. ...</td>\n",
              "      <td>Llama 3.1 and Llama 3.3 70B are large language...</td>\n",
              "      <td>multi_hop_specific_query_synthesizer</td>\n",
              "    </tr>\n",
              "    <tr>\n",
              "      <th>17</th>\n",
              "      <td>How does the development of ChatGPT's voice an...</td>\n",
              "      <td>[&lt;1-hop&gt;\\n\\nthe document includes some of the ...</td>\n",
              "      <td>The development of ChatGPT's voice and real-ti...</td>\n",
              "      <td>multi_hop_specific_query_synthesizer</td>\n",
              "    </tr>\n",
              "    <tr>\n",
              "      <th>18</th>\n",
              "      <td>how ChatGPT and other LLMs are built and why s...</td>\n",
              "      <td>[&lt;1-hop&gt;\\n\\nthe document includes some of the ...</td>\n",
              "      <td>The document explains that LLMs like ChatGPT a...</td>\n",
              "      <td>multi_hop_specific_query_synthesizer</td>\n",
              "    </tr>\n",
              "    <tr>\n",
              "      <th>19</th>\n",
              "      <td>How did the developments in 2023 and 2024 refl...</td>\n",
              "      <td>[&lt;1-hop&gt;\\n\\nSimon Willison’s Weblog Subscribe ...</td>\n",
              "      <td>In 2023, Simon Willison highlighted that LLMs ...</td>\n",
              "      <td>multi_hop_specific_query_synthesizer</td>\n",
              "    </tr>\n",
              "  </tbody>\n",
              "</table>\n",
              "</div>"
            ],
            "text/plain": [
              "                                           user_input  \\\n",
              "0   What organization is included in the list of o...   \n",
              "1                               Abu Dhabi what is it?   \n",
              "2   What are the challenges associated with LLMs i...   \n",
              "3   What are LLMs according to Simon Willison’s we...   \n",
              "4                                    what is DALL-E 3   \n",
              "5   What is Stanford Alpaca and how does it relate...   \n",
              "6   What is the significance of Claude in the cont...   \n",
              "7       What is DeepSeek in the context of AI models?   \n",
              "8                                   What is Val Town?   \n",
              "9   How does Cerebras relate to the development of...   \n",
              "10  How do advancements in large language models (...   \n",
              "11  WHICH ORG developing AI models (OpenAI, Google...   \n",
              "12  How do the evaluation methods discussed in the...   \n",
              "13  how does the new voice and live camera modes s...   \n",
              "14  How do model benchmarks and rankings from the ...   \n",
              "15  how Claude can do stuff like in the first part...   \n",
              "16                Wha is Llama 3.1 and Llama 3.3 70B?   \n",
              "17  How does the development of ChatGPT's voice an...   \n",
              "18  how ChatGPT and other LLMs are built and why s...   \n",
              "19  How did the developments in 2023 and 2024 refl...   \n",
              "\n",
              "                                   reference_contexts  \\\n",
              "0   [The ethics of this space remain diabolically ...   \n",
              "1   [The ethics of this space remain diabolically ...   \n",
              "2   [Simon Willison’s Weblog Subscribe Stuff we fi...   \n",
              "3   [Simon Willison’s Weblog Subscribe Stuff we fi...   \n",
              "4   [the document includes some of the clearest ex...   \n",
              "5   [the document includes some of the clearest ex...   \n",
              "6   [The year of slop Synthetic training data work...   \n",
              "7   [The year of slop Synthetic training data work...   \n",
              "8   [also pre-announced voice mode for Amazon Nova...   \n",
              "9   [also pre-announced voice mode for Amazon Nova...   \n",
              "10  [<1-hop>\\n\\nThe year of slop Synthetic trainin...   \n",
              "11  [<1-hop>\\n\\nThe year of slop Synthetic trainin...   \n",
              "12  [<1-hop>\\n\\nThe year of slop Synthetic trainin...   \n",
              "13  [<1-hop>\\n\\nalso pre-announced voice mode for ...   \n",
              "14  [<1-hop>\\n\\nThe year of slop Synthetic trainin...   \n",
              "15  [<1-hop>\\n\\nalso pre-announced voice mode for ...   \n",
              "16  [<1-hop>\\n\\nthe importance of synthetic data. ...   \n",
              "17  [<1-hop>\\n\\nthe document includes some of the ...   \n",
              "18  [<1-hop>\\n\\nthe document includes some of the ...   \n",
              "19  [<1-hop>\\n\\nSimon Willison’s Weblog Subscribe ...   \n",
              "\n",
              "                                            reference  \\\n",
              "0   EleutherAI is mentioned among organizations su...   \n",
              "1   The context mentions TII in Abu Dhabi as one o...   \n",
              "2   The context mentions that LLMs are really smar...   \n",
              "3   According to Simon Willison’s weblog, Large La...   \n",
              "4   the document does not provide a specific expla...   \n",
              "5   Stanford Alpaca is mentioned in the context of...   \n",
              "6   In the context provided, Claude refers to the ...   \n",
              "7   DeepSeek is listed among the organizations wit...   \n",
              "8   Val Town is mentioned as a platform where Stev...   \n",
              "9   The provided context does not mention Cerebras...   \n",
              "10  Advancements in large language models (LLMs), ...   \n",
              "11  The context indicates that OpenAI and Anthropi...   \n",
              "12  The context highlights that AI evaluation meth...   \n",
              "13  the <1-hop> segment explains that chatGPT now ...   \n",
              "14  The context indicates that in 2024, models lik...   \n",
              "15  The first part describes Claude's ability to g...   \n",
              "16  Llama 3.1 and Llama 3.3 70B are large language...   \n",
              "17  The development of ChatGPT's voice and real-ti...   \n",
              "18  The document explains that LLMs like ChatGPT a...   \n",
              "19  In 2023, Simon Willison highlighted that LLMs ...   \n",
              "\n",
              "                        synthesizer_name  \n",
              "0   single_hop_specifc_query_synthesizer  \n",
              "1   single_hop_specifc_query_synthesizer  \n",
              "2   single_hop_specifc_query_synthesizer  \n",
              "3   single_hop_specifc_query_synthesizer  \n",
              "4   single_hop_specifc_query_synthesizer  \n",
              "5   single_hop_specifc_query_synthesizer  \n",
              "6   single_hop_specifc_query_synthesizer  \n",
              "7   single_hop_specifc_query_synthesizer  \n",
              "8   single_hop_specifc_query_synthesizer  \n",
              "9   single_hop_specifc_query_synthesizer  \n",
              "10  multi_hop_abstract_query_synthesizer  \n",
              "11  multi_hop_abstract_query_synthesizer  \n",
              "12  multi_hop_abstract_query_synthesizer  \n",
              "13  multi_hop_abstract_query_synthesizer  \n",
              "14  multi_hop_abstract_query_synthesizer  \n",
              "15  multi_hop_specific_query_synthesizer  \n",
              "16  multi_hop_specific_query_synthesizer  \n",
              "17  multi_hop_specific_query_synthesizer  \n",
              "18  multi_hop_specific_query_synthesizer  \n",
              "19  multi_hop_specific_query_synthesizer  "
            ]
          },
          "execution_count": 17,
          "metadata": {},
          "output_type": "execute_result"
        }
      ],
      "source": [
        "testset = generator.generate(testset_size=20, query_distribution=query_distribution)\n",
        "testset.to_pandas()"
      ]
    },
    {
      "cell_type": "markdown",
      "metadata": {},
      "source": [
        "### Abstracted SDG\n",
        "\n",
        "The above method is the full process - but we can shortcut that using the provided abstractions!\n",
        "\n",
        "This will generate our knowledge graph under the hood, and will - from there - generate our personas and scenarios to construct our queries.\n",
        "\n"
      ]
    },
    {
      "cell_type": "code",
      "execution_count": 18,
      "metadata": {},
      "outputs": [
        {
          "data": {
            "application/vnd.jupyter.widget-view+json": {
              "model_id": "1b338dd044384211bfd8c7e415952e37",
              "version_major": 2,
              "version_minor": 0
            },
            "text/plain": [
              "Applying HeadlinesExtractor:   0%|          | 0/2 [00:00<?, ?it/s]"
            ]
          },
          "metadata": {},
          "output_type": "display_data"
        },
        {
          "data": {
            "application/vnd.jupyter.widget-view+json": {
              "model_id": "e597b6c393f34586a3ad02f47af65937",
              "version_major": 2,
              "version_minor": 0
            },
            "text/plain": [
              "Applying HeadlineSplitter:   0%|          | 0/2 [00:00<?, ?it/s]"
            ]
          },
          "metadata": {},
          "output_type": "display_data"
        },
        {
          "data": {
            "application/vnd.jupyter.widget-view+json": {
              "model_id": "f0952c9b5a8d4a078998b3b3a3795f6a",
              "version_major": 2,
              "version_minor": 0
            },
            "text/plain": [
              "Applying SummaryExtractor:   0%|          | 0/2 [00:00<?, ?it/s]"
            ]
          },
          "metadata": {},
          "output_type": "display_data"
        },
        {
          "data": {
            "application/vnd.jupyter.widget-view+json": {
              "model_id": "0e7fa447930b4f9d9bd478cc49baefa1",
              "version_major": 2,
              "version_minor": 0
            },
            "text/plain": [
              "Applying CustomNodeFilter:   0%|          | 0/12 [00:00<?, ?it/s]"
            ]
          },
          "metadata": {},
          "output_type": "display_data"
        },
        {
          "data": {
            "application/vnd.jupyter.widget-view+json": {
              "model_id": "858598af906743969951d4da3c0b64d5",
              "version_major": 2,
              "version_minor": 0
            },
            "text/plain": [
              "Applying [EmbeddingExtractor, ThemesExtractor, NERExtractor]:   0%|          | 0/18 [00:00<?, ?it/s]"
            ]
          },
          "metadata": {},
          "output_type": "display_data"
        },
        {
          "data": {
            "application/vnd.jupyter.widget-view+json": {
              "model_id": "da14e24166144257bd3482d834c12efb",
              "version_major": 2,
              "version_minor": 0
            },
            "text/plain": [
              "Applying [CosineSimilarityBuilder, OverlapScoreBuilder]:   0%|          | 0/2 [00:00<?, ?it/s]"
            ]
          },
          "metadata": {},
          "output_type": "display_data"
        },
        {
          "data": {
            "application/vnd.jupyter.widget-view+json": {
              "model_id": "574d48a985b94e46b8a68eaed4c8f89a",
              "version_major": 2,
              "version_minor": 0
            },
            "text/plain": [
              "Generating personas:   0%|          | 0/2 [00:00<?, ?it/s]"
            ]
          },
          "metadata": {},
          "output_type": "display_data"
        },
        {
          "data": {
            "application/vnd.jupyter.widget-view+json": {
              "model_id": "ce57b4ae1ca5464799a513af2fdf8c15",
              "version_major": 2,
              "version_minor": 0
            },
            "text/plain": [
              "Generating Scenarios:   0%|          | 0/3 [00:00<?, ?it/s]"
            ]
          },
          "metadata": {},
          "output_type": "display_data"
        },
        {
          "data": {
            "application/vnd.jupyter.widget-view+json": {
              "model_id": "f8689da9a9cb4fe69207010495379225",
              "version_major": 2,
              "version_minor": 0
            },
            "text/plain": [
              "Generating Samples:   0%|          | 0/21 [00:00<?, ?it/s]"
            ]
          },
          "metadata": {},
          "output_type": "display_data"
        }
      ],
      "source": [
        "from ragas.testset import TestsetGenerator\n",
        "\n",
        "generator = TestsetGenerator(llm=generator_llm, embedding_model=generator_embeddings)\n",
        "dataset = generator.generate_with_langchain_docs(docs, testset_size=20)"
      ]
    },
    {
      "cell_type": "code",
      "execution_count": 22,
      "metadata": {},
      "outputs": [
        {
          "data": {
            "text/html": [
              "<div>\n",
              "<style scoped>\n",
              "    .dataframe tbody tr th:only-of-type {\n",
              "        vertical-align: middle;\n",
              "    }\n",
              "\n",
              "    .dataframe tbody tr th {\n",
              "        vertical-align: top;\n",
              "    }\n",
              "\n",
              "    .dataframe thead th {\n",
              "        text-align: right;\n",
              "    }\n",
              "</style>\n",
              "<table border=\"1\" class=\"dataframe\">\n",
              "  <thead>\n",
              "    <tr style=\"text-align: right;\">\n",
              "      <th></th>\n",
              "      <th>user_input</th>\n",
              "      <th>reference_contexts</th>\n",
              "      <th>reference</th>\n",
              "      <th>synthesizer_name</th>\n",
              "    </tr>\n",
              "  </thead>\n",
              "  <tbody>\n",
              "    <tr>\n",
              "      <th>0</th>\n",
              "      <td>Wut has Meta dun in the feeld of LLMs this yeer?</td>\n",
              "      <td>[Code may be the best application The ethics o...</td>\n",
              "      <td>In February, Meta released Llama, and in July,...</td>\n",
              "      <td>single_hop_specifc_query_synthesizer</td>\n",
              "    </tr>\n",
              "    <tr>\n",
              "      <th>1</th>\n",
              "      <td>What significant event related to AI ethics oc...</td>\n",
              "      <td>[Based Development As a computer scientist and...</td>\n",
              "      <td>In September last year, the term 'prompt injec...</td>\n",
              "      <td>single_hop_specifc_query_synthesizer</td>\n",
              "    </tr>\n",
              "    <tr>\n",
              "      <th>2</th>\n",
              "      <td>Whaat are the key highlights from Simon Willis...</td>\n",
              "      <td>[Simon Willison’s Weblog Subscribe Stuff we fi...</td>\n",
              "      <td>Simon Willison's Weblog highlights that 2023 w...</td>\n",
              "      <td>single_hop_specifc_query_synthesizer</td>\n",
              "    </tr>\n",
              "    <tr>\n",
              "      <th>3</th>\n",
              "      <td>What role does Stanford Alpaca play in the dev...</td>\n",
              "      <td>[easy to follow. The rest of the document incl...</td>\n",
              "      <td>Stanford Alpaca is associated with the acceler...</td>\n",
              "      <td>single_hop_specifc_query_synthesizer</td>\n",
              "    </tr>\n",
              "    <tr>\n",
              "      <th>4</th>\n",
              "      <td>What are the ethical concerns associated with ...</td>\n",
              "      <td>[&lt;1-hop&gt;\\n\\nCode may be the best application T...</td>\n",
              "      <td>The ethical concerns associated with the gulli...</td>\n",
              "      <td>multi_hop_abstract_query_synthesizer</td>\n",
              "    </tr>\n",
              "    <tr>\n",
              "      <th>5</th>\n",
              "      <td>Why are Large Language Models (LLMs) considere...</td>\n",
              "      <td>[&lt;1-hop&gt;\\n\\nCode may be the best application T...</td>\n",
              "      <td>Large Language Models (LLMs) are considered bl...</td>\n",
              "      <td>multi_hop_abstract_query_synthesizer</td>\n",
              "    </tr>\n",
              "    <tr>\n",
              "      <th>6</th>\n",
              "      <td>What are the ethical concerns related to the g...</td>\n",
              "      <td>[&lt;1-hop&gt;\\n\\nCode may be the best application T...</td>\n",
              "      <td>The ethical concerns related to the gullibilit...</td>\n",
              "      <td>multi_hop_abstract_query_synthesizer</td>\n",
              "    </tr>\n",
              "    <tr>\n",
              "      <th>7</th>\n",
              "      <td>How do the ethics of AI and the gullibility of...</td>\n",
              "      <td>[&lt;1-hop&gt;\\n\\nCode may be the best application T...</td>\n",
              "      <td>The ethics of AI and the gullibility of langua...</td>\n",
              "      <td>multi_hop_abstract_query_synthesizer</td>\n",
              "    </tr>\n",
              "    <tr>\n",
              "      <th>8</th>\n",
              "      <td>How has the development of models surpassing G...</td>\n",
              "      <td>[&lt;1-hop&gt;\\n\\nPrompt driven app generation is a ...</td>\n",
              "      <td>In 2024, the development of models surpassing ...</td>\n",
              "      <td>multi_hop_specific_query_synthesizer</td>\n",
              "    </tr>\n",
              "    <tr>\n",
              "      <th>9</th>\n",
              "      <td>How does the training efficiency of DeepSeek v...</td>\n",
              "      <td>[&lt;1-hop&gt;\\n\\nday after that. DeepSeek v3 is a h...</td>\n",
              "      <td>DeepSeek v3, a 685B parameter model, is one of...</td>\n",
              "      <td>multi_hop_specific_query_synthesizer</td>\n",
              "    </tr>\n",
              "    <tr>\n",
              "      <th>10</th>\n",
              "      <td>How did the breaking of the GPT-4 barrier in 2...</td>\n",
              "      <td>[&lt;1-hop&gt;\\n\\nSimon Willison’s Weblog Subscribe ...</td>\n",
              "      <td>In 2024, the breaking of the GPT-4 barrier sig...</td>\n",
              "      <td>multi_hop_specific_query_synthesizer</td>\n",
              "    </tr>\n",
              "    <tr>\n",
              "      <th>11</th>\n",
              "      <td>How has the introduction of GPT-4o impacted th...</td>\n",
              "      <td>[&lt;1-hop&gt;\\n\\nSimon Willison’s Weblog Subscribe ...</td>\n",
              "      <td>The introduction of GPT-4o has significantly i...</td>\n",
              "      <td>multi_hop_specific_query_synthesizer</td>\n",
              "    </tr>\n",
              "  </tbody>\n",
              "</table>\n",
              "</div>"
            ],
            "text/plain": [
              "                                           user_input  \\\n",
              "0    Wut has Meta dun in the feeld of LLMs this yeer?   \n",
              "1   What significant event related to AI ethics oc...   \n",
              "2   Whaat are the key highlights from Simon Willis...   \n",
              "3   What role does Stanford Alpaca play in the dev...   \n",
              "4   What are the ethical concerns associated with ...   \n",
              "5   Why are Large Language Models (LLMs) considere...   \n",
              "6   What are the ethical concerns related to the g...   \n",
              "7   How do the ethics of AI and the gullibility of...   \n",
              "8   How has the development of models surpassing G...   \n",
              "9   How does the training efficiency of DeepSeek v...   \n",
              "10  How did the breaking of the GPT-4 barrier in 2...   \n",
              "11  How has the introduction of GPT-4o impacted th...   \n",
              "\n",
              "                                   reference_contexts  \\\n",
              "0   [Code may be the best application The ethics o...   \n",
              "1   [Based Development As a computer scientist and...   \n",
              "2   [Simon Willison’s Weblog Subscribe Stuff we fi...   \n",
              "3   [easy to follow. The rest of the document incl...   \n",
              "4   [<1-hop>\\n\\nCode may be the best application T...   \n",
              "5   [<1-hop>\\n\\nCode may be the best application T...   \n",
              "6   [<1-hop>\\n\\nCode may be the best application T...   \n",
              "7   [<1-hop>\\n\\nCode may be the best application T...   \n",
              "8   [<1-hop>\\n\\nPrompt driven app generation is a ...   \n",
              "9   [<1-hop>\\n\\nday after that. DeepSeek v3 is a h...   \n",
              "10  [<1-hop>\\n\\nSimon Willison’s Weblog Subscribe ...   \n",
              "11  [<1-hop>\\n\\nSimon Willison’s Weblog Subscribe ...   \n",
              "\n",
              "                                            reference  \\\n",
              "0   In February, Meta released Llama, and in July,...   \n",
              "1   In September last year, the term 'prompt injec...   \n",
              "2   Simon Willison's Weblog highlights that 2023 w...   \n",
              "3   Stanford Alpaca is associated with the acceler...   \n",
              "4   The ethical concerns associated with the gulli...   \n",
              "5   Large Language Models (LLMs) are considered bl...   \n",
              "6   The ethical concerns related to the gullibilit...   \n",
              "7   The ethics of AI and the gullibility of langua...   \n",
              "8   In 2024, the development of models surpassing ...   \n",
              "9   DeepSeek v3, a 685B parameter model, is one of...   \n",
              "10  In 2024, the breaking of the GPT-4 barrier sig...   \n",
              "11  The introduction of GPT-4o has significantly i...   \n",
              "\n",
              "                        synthesizer_name  \n",
              "0   single_hop_specifc_query_synthesizer  \n",
              "1   single_hop_specifc_query_synthesizer  \n",
              "2   single_hop_specifc_query_synthesizer  \n",
              "3   single_hop_specifc_query_synthesizer  \n",
              "4   multi_hop_abstract_query_synthesizer  \n",
              "5   multi_hop_abstract_query_synthesizer  \n",
              "6   multi_hop_abstract_query_synthesizer  \n",
              "7   multi_hop_abstract_query_synthesizer  \n",
              "8   multi_hop_specific_query_synthesizer  \n",
              "9   multi_hop_specific_query_synthesizer  \n",
              "10  multi_hop_specific_query_synthesizer  \n",
              "11  multi_hop_specific_query_synthesizer  "
            ]
          },
          "execution_count": 22,
          "metadata": {},
          "output_type": "execute_result"
        }
      ],
      "source": [
        "dataset.to_pandas()"
      ]
    },
    {
      "cell_type": "markdown",
      "metadata": {
        "id": "6vSRr2MXk0P_"
      },
      "source": [
        "We'll need to provide our LangSmith API key, and set tracing to \"true\"."
      ]
    },
    {
      "cell_type": "markdown",
      "metadata": {
        "id": "vLDUsLJg43k7"
      },
      "source": [
        "# 🤝 BREAKOUT ROOM #2"
      ]
    },
    {
      "cell_type": "markdown",
      "metadata": {
        "id": "8SLtk1GtnyoY"
      },
      "source": [
        "## Task 4: LangSmith Dataset\n",
        "\n",
        "Now we can move on to creating a dataset for LangSmith!\n",
        "\n",
        "First, we'll need to create a dataset on LangSmith using the `Client`!\n",
        "\n",
        "We'll name our Dataset to make it easy to work with later."
      ]
    },
    {
      "cell_type": "code",
      "execution_count": 19,
      "metadata": {
        "id": "TLgm6OjvYSsm"
      },
      "outputs": [],
      "source": [
        "from langsmith import Client\n",
        "\n",
        "client = Client()\n",
        "\n",
        "dataset_name = \"State of AI Across the Years!\"\n",
        "\n",
        "langsmith_dataset = client.create_dataset(\n",
        "    dataset_name=dataset_name,\n",
        "    description=\"State of AI Across the Years!\"\n",
        ")"
      ]
    },
    {
      "cell_type": "markdown",
      "metadata": {
        "id": "64SmXMBnzXWm"
      },
      "source": [
        "We'll iterate through the RAGAS created dataframe - and add each example to our created dataset!\n",
        "\n",
        "> NOTE: We need to conform the outputs to the expected format - which in this case is: `question` and `answer`."
      ]
    },
    {
      "cell_type": "code",
      "execution_count": 24,
      "metadata": {
        "id": "8nFQ6di_XnY7"
      },
      "outputs": [],
      "source": [
        "for data_row in dataset.to_pandas().iterrows():\n",
        "  client.create_example(\n",
        "      inputs={\n",
        "          \"question\": data_row[1][\"user_input\"]\n",
        "      },\n",
        "      outputs={\n",
        "          \"answer\": data_row[1][\"reference\"]\n",
        "      },\n",
        "      metadata={\n",
        "          \"context\": data_row[1][\"reference_contexts\"]\n",
        "      },\n",
        "      dataset_id=langsmith_dataset.id\n",
        "  )"
      ]
    },
    {
      "cell_type": "code",
      "execution_count": 31,
      "metadata": {},
      "outputs": [
        {
          "data": {
            "text/plain": [
              "[<class 'langsmith.schemas.Example'>(id=bf005041-08da-4861-87ea-a61b1354bd33, dataset_id=2a53f468-8f56-4cfa-bb90-f3c5b1f42c97, link='https://smith.langchain.com/o/78cbe58d-b358-4331-abfb-293765485355/datasets/2a53f468-8f56-4cfa-bb90-f3c5b1f42c97/e/bf005041-08da-4861-87ea-a61b1354bd33'),\n",
              " <class 'langsmith.schemas.Example'>(id=3334488f-9fbe-4f16-a4b1-517c346ec253, dataset_id=2a53f468-8f56-4cfa-bb90-f3c5b1f42c97, link='https://smith.langchain.com/o/78cbe58d-b358-4331-abfb-293765485355/datasets/2a53f468-8f56-4cfa-bb90-f3c5b1f42c97/e/3334488f-9fbe-4f16-a4b1-517c346ec253'),\n",
              " <class 'langsmith.schemas.Example'>(id=1a782136-44f3-49d6-a938-e88938735998, dataset_id=2a53f468-8f56-4cfa-bb90-f3c5b1f42c97, link='https://smith.langchain.com/o/78cbe58d-b358-4331-abfb-293765485355/datasets/2a53f468-8f56-4cfa-bb90-f3c5b1f42c97/e/1a782136-44f3-49d6-a938-e88938735998')]"
            ]
          },
          "execution_count": 31,
          "metadata": {},
          "output_type": "execute_result"
        }
      ],
      "source": [
        "list(client.list_examples(dataset_name=dataset_name, limit=3))[:3]"
      ]
    },
    {
      "cell_type": "markdown",
      "metadata": {
        "id": "o6EbQVyZq-2j"
      },
      "source": [
        "## Basic RAG Chain\n",
        "\n",
        "Time for some RAG!\n"
      ]
    },
    {
      "cell_type": "code",
      "execution_count": 21,
      "metadata": {
        "id": "4njbUAIsaYjB"
      },
      "outputs": [],
      "source": [
        "rag_documents = docs"
      ]
    },
    {
      "cell_type": "markdown",
      "metadata": {
        "id": "bQorBy8H1AZR"
      },
      "source": [
        "To keep things simple, we'll just use LangChain's recursive character text splitter!\n"
      ]
    },
    {
      "cell_type": "code",
      "execution_count": 32,
      "metadata": {
        "id": "qWo3Ajaragv1"
      },
      "outputs": [],
      "source": [
        "from langchain.text_splitter import RecursiveCharacterTextSplitter\n",
        "\n",
        "text_splitter = RecursiveCharacterTextSplitter(\n",
        "    chunk_size = 500,\n",
        "    chunk_overlap = 50\n",
        ")\n",
        "\n",
        "rag_documents = text_splitter.split_documents(rag_documents)"
      ]
    },
    {
      "cell_type": "markdown",
      "metadata": {
        "id": "kghuTb9R01oO"
      },
      "source": [
        "We'll create our vectorstore using OpenAI's [`text-embedding-3-small`](https://platform.openai.com/docs/guides/embeddings/embedding-models) embedding model."
      ]
    },
    {
      "cell_type": "code",
      "execution_count": 33,
      "metadata": {
        "id": "UwfJCzP3aqKI"
      },
      "outputs": [],
      "source": [
        "from langchain_openai import OpenAIEmbeddings\n",
        "\n",
        "embeddings = OpenAIEmbeddings(model=\"text-embedding-3-small\")"
      ]
    },
    {
      "cell_type": "markdown",
      "metadata": {
        "id": "QpCLS-a01Ft2"
      },
      "source": [
        "As usual, we will power our RAG application with Qdrant!"
      ]
    },
    {
      "cell_type": "code",
      "execution_count": 34,
      "metadata": {
        "id": "58Ypj_NgbEsi"
      },
      "outputs": [
        {
          "name": "stderr",
          "output_type": "stream",
          "text": [
            "/Users/davidq/projects/ai-makerspace/code/AIE6/07_Synthetic_Data_Generation_and_LangSmith/.venv/lib/python3.13/site-packages/qdrant_client/http/models/models.py:758: SyntaxWarning: invalid escape sequence '\\&'\n",
            "  description=\"Check that the field is empty, alternative syntax for `is_empty: \\&quot;field_name\\&quot;`\",\n",
            "/Users/davidq/projects/ai-makerspace/code/AIE6/07_Synthetic_Data_Generation_and_LangSmith/.venv/lib/python3.13/site-packages/qdrant_client/http/models/models.py:762: SyntaxWarning: invalid escape sequence '\\&'\n",
            "  description=\"Check that the field is null, alternative syntax for `is_null: \\&quot;field_name\\&quot;`\",\n"
          ]
        }
      ],
      "source": [
        "from langchain_community.vectorstores import Qdrant\n",
        "\n",
        "vectorstore = Qdrant.from_documents(\n",
        "    documents=rag_documents,\n",
        "    embedding=embeddings,\n",
        "    location=\":memory:\",\n",
        "    collection_name=\"State of AI\"\n",
        ")"
      ]
    },
    {
      "cell_type": "code",
      "execution_count": 35,
      "metadata": {
        "id": "SbKSjfSkbTYo"
      },
      "outputs": [],
      "source": [
        "retriever = vectorstore.as_retriever(search_kwargs={\"k\": 10})"
      ]
    },
    {
      "cell_type": "markdown",
      "metadata": {
        "id": "WxUOMaQX1K2N"
      },
      "source": [
        "To get the \"A\" in RAG, we'll provide a prompt."
      ]
    },
    {
      "cell_type": "code",
      "execution_count": 36,
      "metadata": {
        "id": "1sLeY1oWbVqO"
      },
      "outputs": [],
      "source": [
        "from langchain.prompts import ChatPromptTemplate\n",
        "\n",
        "RAG_PROMPT = \"\"\"\\\n",
        "Given a provided context and question, you must answer the question based only on context.\n",
        "\n",
        "If you cannot answer the question based on the context - you must say \"I don't know\".\n",
        "\n",
        "Context: {context}\n",
        "Question: {question}\n",
        "\"\"\"\n",
        "\n",
        "rag_prompt = ChatPromptTemplate.from_template(RAG_PROMPT)"
      ]
    },
    {
      "cell_type": "markdown",
      "metadata": {
        "id": "PZnHDh4e1Ou5"
      },
      "source": [
        "For our LLM, we will be using TogetherAI's endpoints as well!\n",
        "\n",
        "We're going to be using Meta Llama 3.1 70B Instruct Turbo - a powerful model which should get us powerful results!"
      ]
    },
    {
      "cell_type": "code",
      "execution_count": 37,
      "metadata": {
        "id": "6nx-ue1XbciV"
      },
      "outputs": [],
      "source": [
        "from langchain_openai import ChatOpenAI\n",
        "\n",
        "llm = ChatOpenAI(model=\"gpt-4.1-mini\")"
      ]
    },
    {
      "cell_type": "markdown",
      "metadata": {
        "id": "jmTL6-pc1ZGz"
      },
      "source": [
        "Finally, we can set-up our RAG LCEL chain!"
      ]
    },
    {
      "cell_type": "code",
      "execution_count": 38,
      "metadata": {
        "id": "TjWj0OLIbbFc"
      },
      "outputs": [],
      "source": [
        "from operator import itemgetter\n",
        "from langchain_core.runnables import RunnablePassthrough, RunnableParallel\n",
        "from langchain.schema import StrOutputParser\n",
        "\n",
        "rag_chain = (\n",
        "    {\"context\": itemgetter(\"question\") | retriever, \"question\": itemgetter(\"question\")}\n",
        "    | rag_prompt | llm | StrOutputParser()\n",
        ")"
      ]
    },
    {
      "cell_type": "code",
      "execution_count": 39,
      "metadata": {
        "colab": {
          "base_uri": "https://localhost:8080/",
          "height": 35
        },
        "id": "WQ7bEweo4IIb",
        "outputId": "d161b269-f799-4920-d6ce-c202f6e783aa"
      },
      "outputs": [
        {
          "data": {
            "text/plain": [
              "'Based on the provided context, \"agents\" is an infuriatingly vague and frustrating term that lacks a single, clear, and widely understood meaning. Generally, it seems to converge on the idea of AI systems that can act on your behalf—akin to a travel agent model—or large language models (LLMs) given access to tools they can run in a loop to solve problems. However, despite much discussion and excitement, real, useful AI agents that operate autonomously in production are scarce or nonexistent so far. The term \"agents\" remains ambiguous, with many different definitions and no consensus on what it exactly entails.'"
            ]
          },
          "execution_count": 39,
          "metadata": {},
          "output_type": "execute_result"
        }
      ],
      "source": [
        "rag_chain.invoke({\"question\" : \"What are Agents?\"})"
      ]
    },
    {
      "cell_type": "markdown",
      "metadata": {
        "id": "D9hBh5YPrdGJ"
      },
      "source": [
        "## LangSmith Evaluation Set-up\n",
        "\n",
        "We'll use OpenAI's GPT-4.1 as our evaluation LLM for our base Evaluators."
      ]
    },
    {
      "cell_type": "code",
      "execution_count": 40,
      "metadata": {
        "id": "gfwPYdIkcvpF"
      },
      "outputs": [],
      "source": [
        "eval_llm = ChatOpenAI(model=\"gpt-4.1\")"
      ]
    },
    {
      "cell_type": "markdown",
      "metadata": {
        "id": "6b8pToKH2K28"
      },
      "source": [
        "We'll be using a number of evaluators - from LangSmith provided evaluators, to a few custom evaluators!"
      ]
    },
    {
      "cell_type": "code",
      "execution_count": 41,
      "metadata": {
        "id": "PXSG-_ajckp6"
      },
      "outputs": [],
      "source": [
        "from langsmith.evaluation import LangChainStringEvaluator, evaluate\n",
        "\n",
        "qa_evaluator = LangChainStringEvaluator(\"qa\", config={\"llm\" : eval_llm})\n",
        "\n",
        "labeled_helpfulness_evaluator = LangChainStringEvaluator(\n",
        "    \"labeled_criteria\",\n",
        "    config={\n",
        "        \"criteria\": {\n",
        "            \"helpfulness\": (\n",
        "                \"Is this submission helpful to the user,\"\n",
        "                \" taking into account the correct reference answer?\"\n",
        "            )\n",
        "        },\n",
        "        \"llm\" : eval_llm\n",
        "    },\n",
        "    prepare_data=lambda run, example: {\n",
        "        \"prediction\": run.outputs[\"output\"],\n",
        "        \"reference\": example.outputs[\"answer\"],\n",
        "        \"input\": example.inputs[\"question\"],\n",
        "    }\n",
        ")\n",
        "\n",
        "dope_or_nope_evaluator = LangChainStringEvaluator(\n",
        "    \"criteria\",\n",
        "    config={\n",
        "        \"criteria\": {\n",
        "            \"dopeness\": \"Is this submission dope, lit, or cool?\",\n",
        "        },\n",
        "        \"llm\" : eval_llm\n",
        "    }\n",
        ")"
      ]
    },
    {
      "cell_type": "markdown",
      "metadata": {
        "id": "z0SQP_FoCetP"
      },
      "source": [
        "#### 🏗️ Activity #2:\n",
        "\n",
        "Highlight what each evaluator is evaluating.\n",
        "\n",
        "- `qa_evaluator`:\n",
        "- `labeled_helpfulness_evaluator`:\n",
        "- `dope_or_nope_evaluator`:"
      ]
    },
    {
      "cell_type": "markdown",
      "metadata": {
        "id": "R35sQMHVrnpl"
      },
      "source": [
        "## LangSmith Evaluation"
      ]
    },
    {
      "cell_type": "code",
      "execution_count": 42,
      "metadata": {
        "colab": {
          "base_uri": "https://localhost:8080/",
          "height": 136,
          "referenced_widgets": [
            "122b1bd1f0e9417a8dcb57d4eebe4d2e",
            "e0c233ad01604540a6c873f4a731982d",
            "e9a01115c75b499884f7e0ef32e9e599",
            "5faba4ad609448b2b49024add4ad3b8e",
            "ef25efa751304e4699910f1fbc14345f",
            "0b44cb0f8e34446c8dde668a75d3d8ad",
            "edaac6587b2d4bd5be52b89bb097f99f",
            "7cb241365f604419af454c1c28de197a",
            "9cf586576ff44dba86ba2eb389593c61",
            "849b5c95008541d49f1ceedf0a59ac60",
            "f3665a86662746c4ac7cb0796604781d"
          ]
        },
        "id": "t7t_Uz0tdumL",
        "outputId": "d684e218-294e-4dc3-c8de-a01d397f021c"
      },
      "outputs": [
        {
          "name": "stdout",
          "output_type": "stream",
          "text": [
            "View the evaluation results for experiment: 'monthly-nail-37' at:\n",
            "https://smith.langchain.com/o/78cbe58d-b358-4331-abfb-293765485355/datasets/2a53f468-8f56-4cfa-bb90-f3c5b1f42c97/compare?selectedSessions=b0527fb7-e976-404f-965f-312b5ed65397\n",
            "\n",
            "\n"
          ]
        },
        {
          "data": {
            "application/vnd.jupyter.widget-view+json": {
              "model_id": "eae94bc0d51e4bb592f230bcf5ecb217",
              "version_major": 2,
              "version_minor": 0
            },
            "text/plain": [
              "0it [00:00, ?it/s]"
            ]
          },
          "metadata": {},
          "output_type": "display_data"
        },
        {
          "data": {
            "text/html": [
              "<div>\n",
              "<style scoped>\n",
              "    .dataframe tbody tr th:only-of-type {\n",
              "        vertical-align: middle;\n",
              "    }\n",
              "\n",
              "    .dataframe tbody tr th {\n",
              "        vertical-align: top;\n",
              "    }\n",
              "\n",
              "    .dataframe thead th {\n",
              "        text-align: right;\n",
              "    }\n",
              "</style>\n",
              "<table border=\"1\" class=\"dataframe\">\n",
              "  <thead>\n",
              "    <tr style=\"text-align: right;\">\n",
              "      <th></th>\n",
              "      <th>inputs.question</th>\n",
              "      <th>outputs.output</th>\n",
              "      <th>error</th>\n",
              "      <th>reference.answer</th>\n",
              "      <th>feedback.correctness</th>\n",
              "      <th>feedback.helpfulness</th>\n",
              "      <th>feedback.dopeness</th>\n",
              "      <th>execution_time</th>\n",
              "      <th>example_id</th>\n",
              "      <th>id</th>\n",
              "    </tr>\n",
              "  </thead>\n",
              "  <tbody>\n",
              "    <tr>\n",
              "      <th>0</th>\n",
              "      <td>How do the themes of Llama 3 and Llama 3.3 rel...</td>\n",
              "      <td>I don't know.</td>\n",
              "      <td>None</td>\n",
              "      <td>The context highlights significant AI developm...</td>\n",
              "      <td>0</td>\n",
              "      <td>0</td>\n",
              "      <td>0</td>\n",
              "      <td>1.680406</td>\n",
              "      <td>bf005041-08da-4861-87ea-a61b1354bd33</td>\n",
              "      <td>43a85080-7af5-43b9-8cca-27bd0fc544f1</td>\n",
              "    </tr>\n",
              "    <tr>\n",
              "      <th>1</th>\n",
              "      <td>How does Meta's involvement in inference-scali...</td>\n",
              "      <td>Based on the provided context, Meta is involve...</td>\n",
              "      <td>None</td>\n",
              "      <td>Meta published a paper on training large langu...</td>\n",
              "      <td>1</td>\n",
              "      <td>1</td>\n",
              "      <td>0</td>\n",
              "      <td>8.229812</td>\n",
              "      <td>3334488f-9fbe-4f16-a4b1-517c346ec253</td>\n",
              "      <td>0281fae9-2736-418b-a6a6-55ee836159ad</td>\n",
              "    </tr>\n",
              "    <tr>\n",
              "      <th>2</th>\n",
              "      <td>How do the explanations of how Large Language ...</td>\n",
              "      <td>The first segment explains that Large Language...</td>\n",
              "      <td>None</td>\n",
              "      <td>The first segment provides clear explanations ...</td>\n",
              "      <td>1</td>\n",
              "      <td>1</td>\n",
              "      <td>0</td>\n",
              "      <td>8.216067</td>\n",
              "      <td>1a782136-44f3-49d6-a938-e88938735998</td>\n",
              "      <td>ced7e805-294e-47e7-97dc-f52e6641659c</td>\n",
              "    </tr>\n",
              "    <tr>\n",
              "      <th>3</th>\n",
              "      <td>How do the recent developments in large langua...</td>\n",
              "      <td>The context indicates that many organizations,...</td>\n",
              "      <td>None</td>\n",
              "      <td>The context highlights Google's significant ro...</td>\n",
              "      <td>1</td>\n",
              "      <td>1</td>\n",
              "      <td>0</td>\n",
              "      <td>5.082003</td>\n",
              "      <td>b7924581-d1d5-401d-b580-2e09a09c727c</td>\n",
              "      <td>21a924c2-2c84-4006-a7e6-3d37706b65fb</td>\n",
              "    </tr>\n",
              "    <tr>\n",
              "      <th>4</th>\n",
              "      <td>How does Google’s Gemini accept audio input an...</td>\n",
              "      <td>Google’s Gemini accepts audio input as part of...</td>\n",
              "      <td>None</td>\n",
              "      <td>Google’s Gemini accepts audio input and has a ...</td>\n",
              "      <td>1</td>\n",
              "      <td>1</td>\n",
              "      <td>0</td>\n",
              "      <td>2.933248</td>\n",
              "      <td>d7fb5ad8-72f4-4831-b242-62b55602a8d1</td>\n",
              "      <td>f3c3121a-d03c-43e6-9be4-55c3df8f432c</td>\n",
              "    </tr>\n",
              "    <tr>\n",
              "      <th>5</th>\n",
              "      <td>does Claude accept audio and is Claude like Ge...</td>\n",
              "      <td>Based on the provided context, there is no dir...</td>\n",
              "      <td>None</td>\n",
              "      <td>Yes, Claude is similar to Google Gemini in tha...</td>\n",
              "      <td>0</td>\n",
              "      <td>0</td>\n",
              "      <td>0</td>\n",
              "      <td>3.616056</td>\n",
              "      <td>27c0ea43-4ace-44df-970b-ea4008c0ed67</td>\n",
              "      <td>e499238b-e6b8-44ec-9896-20067fe21ace</td>\n",
              "    </tr>\n",
              "    <tr>\n",
              "      <th>6</th>\n",
              "      <td>Whos Simon Willison and what did he learn abou...</td>\n",
              "      <td>Based on the provided context, Simon Willison ...</td>\n",
              "      <td>None</td>\n",
              "      <td>Simon Willison is a blogger who wrote about AI...</td>\n",
              "      <td>1</td>\n",
              "      <td>0</td>\n",
              "      <td>0</td>\n",
              "      <td>4.364111</td>\n",
              "      <td>9b0dc139-818f-4a57-b45f-85cd4182a725</td>\n",
              "      <td>5959d3bf-9be5-414d-af05-9e3da69570e9</td>\n",
              "    </tr>\n",
              "    <tr>\n",
              "      <th>7</th>\n",
              "      <td>How do misconceptions and misinformation about...</td>\n",
              "      <td>The context highlights that concerns about AI ...</td>\n",
              "      <td>None</td>\n",
              "      <td>The context highlights that while there is hyp...</td>\n",
              "      <td>1</td>\n",
              "      <td>1</td>\n",
              "      <td>0</td>\n",
              "      <td>3.499631</td>\n",
              "      <td>f495d520-29a2-43ea-9308-2ad539d23fda</td>\n",
              "      <td>19c0a62b-0424-4527-9b1f-23a0b3509a91</td>\n",
              "    </tr>\n",
              "    <tr>\n",
              "      <th>8</th>\n",
              "      <td>How do recent advancements in multi-modal AI m...</td>\n",
              "      <td>Recent advancements in multi-modal AI models l...</td>\n",
              "      <td>None</td>\n",
              "      <td>Recent advancements in multi-modal AI models, ...</td>\n",
              "      <td>1</td>\n",
              "      <td>1</td>\n",
              "      <td>0</td>\n",
              "      <td>3.896515</td>\n",
              "      <td>dc6e77e3-b4ae-4cc8-a443-4d2c286f11bd</td>\n",
              "      <td>8a035ff4-caa9-4ce7-8512-b76883360478</td>\n",
              "    </tr>\n",
              "    <tr>\n",
              "      <th>9</th>\n",
              "      <td>AI in society and economy how impact on jobs a...</td>\n",
              "      <td>Based on the provided context, AI has already ...</td>\n",
              "      <td>None</td>\n",
              "      <td>The context discusses how AI models, including...</td>\n",
              "      <td>1</td>\n",
              "      <td>1</td>\n",
              "      <td>0</td>\n",
              "      <td>3.190793</td>\n",
              "      <td>04758cf0-6ac2-4aa3-a83a-d45a1b176aca</td>\n",
              "      <td>26601df6-f765-4737-9c11-751d5bfad920</td>\n",
              "    </tr>\n",
              "    <tr>\n",
              "      <th>10</th>\n",
              "      <td>Considering the notable models such as GPT-4, ...</td>\n",
              "      <td>Based on the provided context, the development...</td>\n",
              "      <td>None</td>\n",
              "      <td>In 2024, the landscape of AI research and prac...</td>\n",
              "      <td>1</td>\n",
              "      <td>1</td>\n",
              "      <td>0</td>\n",
              "      <td>7.673460</td>\n",
              "      <td>3814d034-c205-46f5-9d19-e929a8eacaf2</td>\n",
              "      <td>a72803a7-48aa-43e3-90c9-f45f54f0cd6a</td>\n",
              "    </tr>\n",
              "    <tr>\n",
              "      <th>11</th>\n",
              "      <td>Considering the advancements in model performa...</td>\n",
              "      <td>Based on the provided context, prompt-driven a...</td>\n",
              "      <td>None</td>\n",
              "      <td>The improvements in model performance, such as...</td>\n",
              "      <td>1</td>\n",
              "      <td>1</td>\n",
              "      <td>0</td>\n",
              "      <td>8.050447</td>\n",
              "      <td>e8f68e99-6f49-474c-a177-ac87ed3285df</td>\n",
              "      <td>6580c6cc-9bd2-4c74-b246-65037ddebad3</td>\n",
              "    </tr>\n",
              "    <tr>\n",
              "      <th>12</th>\n",
              "      <td>How do the advancements in AI model performanc...</td>\n",
              "      <td>The context indicates that advancements in AI ...</td>\n",
              "      <td>None</td>\n",
              "      <td>The advancements in AI model performance on co...</td>\n",
              "      <td>1</td>\n",
              "      <td>1</td>\n",
              "      <td>0</td>\n",
              "      <td>4.629711</td>\n",
              "      <td>d48306a5-b63e-4d9b-b286-0ba6b04daddb</td>\n",
              "      <td>27959ece-5b56-4027-a320-823bc025e286</td>\n",
              "    </tr>\n",
              "    <tr>\n",
              "      <th>13</th>\n",
              "      <td>how synthetic training data help with model co...</td>\n",
              "      <td>Synthetic training data helps address model co...</td>\n",
              "      <td>None</td>\n",
              "      <td>The context explains that despite worries abou...</td>\n",
              "      <td>1</td>\n",
              "      <td>1</td>\n",
              "      <td>0</td>\n",
              "      <td>3.896467</td>\n",
              "      <td>4de913de-cd09-4874-a7f0-7693016ae0c9</td>\n",
              "      <td>0d6ef3e6-63d9-4ea0-921b-63e6bbfaf989</td>\n",
              "    </tr>\n",
              "    <tr>\n",
              "      <th>14</th>\n",
              "      <td>what Claude do</td>\n",
              "      <td>Based on the context, Claude is a series of la...</td>\n",
              "      <td>None</td>\n",
              "      <td>Based on the context, Claude is mentioned as p...</td>\n",
              "      <td>1</td>\n",
              "      <td>1</td>\n",
              "      <td>0</td>\n",
              "      <td>7.114406</td>\n",
              "      <td>0fc01a01-2e9b-43ef-b37d-7b6884bf29c7</td>\n",
              "      <td>da560225-7d0b-42a9-8897-db332764c872</td>\n",
              "    </tr>\n",
              "    <tr>\n",
              "      <th>15</th>\n",
              "      <td>What is Llama 3.1 in the context of large lang...</td>\n",
              "      <td>Llama 3.1 is a large language model from Meta,...</td>\n",
              "      <td>None</td>\n",
              "      <td>Llama 3.1 405B is a large language model that ...</td>\n",
              "      <td>1</td>\n",
              "      <td>1</td>\n",
              "      <td>0</td>\n",
              "      <td>2.191825</td>\n",
              "      <td>09d3b6ff-1316-4e6c-8745-82a4c6786616</td>\n",
              "      <td>008716f9-a1a8-4df8-96d2-87a272fa5353</td>\n",
              "    </tr>\n",
              "    <tr>\n",
              "      <th>16</th>\n",
              "      <td>What is the significance of Nova in the contex...</td>\n",
              "      <td>Nova is significant as it represents Amazon’s ...</td>\n",
              "      <td>None</td>\n",
              "      <td>Amazon pre-announced voice mode for Amazon Nov...</td>\n",
              "      <td>1</td>\n",
              "      <td>1</td>\n",
              "      <td>0</td>\n",
              "      <td>2.003452</td>\n",
              "      <td>a9e6d214-7916-472a-b4ad-8aa4b8f5e94d</td>\n",
              "      <td>478417a3-3de5-45d2-beaf-ea14ecc27c0c</td>\n",
              "    </tr>\n",
              "    <tr>\n",
              "      <th>17</th>\n",
              "      <td>What is Anthropic in the context of large lang...</td>\n",
              "      <td>Anthropic is an organization that has produced...</td>\n",
              "      <td>None</td>\n",
              "      <td>Anthropic is mentioned as one of the organizat...</td>\n",
              "      <td>1</td>\n",
              "      <td>0</td>\n",
              "      <td>0</td>\n",
              "      <td>1.687850</td>\n",
              "      <td>400ed725-fc9a-4244-b864-200fd547f38c</td>\n",
              "      <td>a76f43fd-21a8-4a7d-8569-dfe19b947f02</td>\n",
              "    </tr>\n",
              "    <tr>\n",
              "      <th>18</th>\n",
              "      <td>As an AI research enthusiast, how does the doc...</td>\n",
              "      <td>The document describes the current understandi...</td>\n",
              "      <td>None</td>\n",
              "      <td>The document includes some of the clearest exp...</td>\n",
              "      <td>1</td>\n",
              "      <td>1</td>\n",
              "      <td>0</td>\n",
              "      <td>5.539623</td>\n",
              "      <td>9ded93ad-3dee-4ad3-a111-cfd4fe8bf109</td>\n",
              "      <td>08be9a5d-5353-4a8e-877d-5244b24dae01</td>\n",
              "    </tr>\n",
              "    <tr>\n",
              "      <th>19</th>\n",
              "      <td>What are the recent developments and challenge...</td>\n",
              "      <td>Recent developments and challenges related to ...</td>\n",
              "      <td>None</td>\n",
              "      <td>In 2023, it was a breakthrough year for Large ...</td>\n",
              "      <td>1</td>\n",
              "      <td>1</td>\n",
              "      <td>0</td>\n",
              "      <td>4.096538</td>\n",
              "      <td>8549b375-dd79-4342-995d-3c98cda9b15c</td>\n",
              "      <td>6eac7c89-9a0b-4fd0-916a-68e0004149bc</td>\n",
              "    </tr>\n",
              "    <tr>\n",
              "      <th>20</th>\n",
              "      <td>What is Mistral in the context of large langua...</td>\n",
              "      <td>Mistral is a team and organization that produc...</td>\n",
              "      <td>None</td>\n",
              "      <td>Mistral is mentioned as one of the organizatio...</td>\n",
              "      <td>1</td>\n",
              "      <td>1</td>\n",
              "      <td>0</td>\n",
              "      <td>2.359278</td>\n",
              "      <td>0008969d-8888-4deb-8bb0-5300b7d7c9de</td>\n",
              "      <td>2b4bb893-7d95-4e74-b3d7-0f5d8b9d2912</td>\n",
              "    </tr>\n",
              "    <tr>\n",
              "      <th>21</th>\n",
              "      <td>How do the themes of Llama 3 and Llama 3.3 rel...</td>\n",
              "      <td>I don't know.</td>\n",
              "      <td>None</td>\n",
              "      <td>The context highlights significant AI developm...</td>\n",
              "      <td>0</td>\n",
              "      <td>0</td>\n",
              "      <td>0</td>\n",
              "      <td>1.524234</td>\n",
              "      <td>4c1c9bc3-d321-49b7-9ae5-5869415ff291</td>\n",
              "      <td>2e98b4d0-2311-4dcd-bac2-1e74c9bf3f0f</td>\n",
              "    </tr>\n",
              "    <tr>\n",
              "      <th>22</th>\n",
              "      <td>How does Meta's involvement in inference-scali...</td>\n",
              "      <td>Based on the provided context, Meta is activel...</td>\n",
              "      <td>None</td>\n",
              "      <td>Meta published a paper on training large langu...</td>\n",
              "      <td>1</td>\n",
              "      <td>1</td>\n",
              "      <td>0</td>\n",
              "      <td>12.232314</td>\n",
              "      <td>6ab7cad3-d2c8-4b27-83ff-2f29945c26f6</td>\n",
              "      <td>e448c5c6-1ee0-4f01-842e-a4e44971fe38</td>\n",
              "    </tr>\n",
              "    <tr>\n",
              "      <th>23</th>\n",
              "      <td>How do the explanations of how Large Language ...</td>\n",
              "      <td>The first segment explains that Large Language...</td>\n",
              "      <td>None</td>\n",
              "      <td>The first segment provides clear explanations ...</td>\n",
              "      <td>1</td>\n",
              "      <td>1</td>\n",
              "      <td>0</td>\n",
              "      <td>6.317329</td>\n",
              "      <td>54d45b47-59e1-401e-9b00-893196d7568f</td>\n",
              "      <td>245dfe7e-9192-400c-9411-7b708e3b2d0d</td>\n",
              "    </tr>\n",
              "    <tr>\n",
              "      <th>24</th>\n",
              "      <td>How do the recent developments in large langua...</td>\n",
              "      <td>The context indicates that multiple organizati...</td>\n",
              "      <td>None</td>\n",
              "      <td>The context highlights Google's significant ro...</td>\n",
              "      <td>1</td>\n",
              "      <td>1</td>\n",
              "      <td>0</td>\n",
              "      <td>4.022334</td>\n",
              "      <td>8d804e12-aad9-4955-9364-173a93946475</td>\n",
              "      <td>44e0a938-24b4-492d-acc1-0a86f7869035</td>\n",
              "    </tr>\n",
              "    <tr>\n",
              "      <th>25</th>\n",
              "      <td>How does Google’s Gemini accept audio input an...</td>\n",
              "      <td>Based on the provided context, Google’s Gemini...</td>\n",
              "      <td>None</td>\n",
              "      <td>Google’s Gemini accepts audio input and has a ...</td>\n",
              "      <td>1</td>\n",
              "      <td>1</td>\n",
              "      <td>0</td>\n",
              "      <td>4.306928</td>\n",
              "      <td>70256012-146c-428a-97b0-ccb2180eb867</td>\n",
              "      <td>0ef6b065-1882-46d1-aa36-eb191bfaf5b1</td>\n",
              "    </tr>\n",
              "    <tr>\n",
              "      <th>26</th>\n",
              "      <td>does Claude accept audio and is Claude like Ge...</td>\n",
              "      <td>Based on the context provided, Claude has adva...</td>\n",
              "      <td>None</td>\n",
              "      <td>Yes, Claude is similar to Google Gemini in tha...</td>\n",
              "      <td>0</td>\n",
              "      <td>0</td>\n",
              "      <td>0</td>\n",
              "      <td>2.981328</td>\n",
              "      <td>a5eea4fb-6d27-4912-b23d-53e5fd581149</td>\n",
              "      <td>350fb491-21c5-49dc-ac91-a2843385123d</td>\n",
              "    </tr>\n",
              "    <tr>\n",
              "      <th>27</th>\n",
              "      <td>Whos Simon Willison and what did he learn abou...</td>\n",
              "      <td>Based on the provided context:\\n\\nSimon Willis...</td>\n",
              "      <td>None</td>\n",
              "      <td>Simon Willison is a blogger who wrote about AI...</td>\n",
              "      <td>1</td>\n",
              "      <td>1</td>\n",
              "      <td>0</td>\n",
              "      <td>5.071147</td>\n",
              "      <td>586f4c27-bec7-4157-8fd7-5abdffe1b620</td>\n",
              "      <td>4eb06523-cb2f-4a25-8436-01602ccd67f0</td>\n",
              "    </tr>\n",
              "    <tr>\n",
              "      <th>28</th>\n",
              "      <td>How do misconceptions and misinformation about...</td>\n",
              "      <td>Based on the context provided, misconceptions ...</td>\n",
              "      <td>None</td>\n",
              "      <td>The context highlights that while there is hyp...</td>\n",
              "      <td>1</td>\n",
              "      <td>1</td>\n",
              "      <td>0</td>\n",
              "      <td>3.645403</td>\n",
              "      <td>aba112c4-68ba-43cf-8710-d59e68a92298</td>\n",
              "      <td>892a321d-1251-42a8-8809-286a009a8423</td>\n",
              "    </tr>\n",
              "    <tr>\n",
              "      <th>29</th>\n",
              "      <td>How do recent advancements in multi-modal AI m...</td>\n",
              "      <td>Recent advancements in multi-modal AI models l...</td>\n",
              "      <td>None</td>\n",
              "      <td>Recent advancements in multi-modal AI models, ...</td>\n",
              "      <td>1</td>\n",
              "      <td>1</td>\n",
              "      <td>0</td>\n",
              "      <td>4.297284</td>\n",
              "      <td>cdeb6186-423a-4ead-98e2-09973111b4d2</td>\n",
              "      <td>a91ae515-3de3-42c7-bc11-c2804459cb61</td>\n",
              "    </tr>\n",
              "    <tr>\n",
              "      <th>30</th>\n",
              "      <td>AI in society and economy how impact on jobs a...</td>\n",
              "      <td>Based on the provided context, AI's impact on ...</td>\n",
              "      <td>None</td>\n",
              "      <td>The context discusses how AI models, including...</td>\n",
              "      <td>1</td>\n",
              "      <td>1</td>\n",
              "      <td>0</td>\n",
              "      <td>3.275843</td>\n",
              "      <td>9deadfa6-c213-4847-985b-b50cb14c6d14</td>\n",
              "      <td>dd0123bf-e906-4266-95c3-1ba2682e547e</td>\n",
              "    </tr>\n",
              "    <tr>\n",
              "      <th>31</th>\n",
              "      <td>Considering the notable models such as GPT-4, ...</td>\n",
              "      <td>Based on the context provided, the development...</td>\n",
              "      <td>None</td>\n",
              "      <td>In 2024, the landscape of AI research and prac...</td>\n",
              "      <td>1</td>\n",
              "      <td>1</td>\n",
              "      <td>0</td>\n",
              "      <td>9.927511</td>\n",
              "      <td>5a23f36f-4795-4b4e-9c30-bf2e647857dd</td>\n",
              "      <td>7a604382-9e37-42ff-9419-56c70ac47b46</td>\n",
              "    </tr>\n",
              "    <tr>\n",
              "      <th>32</th>\n",
              "      <td>Considering the advancements in model performa...</td>\n",
              "      <td>Based on the provided context, prompt-driven a...</td>\n",
              "      <td>None</td>\n",
              "      <td>The improvements in model performance, such as...</td>\n",
              "      <td>1</td>\n",
              "      <td>1</td>\n",
              "      <td>0</td>\n",
              "      <td>6.533438</td>\n",
              "      <td>a60ec325-2644-4cea-9a9e-2752781aeb04</td>\n",
              "      <td>4e0d97e4-94af-4819-b781-0f113871adf7</td>\n",
              "    </tr>\n",
              "    <tr>\n",
              "      <th>33</th>\n",
              "      <td>How do the advancements in AI model performanc...</td>\n",
              "      <td>Based on the provided context, advancements in...</td>\n",
              "      <td>None</td>\n",
              "      <td>The advancements in AI model performance on co...</td>\n",
              "      <td>1</td>\n",
              "      <td>1</td>\n",
              "      <td>0</td>\n",
              "      <td>3.889737</td>\n",
              "      <td>02d25f50-d8ae-40fd-aeeb-62f45e43c19c</td>\n",
              "      <td>7196f96e-8875-46f1-983d-a277ddc67c94</td>\n",
              "    </tr>\n",
              "    <tr>\n",
              "      <th>34</th>\n",
              "      <td>how synthetic training data help with model co...</td>\n",
              "      <td>Synthetic training data helps address model co...</td>\n",
              "      <td>None</td>\n",
              "      <td>The context explains that despite worries abou...</td>\n",
              "      <td>1</td>\n",
              "      <td>1</td>\n",
              "      <td>0</td>\n",
              "      <td>4.600656</td>\n",
              "      <td>d51760a1-d252-45bf-bce4-cdc9fe0a6240</td>\n",
              "      <td>bc87721a-84c5-447c-a9e8-bda114bd854d</td>\n",
              "    </tr>\n",
              "    <tr>\n",
              "      <th>35</th>\n",
              "      <td>what Claude do</td>\n",
              "      <td>Based on the provided context, Claude is a ser...</td>\n",
              "      <td>None</td>\n",
              "      <td>Based on the context, Claude is mentioned as p...</td>\n",
              "      <td>1</td>\n",
              "      <td>1</td>\n",
              "      <td>0</td>\n",
              "      <td>4.220877</td>\n",
              "      <td>d0403145-1d90-4e41-b5f5-4e3df9b08ec6</td>\n",
              "      <td>ae0b02ed-287f-43c1-a003-0eac4b4c6921</td>\n",
              "    </tr>\n",
              "    <tr>\n",
              "      <th>36</th>\n",
              "      <td>What is Llama 3.1 in the context of large lang...</td>\n",
              "      <td>Llama 3.1 is a large language model from Meta,...</td>\n",
              "      <td>None</td>\n",
              "      <td>Llama 3.1 405B is a large language model that ...</td>\n",
              "      <td>1</td>\n",
              "      <td>1</td>\n",
              "      <td>0</td>\n",
              "      <td>1.285883</td>\n",
              "      <td>07d689f9-5666-4b69-a1f6-0ee6a79fcd43</td>\n",
              "      <td>bed1adbe-c034-47f9-a73e-580f95f82986</td>\n",
              "    </tr>\n",
              "    <tr>\n",
              "      <th>37</th>\n",
              "      <td>What is the significance of Nova in the contex...</td>\n",
              "      <td>Nova is significant as it represents Amazon's ...</td>\n",
              "      <td>None</td>\n",
              "      <td>Amazon pre-announced voice mode for Amazon Nov...</td>\n",
              "      <td>1</td>\n",
              "      <td>1</td>\n",
              "      <td>0</td>\n",
              "      <td>2.920560</td>\n",
              "      <td>ef5e8f85-3ebb-42d9-ac4e-dd5efd70f9f1</td>\n",
              "      <td>ae74f8e8-f00e-4ab0-99a3-5521b4ca1de8</td>\n",
              "    </tr>\n",
              "    <tr>\n",
              "      <th>38</th>\n",
              "      <td>What is Anthropic in the context of large lang...</td>\n",
              "      <td>Anthropic is an organization that has produced...</td>\n",
              "      <td>None</td>\n",
              "      <td>Anthropic is mentioned as one of the organizat...</td>\n",
              "      <td>1</td>\n",
              "      <td>0</td>\n",
              "      <td>0</td>\n",
              "      <td>1.675276</td>\n",
              "      <td>14ac22ba-c616-4c06-9a09-6e0630d2ab8f</td>\n",
              "      <td>8f6cfaa3-c364-42ba-89f9-2a74046affd7</td>\n",
              "    </tr>\n",
              "    <tr>\n",
              "      <th>39</th>\n",
              "      <td>As an AI research enthusiast, how does the doc...</td>\n",
              "      <td>The document describes the current understandi...</td>\n",
              "      <td>None</td>\n",
              "      <td>The document includes some of the clearest exp...</td>\n",
              "      <td>1</td>\n",
              "      <td>1</td>\n",
              "      <td>0</td>\n",
              "      <td>9.504137</td>\n",
              "      <td>2ea45b26-a2f9-46b7-971d-a458059bf72e</td>\n",
              "      <td>3d41c73a-1ede-496f-b542-9ba9d2e03f9e</td>\n",
              "    </tr>\n",
              "    <tr>\n",
              "      <th>40</th>\n",
              "      <td>What are the recent developments and challenge...</td>\n",
              "      <td>Recent developments and challenges related to ...</td>\n",
              "      <td>None</td>\n",
              "      <td>In 2023, it was a breakthrough year for Large ...</td>\n",
              "      <td>1</td>\n",
              "      <td>1</td>\n",
              "      <td>0</td>\n",
              "      <td>5.059038</td>\n",
              "      <td>760f7526-98ba-4635-ba6a-7fdb89698839</td>\n",
              "      <td>5aa31560-713b-49ee-82fd-88b3395d5c90</td>\n",
              "    </tr>\n",
              "    <tr>\n",
              "      <th>41</th>\n",
              "      <td>What is Mistral in the context of large langua...</td>\n",
              "      <td>Mistral is a team and organization that produc...</td>\n",
              "      <td>None</td>\n",
              "      <td>Mistral is mentioned as one of the organizatio...</td>\n",
              "      <td>1</td>\n",
              "      <td>1</td>\n",
              "      <td>0</td>\n",
              "      <td>2.355631</td>\n",
              "      <td>42f7a620-c545-4ba8-abe3-45e67269e83e</td>\n",
              "      <td>4fa0cd46-7ad7-449c-9b79-756c74539585</td>\n",
              "    </tr>\n",
              "  </tbody>\n",
              "</table>\n",
              "</div>"
            ],
            "text/plain": [
              "<ExperimentResults monthly-nail-37>"
            ]
          },
          "execution_count": 42,
          "metadata": {},
          "output_type": "execute_result"
        }
      ],
      "source": [
        "evaluate(\n",
        "    rag_chain.invoke,\n",
        "    data=dataset_name,\n",
        "    evaluators=[\n",
        "        qa_evaluator,\n",
        "        labeled_helpfulness_evaluator,\n",
        "        dope_or_nope_evaluator\n",
        "    ],\n",
        "    metadata={\"revision_id\": \"default_chain_init\"},\n",
        ")"
      ]
    },
    {
      "cell_type": "markdown",
      "metadata": {
        "id": "Nq7fCVinrpI4"
      },
      "source": [
        "## Dope-ifying Our Application\n",
        "\n",
        "We'll be making a few changes to our RAG chain to increase its performance on our SDG evaluation test dataset!\n",
        "\n",
        "- Include a \"dope\" prompt augmentation\n",
        "- Use larger chunks\n",
        "- Improve the retriever model to: `text-embedding-3-large`\n",
        "\n",
        "Let's see how this changes our evaluation!"
      ]
    },
    {
      "cell_type": "code",
      "execution_count": 43,
      "metadata": {
        "id": "z56pXwyUgFUt"
      },
      "outputs": [],
      "source": [
        "DOPE_RAG_PROMPT = \"\"\"\\\n",
        "Given a provided context and question, you must answer the question based only on context.\n",
        "\n",
        "If you cannot answer the question based on the context - you must say \"I don't know\".\n",
        "\n",
        "You must answer the questions in a dope way, be cool!\n",
        "\n",
        "Context: {context}\n",
        "Question: {question}\n",
        "\"\"\"\n",
        "\n",
        "dope_rag_prompt = ChatPromptTemplate.from_template(DOPE_RAG_PROMPT)"
      ]
    },
    {
      "cell_type": "code",
      "execution_count": 44,
      "metadata": {
        "id": "rZLcTstJgfv5"
      },
      "outputs": [],
      "source": [
        "rag_documents = docs"
      ]
    },
    {
      "cell_type": "code",
      "execution_count": 45,
      "metadata": {
        "id": "-LYsyirngj6n"
      },
      "outputs": [],
      "source": [
        "from langchain.text_splitter import RecursiveCharacterTextSplitter\n",
        "\n",
        "text_splitter = RecursiveCharacterTextSplitter(\n",
        "    chunk_size = 1000,\n",
        "    chunk_overlap = 50\n",
        ")\n",
        "\n",
        "rag_documents = text_splitter.split_documents(rag_documents)"
      ]
    },
    {
      "cell_type": "markdown",
      "metadata": {
        "id": "spldiPuTCzDO"
      },
      "source": [
        "#### ❓Question #2:\n",
        "\n",
        "Why would modifying our chunk size modify the performance of our application?"
      ]
    },
    {
      "cell_type": "code",
      "execution_count": 46,
      "metadata": {
        "id": "b9MI2Bm2go1r"
      },
      "outputs": [],
      "source": [
        "from langchain_openai import OpenAIEmbeddings\n",
        "\n",
        "embeddings = OpenAIEmbeddings(model=\"text-embedding-3-large\")"
      ]
    },
    {
      "cell_type": "markdown",
      "metadata": {
        "id": "UBbjG6cKC8BQ"
      },
      "source": [
        "#### ❓Question #3:\n",
        "\n",
        "Why would modifying our embedding model modify the performance of our application?"
      ]
    },
    {
      "cell_type": "code",
      "execution_count": 47,
      "metadata": {
        "id": "hVUY25FKgxXx"
      },
      "outputs": [],
      "source": [
        "vectorstore = Qdrant.from_documents(\n",
        "    documents=rag_documents,\n",
        "    embedding=embeddings,\n",
        "    location=\":memory:\",\n",
        "    collection_name=\"AI Across Years (Augmented)\"\n",
        ")"
      ]
    },
    {
      "cell_type": "code",
      "execution_count": 48,
      "metadata": {
        "id": "Q4TOZNYIg2v1"
      },
      "outputs": [],
      "source": [
        "retriever = vectorstore.as_retriever()"
      ]
    },
    {
      "cell_type": "markdown",
      "metadata": {
        "id": "SqYGFrnKDB91"
      },
      "source": [
        "Setting up our new and improved DOPE RAG CHAIN."
      ]
    },
    {
      "cell_type": "code",
      "execution_count": 49,
      "metadata": {
        "id": "HqnTqeXMhAdx"
      },
      "outputs": [],
      "source": [
        "dope_rag_chain = (\n",
        "    {\"context\": itemgetter(\"question\") | retriever, \"question\": itemgetter(\"question\")}\n",
        "    | dope_rag_prompt | llm | StrOutputParser()\n",
        ")"
      ]
    },
    {
      "cell_type": "markdown",
      "metadata": {
        "id": "21pTxoqJDI1Y"
      },
      "source": [
        "Let's test it on the same output that we saw before."
      ]
    },
    {
      "cell_type": "code",
      "execution_count": 50,
      "metadata": {
        "colab": {
          "base_uri": "https://localhost:8080/",
          "height": 70
        },
        "id": "OfZZ3MoN3fKv",
        "outputId": "d65722dd-92c2-4e4e-9cca-c42ee6f3f208"
      },
      "outputs": [
        {
          "data": {
            "text/plain": [
              "'Yo, agents are kinda like the holy grail in AI discussions but also the ultimate mystery — no single vibe defines them. Some folks think of agents like your classic travel agent, cruising around and handling business for you. Others see them as language models with tool access, looping through tasks to solve problems. It’s all tangled up with words like “autonomy,” but nobody drops a solid definition. \\n\\nBottom line? Agents are AI systems dreamed to act on your behalf, but real-deal examples are still ghostin’—more “coming soon” than “here now.” The biggest hitch? Gullibility. These agents gotta tell truth from fiction or else they’re just fancy fallible assistants.\\n\\nSo yeah, agents? That buzzword with mad potential but still waiting to truly flex. Keep your eyes peeled, ‘cause the future might just bring their glow-up!'"
            ]
          },
          "execution_count": 50,
          "metadata": {},
          "output_type": "execute_result"
        }
      ],
      "source": [
        "dope_rag_chain.invoke({\"question\" : \"what are Agents?\"})"
      ]
    },
    {
      "cell_type": "markdown",
      "metadata": {
        "id": "lpj7v1inDLnQ"
      },
      "source": [
        "Finally, we can evaluate the new chain on the same test set!"
      ]
    },
    {
      "cell_type": "code",
      "execution_count": 51,
      "metadata": {
        "colab": {
          "base_uri": "https://localhost:8080/",
          "height": 136,
          "referenced_widgets": [
            "bf8dcc0895054529af356da401c513f6",
            "7dce19ac55264f2b88a0e4730e55867b",
            "2a0755d4476543feb4a64538e3e37213",
            "158212a630f04cbd884c937f2f60f5c8",
            "11c7f66acc1d45be9517d0addf49331e",
            "ddffd834e09940a4bd3874c3f39b4e21",
            "ef63c3b2d51e452da03cdae5d9b034be",
            "c20b539cd70b4ba99601ad1d69fd9cec",
            "a6d681eeafa44d18b933a4c5dec88382",
            "d1d54ccd56494c4d831f71b416a1f880",
            "530f696feefe499da08c6312047379b2"
          ]
        },
        "id": "Dx11S2b-hIM8",
        "outputId": "d3a3ea78-aa32-4bd2-8c2a-d0d0303695c1"
      },
      "outputs": [
        {
          "name": "stdout",
          "output_type": "stream",
          "text": [
            "View the evaluation results for experiment: 'impressionable-hair-55' at:\n",
            "https://smith.langchain.com/o/78cbe58d-b358-4331-abfb-293765485355/datasets/2a53f468-8f56-4cfa-bb90-f3c5b1f42c97/compare?selectedSessions=a582c9ad-e669-4f51-bfbb-8beefab1af91\n",
            "\n",
            "\n"
          ]
        },
        {
          "data": {
            "application/vnd.jupyter.widget-view+json": {
              "model_id": "bda844b92703435b842c5d1e1b2470cc",
              "version_major": 2,
              "version_minor": 0
            },
            "text/plain": [
              "0it [00:00, ?it/s]"
            ]
          },
          "metadata": {},
          "output_type": "display_data"
        },
        {
          "data": {
            "text/html": [
              "<div>\n",
              "<style scoped>\n",
              "    .dataframe tbody tr th:only-of-type {\n",
              "        vertical-align: middle;\n",
              "    }\n",
              "\n",
              "    .dataframe tbody tr th {\n",
              "        vertical-align: top;\n",
              "    }\n",
              "\n",
              "    .dataframe thead th {\n",
              "        text-align: right;\n",
              "    }\n",
              "</style>\n",
              "<table border=\"1\" class=\"dataframe\">\n",
              "  <thead>\n",
              "    <tr style=\"text-align: right;\">\n",
              "      <th></th>\n",
              "      <th>inputs.question</th>\n",
              "      <th>outputs.output</th>\n",
              "      <th>error</th>\n",
              "      <th>reference.answer</th>\n",
              "      <th>feedback.correctness</th>\n",
              "      <th>feedback.helpfulness</th>\n",
              "      <th>feedback.dopeness</th>\n",
              "      <th>execution_time</th>\n",
              "      <th>example_id</th>\n",
              "      <th>id</th>\n",
              "    </tr>\n",
              "  </thead>\n",
              "  <tbody>\n",
              "    <tr>\n",
              "      <th>0</th>\n",
              "      <td>How do the themes of Llama 3 and Llama 3.3 rel...</td>\n",
              "      <td>Yo, gotta keep it real—based on the context yo...</td>\n",
              "      <td>None</td>\n",
              "      <td>The context highlights significant AI developm...</td>\n",
              "      <td>0</td>\n",
              "      <td>0</td>\n",
              "      <td>1</td>\n",
              "      <td>3.217474</td>\n",
              "      <td>bf005041-08da-4861-87ea-a61b1354bd33</td>\n",
              "      <td>0fa898ff-3c19-4e19-a235-b46b26591ae8</td>\n",
              "    </tr>\n",
              "    <tr>\n",
              "      <th>1</th>\n",
              "      <td>How does Meta's involvement in inference-scali...</td>\n",
              "      <td>Alright, here’s the lowdown with some flair:\\n...</td>\n",
              "      <td>None</td>\n",
              "      <td>Meta published a paper on training large langu...</td>\n",
              "      <td>1</td>\n",
              "      <td>0</td>\n",
              "      <td>1</td>\n",
              "      <td>5.305242</td>\n",
              "      <td>3334488f-9fbe-4f16-a4b1-517c346ec253</td>\n",
              "      <td>b278978c-1eb4-4b74-bdf4-00ce44ed3dcb</td>\n",
              "    </tr>\n",
              "    <tr>\n",
              "      <th>2</th>\n",
              "      <td>How do the explanations of how Large Language ...</td>\n",
              "      <td>Alright, let’s break it down smooth and clear....</td>\n",
              "      <td>None</td>\n",
              "      <td>The first segment provides clear explanations ...</td>\n",
              "      <td>1</td>\n",
              "      <td>1</td>\n",
              "      <td>1</td>\n",
              "      <td>8.330624</td>\n",
              "      <td>1a782136-44f3-49d6-a938-e88938735998</td>\n",
              "      <td>cfadb1f4-015d-425a-8985-0a2c5bc525b5</td>\n",
              "    </tr>\n",
              "    <tr>\n",
              "      <th>3</th>\n",
              "      <td>How do the recent developments in large langua...</td>\n",
              "      <td>Alright, here’s the lowdown, fresh and crispy:...</td>\n",
              "      <td>None</td>\n",
              "      <td>The context highlights Google's significant ro...</td>\n",
              "      <td>1</td>\n",
              "      <td>1</td>\n",
              "      <td>1</td>\n",
              "      <td>4.423395</td>\n",
              "      <td>b7924581-d1d5-401d-b580-2e09a09c727c</td>\n",
              "      <td>d0e6679b-517f-4122-a093-d9ad9c80928c</td>\n",
              "    </tr>\n",
              "    <tr>\n",
              "      <th>4</th>\n",
              "      <td>How does Google’s Gemini accept audio input an...</td>\n",
              "      <td>Yo, here’s the lowdown straight from the conte...</td>\n",
              "      <td>None</td>\n",
              "      <td>Google’s Gemini accepts audio input and has a ...</td>\n",
              "      <td>1</td>\n",
              "      <td>0</td>\n",
              "      <td>1</td>\n",
              "      <td>6.039014</td>\n",
              "      <td>d7fb5ad8-72f4-4831-b242-62b55602a8d1</td>\n",
              "      <td>250f8a8e-7625-4bbf-937e-4be3b0490181</td>\n",
              "    </tr>\n",
              "    <tr>\n",
              "      <th>5</th>\n",
              "      <td>does Claude accept audio and is Claude like Ge...</td>\n",
              "      <td>Alright, cool question! Based on the vibe of t...</td>\n",
              "      <td>None</td>\n",
              "      <td>Yes, Claude is similar to Google Gemini in tha...</td>\n",
              "      <td>0</td>\n",
              "      <td>0</td>\n",
              "      <td>1</td>\n",
              "      <td>3.046396</td>\n",
              "      <td>27c0ea43-4ace-44df-970b-ea4008c0ed67</td>\n",
              "      <td>6cd9fdce-54d6-4124-b268-eeadba89c1dc</td>\n",
              "    </tr>\n",
              "    <tr>\n",
              "      <th>6</th>\n",
              "      <td>Whos Simon Willison and what did he learn abou...</td>\n",
              "      <td>Alright, listen up! Simon Willison is the cool...</td>\n",
              "      <td>None</td>\n",
              "      <td>Simon Willison is a blogger who wrote about AI...</td>\n",
              "      <td>1</td>\n",
              "      <td>1</td>\n",
              "      <td>1</td>\n",
              "      <td>5.713223</td>\n",
              "      <td>9b0dc139-818f-4a57-b45f-85cd4182a725</td>\n",
              "      <td>e165f6b4-db04-41a9-8f3b-aabf23449209</td>\n",
              "    </tr>\n",
              "    <tr>\n",
              "      <th>7</th>\n",
              "      <td>How do misconceptions and misinformation about...</td>\n",
              "      <td>Yo, here’s the lowdown straight from the conte...</td>\n",
              "      <td>None</td>\n",
              "      <td>The context highlights that while there is hyp...</td>\n",
              "      <td>1</td>\n",
              "      <td>1</td>\n",
              "      <td>1</td>\n",
              "      <td>4.400378</td>\n",
              "      <td>f495d520-29a2-43ea-9308-2ad539d23fda</td>\n",
              "      <td>504b051d-c933-4624-a35b-2672b5aa0396</td>\n",
              "    </tr>\n",
              "    <tr>\n",
              "      <th>8</th>\n",
              "      <td>How do recent advancements in multi-modal AI m...</td>\n",
              "      <td>Yo, check this out — 2024 was straight-up the ...</td>\n",
              "      <td>None</td>\n",
              "      <td>Recent advancements in multi-modal AI models, ...</td>\n",
              "      <td>1</td>\n",
              "      <td>1</td>\n",
              "      <td>1</td>\n",
              "      <td>6.320585</td>\n",
              "      <td>dc6e77e3-b4ae-4cc8-a443-4d2c286f11bd</td>\n",
              "      <td>07fe15f5-f420-4b3b-9354-e332a2617791</td>\n",
              "    </tr>\n",
              "    <tr>\n",
              "      <th>9</th>\n",
              "      <td>AI in society and economy how impact on jobs a...</td>\n",
              "      <td>Aight, here’s the lowdown on AI’s scoop in job...</td>\n",
              "      <td>None</td>\n",
              "      <td>The context discusses how AI models, including...</td>\n",
              "      <td>1</td>\n",
              "      <td>1</td>\n",
              "      <td>1</td>\n",
              "      <td>3.381242</td>\n",
              "      <td>04758cf0-6ac2-4aa3-a83a-d45a1b176aca</td>\n",
              "      <td>1431fd43-99dd-445e-b125-1cb13f225cbe</td>\n",
              "    </tr>\n",
              "    <tr>\n",
              "      <th>10</th>\n",
              "      <td>Considering the notable models such as GPT-4, ...</td>\n",
              "      <td>Yo, 2024's been straight-up wild in the AI gam...</td>\n",
              "      <td>None</td>\n",
              "      <td>In 2024, the landscape of AI research and prac...</td>\n",
              "      <td>1</td>\n",
              "      <td>1</td>\n",
              "      <td>1</td>\n",
              "      <td>4.670362</td>\n",
              "      <td>3814d034-c205-46f5-9d19-e929a8eacaf2</td>\n",
              "      <td>a1c9883d-e35f-46a8-b1c9-630e99b3d317</td>\n",
              "    </tr>\n",
              "    <tr>\n",
              "      <th>11</th>\n",
              "      <td>Considering the advancements in model performa...</td>\n",
              "      <td>Yo, here’s the lowdown on how prompt-driven ap...</td>\n",
              "      <td>None</td>\n",
              "      <td>The improvements in model performance, such as...</td>\n",
              "      <td>1</td>\n",
              "      <td>1</td>\n",
              "      <td>1</td>\n",
              "      <td>6.495331</td>\n",
              "      <td>e8f68e99-6f49-474c-a177-ac87ed3285df</td>\n",
              "      <td>b6480b33-97ea-4e31-a33f-7c525110db56</td>\n",
              "    </tr>\n",
              "    <tr>\n",
              "      <th>12</th>\n",
              "      <td>How do the advancements in AI model performanc...</td>\n",
              "      <td>Aight, here’s the lowdown—based on the context...</td>\n",
              "      <td>None</td>\n",
              "      <td>The advancements in AI model performance on co...</td>\n",
              "      <td>1</td>\n",
              "      <td>1</td>\n",
              "      <td>1</td>\n",
              "      <td>9.935076</td>\n",
              "      <td>d48306a5-b63e-4d9b-b286-0ba6b04daddb</td>\n",
              "      <td>e29872a2-ae76-450d-af7a-2a9cfb2e4a10</td>\n",
              "    </tr>\n",
              "    <tr>\n",
              "      <th>13</th>\n",
              "      <td>how synthetic training data help with model co...</td>\n",
              "      <td>Yo, here’s the lowdown on synthetic training d...</td>\n",
              "      <td>None</td>\n",
              "      <td>The context explains that despite worries abou...</td>\n",
              "      <td>1</td>\n",
              "      <td>1</td>\n",
              "      <td>1</td>\n",
              "      <td>5.707767</td>\n",
              "      <td>4de913de-cd09-4874-a7f0-7693016ae0c9</td>\n",
              "      <td>b542bb2d-4a7f-4b8e-8480-cf8a9f1b1704</td>\n",
              "    </tr>\n",
              "    <tr>\n",
              "      <th>14</th>\n",
              "      <td>what Claude do</td>\n",
              "      <td>Alright, check this out — Claude ain't just yo...</td>\n",
              "      <td>None</td>\n",
              "      <td>Based on the context, Claude is mentioned as p...</td>\n",
              "      <td>1</td>\n",
              "      <td>0</td>\n",
              "      <td>1</td>\n",
              "      <td>3.810250</td>\n",
              "      <td>0fc01a01-2e9b-43ef-b37d-7b6884bf29c7</td>\n",
              "      <td>036b0f75-e7ae-4caf-a18f-10cfdd291a19</td>\n",
              "    </tr>\n",
              "    <tr>\n",
              "      <th>15</th>\n",
              "      <td>What is Llama 3.1 in the context of large lang...</td>\n",
              "      <td>Yo, based on the vibe of the context you dropp...</td>\n",
              "      <td>None</td>\n",
              "      <td>Llama 3.1 405B is a large language model that ...</td>\n",
              "      <td>0</td>\n",
              "      <td>0</td>\n",
              "      <td>1</td>\n",
              "      <td>2.968076</td>\n",
              "      <td>09d3b6ff-1316-4e6c-8745-82a4c6786616</td>\n",
              "      <td>aad18f5e-9de8-4dbe-821b-98e199e8bbc4</td>\n",
              "    </tr>\n",
              "    <tr>\n",
              "      <th>16</th>\n",
              "      <td>What is the significance of Nova in the contex...</td>\n",
              "      <td>Yo, Nova's the real MVP in the multi-modal aud...</td>\n",
              "      <td>None</td>\n",
              "      <td>Amazon pre-announced voice mode for Amazon Nov...</td>\n",
              "      <td>1</td>\n",
              "      <td>1</td>\n",
              "      <td>1</td>\n",
              "      <td>4.028005</td>\n",
              "      <td>a9e6d214-7916-472a-b4ad-8aa4b8f5e94d</td>\n",
              "      <td>25865bad-57ee-412d-9ea4-61d412af2cb6</td>\n",
              "    </tr>\n",
              "    <tr>\n",
              "      <th>17</th>\n",
              "      <td>What is Anthropic in the context of large lang...</td>\n",
              "      <td>Yo, Anthropic’s like a big player in the LLM g...</td>\n",
              "      <td>None</td>\n",
              "      <td>Anthropic is mentioned as one of the organizat...</td>\n",
              "      <td>1</td>\n",
              "      <td>0</td>\n",
              "      <td>1</td>\n",
              "      <td>3.376360</td>\n",
              "      <td>400ed725-fc9a-4244-b864-200fd547f38c</td>\n",
              "      <td>11b3b34f-df63-4cb3-80c2-8b36d35715ca</td>\n",
              "    </tr>\n",
              "    <tr>\n",
              "      <th>18</th>\n",
              "      <td>As an AI research enthusiast, how does the doc...</td>\n",
              "      <td>Alright, here’s the lowdown on Large Language ...</td>\n",
              "      <td>None</td>\n",
              "      <td>The document includes some of the clearest exp...</td>\n",
              "      <td>1</td>\n",
              "      <td>0</td>\n",
              "      <td>1</td>\n",
              "      <td>4.999138</td>\n",
              "      <td>9ded93ad-3dee-4ad3-a111-cfd4fe8bf109</td>\n",
              "      <td>b614c6ad-4375-443a-b0e2-9bcf5e7773bf</td>\n",
              "    </tr>\n",
              "    <tr>\n",
              "      <th>19</th>\n",
              "      <td>What are the recent developments and challenge...</td>\n",
              "      <td>Yo, here’s the lowdown on 2023’s AI scene, esp...</td>\n",
              "      <td>None</td>\n",
              "      <td>In 2023, it was a breakthrough year for Large ...</td>\n",
              "      <td>1</td>\n",
              "      <td>1</td>\n",
              "      <td>1</td>\n",
              "      <td>3.932101</td>\n",
              "      <td>8549b375-dd79-4342-995d-3c98cda9b15c</td>\n",
              "      <td>ab4be0d4-58c7-4ac5-a770-47d2fc429ebd</td>\n",
              "    </tr>\n",
              "    <tr>\n",
              "      <th>20</th>\n",
              "      <td>What is Mistral in the context of large langua...</td>\n",
              "      <td>Alright, here’s the scoop on Mistral in the LL...</td>\n",
              "      <td>None</td>\n",
              "      <td>Mistral is mentioned as one of the organizatio...</td>\n",
              "      <td>1</td>\n",
              "      <td>0</td>\n",
              "      <td>1</td>\n",
              "      <td>2.655428</td>\n",
              "      <td>0008969d-8888-4deb-8bb0-5300b7d7c9de</td>\n",
              "      <td>b95cbb7b-e390-4c3f-9b11-c1a074ee9102</td>\n",
              "    </tr>\n",
              "    <tr>\n",
              "      <th>21</th>\n",
              "      <td>How do the themes of Llama 3 and Llama 3.3 rel...</td>\n",
              "      <td>Yo, based on the fresh context you dropped, th...</td>\n",
              "      <td>None</td>\n",
              "      <td>The context highlights significant AI developm...</td>\n",
              "      <td>0</td>\n",
              "      <td>0</td>\n",
              "      <td>1</td>\n",
              "      <td>2.284362</td>\n",
              "      <td>4c1c9bc3-d321-49b7-9ae5-5869415ff291</td>\n",
              "      <td>60ba2779-e43c-4733-89d9-b4d3973d9419</td>\n",
              "    </tr>\n",
              "    <tr>\n",
              "      <th>22</th>\n",
              "      <td>How does Meta's involvement in inference-scali...</td>\n",
              "      <td>Alright, here’s the lowdown in a slick wrap-up...</td>\n",
              "      <td>None</td>\n",
              "      <td>Meta published a paper on training large langu...</td>\n",
              "      <td>1</td>\n",
              "      <td>1</td>\n",
              "      <td>1</td>\n",
              "      <td>4.327595</td>\n",
              "      <td>6ab7cad3-d2c8-4b27-83ff-2f29945c26f6</td>\n",
              "      <td>2291898e-6271-4208-87f1-0074820444be</td>\n",
              "    </tr>\n",
              "    <tr>\n",
              "      <th>23</th>\n",
              "      <td>How do the explanations of how Large Language ...</td>\n",
              "      <td>Alright, let’s unpack this in a chill way.\\n\\n...</td>\n",
              "      <td>None</td>\n",
              "      <td>The first segment provides clear explanations ...</td>\n",
              "      <td>1</td>\n",
              "      <td>1</td>\n",
              "      <td>1</td>\n",
              "      <td>19.109664</td>\n",
              "      <td>54d45b47-59e1-401e-9b00-893196d7568f</td>\n",
              "      <td>2af53068-f4c0-4eb0-9fe1-7251f4dcb338</td>\n",
              "    </tr>\n",
              "    <tr>\n",
              "      <th>24</th>\n",
              "      <td>How do the recent developments in large langua...</td>\n",
              "      <td>Yo, here’s the lowdown fresh from the context:...</td>\n",
              "      <td>None</td>\n",
              "      <td>The context highlights Google's significant ro...</td>\n",
              "      <td>1</td>\n",
              "      <td>1</td>\n",
              "      <td>1</td>\n",
              "      <td>5.389748</td>\n",
              "      <td>8d804e12-aad9-4955-9364-173a93946475</td>\n",
              "      <td>4f9bfa4d-d29d-4a5a-a0f3-f57d05c684fe</td>\n",
              "    </tr>\n",
              "    <tr>\n",
              "      <th>25</th>\n",
              "      <td>How does Google’s Gemini accept audio input an...</td>\n",
              "      <td>Yo, here’s the lowdown fresh from the context:...</td>\n",
              "      <td>None</td>\n",
              "      <td>Google’s Gemini accepts audio input and has a ...</td>\n",
              "      <td>1</td>\n",
              "      <td>1</td>\n",
              "      <td>1</td>\n",
              "      <td>7.547708</td>\n",
              "      <td>70256012-146c-428a-97b0-ccb2180eb867</td>\n",
              "      <td>dda9da3b-8819-415d-8e38-766a6eb2b9d9</td>\n",
              "    </tr>\n",
              "    <tr>\n",
              "      <th>26</th>\n",
              "      <td>does Claude accept audio and is Claude like Ge...</td>\n",
              "      <td>Yo, based on what’s poppin’ in the context, Cl...</td>\n",
              "      <td>None</td>\n",
              "      <td>Yes, Claude is similar to Google Gemini in tha...</td>\n",
              "      <td>0</td>\n",
              "      <td>0</td>\n",
              "      <td>1</td>\n",
              "      <td>2.890380</td>\n",
              "      <td>a5eea4fb-6d27-4912-b23d-53e5fd581149</td>\n",
              "      <td>69a11946-ff52-4a3c-b65a-2ba85f6fd6b4</td>\n",
              "    </tr>\n",
              "    <tr>\n",
              "      <th>27</th>\n",
              "      <td>Whos Simon Willison and what did he learn abou...</td>\n",
              "      <td>Alright, here’s the lowdown on Simon Willison,...</td>\n",
              "      <td>None</td>\n",
              "      <td>Simon Willison is a blogger who wrote about AI...</td>\n",
              "      <td>1</td>\n",
              "      <td>1</td>\n",
              "      <td>1</td>\n",
              "      <td>6.814715</td>\n",
              "      <td>586f4c27-bec7-4157-8fd7-5abdffe1b620</td>\n",
              "      <td>ed8689ee-7752-4e72-86a0-545a63ad403d</td>\n",
              "    </tr>\n",
              "    <tr>\n",
              "      <th>28</th>\n",
              "      <td>How do misconceptions and misinformation about...</td>\n",
              "      <td>Yo, here’s the lowdown — misinfo and wild misc...</td>\n",
              "      <td>None</td>\n",
              "      <td>The context highlights that while there is hyp...</td>\n",
              "      <td>1</td>\n",
              "      <td>1</td>\n",
              "      <td>1</td>\n",
              "      <td>3.573038</td>\n",
              "      <td>aba112c4-68ba-43cf-8710-d59e68a92298</td>\n",
              "      <td>473df7b9-3542-4a98-873f-bf18a0c45700</td>\n",
              "    </tr>\n",
              "    <tr>\n",
              "      <th>29</th>\n",
              "      <td>How do recent advancements in multi-modal AI m...</td>\n",
              "      <td>Yo, check this out—2024 wasn’t just about flex...</td>\n",
              "      <td>None</td>\n",
              "      <td>Recent advancements in multi-modal AI models, ...</td>\n",
              "      <td>1</td>\n",
              "      <td>1</td>\n",
              "      <td>1</td>\n",
              "      <td>4.301000</td>\n",
              "      <td>cdeb6186-423a-4ead-98e2-09973111b4d2</td>\n",
              "      <td>b91857b7-692d-4f8a-8299-9b08ef8e00c8</td>\n",
              "    </tr>\n",
              "    <tr>\n",
              "      <th>30</th>\n",
              "      <td>AI in society and economy how impact on jobs a...</td>\n",
              "      <td>Yo, check it — AI’s already making big waves i...</td>\n",
              "      <td>None</td>\n",
              "      <td>The context discusses how AI models, including...</td>\n",
              "      <td>1</td>\n",
              "      <td>1</td>\n",
              "      <td>1</td>\n",
              "      <td>3.453955</td>\n",
              "      <td>9deadfa6-c213-4847-985b-b50cb14c6d14</td>\n",
              "      <td>bcfa0908-0480-45c4-9e1e-e1dea6d90a61</td>\n",
              "    </tr>\n",
              "    <tr>\n",
              "      <th>31</th>\n",
              "      <td>Considering the notable models such as GPT-4, ...</td>\n",
              "      <td>Alright, here’s the lowdown on the AI scene in...</td>\n",
              "      <td>None</td>\n",
              "      <td>In 2024, the landscape of AI research and prac...</td>\n",
              "      <td>1</td>\n",
              "      <td>1</td>\n",
              "      <td>1</td>\n",
              "      <td>6.928299</td>\n",
              "      <td>5a23f36f-4795-4b4e-9c30-bf2e647857dd</td>\n",
              "      <td>c62f4150-e701-42e7-a71e-de17f5386aa5</td>\n",
              "    </tr>\n",
              "    <tr>\n",
              "      <th>32</th>\n",
              "      <td>Considering the advancements in model performa...</td>\n",
              "      <td>Yo, check it out — with the AI game leveling u...</td>\n",
              "      <td>None</td>\n",
              "      <td>The improvements in model performance, such as...</td>\n",
              "      <td>1</td>\n",
              "      <td>1</td>\n",
              "      <td>1</td>\n",
              "      <td>3.867148</td>\n",
              "      <td>a60ec325-2644-4cea-9a9e-2752781aeb04</td>\n",
              "      <td>0648f338-b6dd-436c-9582-df09bb1c2b45</td>\n",
              "    </tr>\n",
              "    <tr>\n",
              "      <th>33</th>\n",
              "      <td>How do the advancements in AI model performanc...</td>\n",
              "      <td>Aight, here’s the scoop laid down fresh — when...</td>\n",
              "      <td>None</td>\n",
              "      <td>The advancements in AI model performance on co...</td>\n",
              "      <td>1</td>\n",
              "      <td>1</td>\n",
              "      <td>1</td>\n",
              "      <td>7.239291</td>\n",
              "      <td>02d25f50-d8ae-40fd-aeeb-62f45e43c19c</td>\n",
              "      <td>80bf8d66-65a6-4789-b06c-b77aaf622e1d</td>\n",
              "    </tr>\n",
              "    <tr>\n",
              "      <th>34</th>\n",
              "      <td>how synthetic training data help with model co...</td>\n",
              "      <td>Alright, here’s the lowdown on synthetic train...</td>\n",
              "      <td>None</td>\n",
              "      <td>The context explains that despite worries abou...</td>\n",
              "      <td>1</td>\n",
              "      <td>1</td>\n",
              "      <td>1</td>\n",
              "      <td>4.728753</td>\n",
              "      <td>d51760a1-d252-45bf-bce4-cdc9fe0a6240</td>\n",
              "      <td>406d539f-ab2d-44c5-8ff8-0fba0d7f1218</td>\n",
              "    </tr>\n",
              "    <tr>\n",
              "      <th>35</th>\n",
              "      <td>what Claude do</td>\n",
              "      <td>Yo, here’s the lowdown on what Claude can do, ...</td>\n",
              "      <td>None</td>\n",
              "      <td>Based on the context, Claude is mentioned as p...</td>\n",
              "      <td>1</td>\n",
              "      <td>0</td>\n",
              "      <td>1</td>\n",
              "      <td>3.075028</td>\n",
              "      <td>d0403145-1d90-4e41-b5f5-4e3df9b08ec6</td>\n",
              "      <td>54c444f7-4b79-4317-82be-e59be367f50c</td>\n",
              "    </tr>\n",
              "    <tr>\n",
              "      <th>36</th>\n",
              "      <td>What is Llama 3.1 in the context of large lang...</td>\n",
              "      <td>Yo, based on the context you've given me, ther...</td>\n",
              "      <td>None</td>\n",
              "      <td>Llama 3.1 405B is a large language model that ...</td>\n",
              "      <td>0</td>\n",
              "      <td>0</td>\n",
              "      <td>1</td>\n",
              "      <td>1.776302</td>\n",
              "      <td>07d689f9-5666-4b69-a1f6-0ee6a79fcd43</td>\n",
              "      <td>fd34f20d-4114-4674-9d4a-9ba8d468c7f9</td>\n",
              "    </tr>\n",
              "    <tr>\n",
              "      <th>37</th>\n",
              "      <td>What is the significance of Nova in the contex...</td>\n",
              "      <td>Yo, Nova’s flexin’ hard in the multi-modal aud...</td>\n",
              "      <td>None</td>\n",
              "      <td>Amazon pre-announced voice mode for Amazon Nov...</td>\n",
              "      <td>1</td>\n",
              "      <td>1</td>\n",
              "      <td>1</td>\n",
              "      <td>2.762812</td>\n",
              "      <td>ef5e8f85-3ebb-42d9-ac4e-dd5efd70f9f1</td>\n",
              "      <td>3e1380e0-96f4-4c48-87b4-57f288b617df</td>\n",
              "    </tr>\n",
              "    <tr>\n",
              "      <th>38</th>\n",
              "      <td>What is Anthropic in the context of large lang...</td>\n",
              "      <td>Yo, Anthropic in the LLM world is basically on...</td>\n",
              "      <td>None</td>\n",
              "      <td>Anthropic is mentioned as one of the organizat...</td>\n",
              "      <td>1</td>\n",
              "      <td>0</td>\n",
              "      <td>1</td>\n",
              "      <td>6.628651</td>\n",
              "      <td>14ac22ba-c616-4c06-9a09-6e0630d2ab8f</td>\n",
              "      <td>f3f4c11e-58c9-4eab-968d-5ba5a0854364</td>\n",
              "    </tr>\n",
              "    <tr>\n",
              "      <th>39</th>\n",
              "      <td>As an AI research enthusiast, how does the doc...</td>\n",
              "      <td>Alright, here’s the lowdown on LLMs straight f...</td>\n",
              "      <td>None</td>\n",
              "      <td>The document includes some of the clearest exp...</td>\n",
              "      <td>1</td>\n",
              "      <td>0</td>\n",
              "      <td>1</td>\n",
              "      <td>5.877517</td>\n",
              "      <td>2ea45b26-a2f9-46b7-971d-a458059bf72e</td>\n",
              "      <td>de0b231e-5c9c-4b94-b804-225d96432795</td>\n",
              "    </tr>\n",
              "    <tr>\n",
              "      <th>40</th>\n",
              "      <td>What are the recent developments and challenge...</td>\n",
              "      <td>Yo, here’s the scoop on AI and Large Language ...</td>\n",
              "      <td>None</td>\n",
              "      <td>In 2023, it was a breakthrough year for Large ...</td>\n",
              "      <td>1</td>\n",
              "      <td>1</td>\n",
              "      <td>1</td>\n",
              "      <td>4.203429</td>\n",
              "      <td>760f7526-98ba-4635-ba6a-7fdb89698839</td>\n",
              "      <td>2df1b5c8-91f9-424c-a004-54977398f065</td>\n",
              "    </tr>\n",
              "    <tr>\n",
              "      <th>41</th>\n",
              "      <td>What is Mistral in the context of large langua...</td>\n",
              "      <td>Aight, here’s the lowdown on Mistral in the LL...</td>\n",
              "      <td>None</td>\n",
              "      <td>Mistral is mentioned as one of the organizatio...</td>\n",
              "      <td>1</td>\n",
              "      <td>1</td>\n",
              "      <td>1</td>\n",
              "      <td>2.456128</td>\n",
              "      <td>42f7a620-c545-4ba8-abe3-45e67269e83e</td>\n",
              "      <td>bab4e283-91e3-4c1b-9dcb-825b278445e2</td>\n",
              "    </tr>\n",
              "  </tbody>\n",
              "</table>\n",
              "</div>"
            ],
            "text/plain": [
              "<ExperimentResults impressionable-hair-55>"
            ]
          },
          "execution_count": 51,
          "metadata": {},
          "output_type": "execute_result"
        }
      ],
      "source": [
        "evaluate(\n",
        "    dope_rag_chain.invoke,\n",
        "    data=dataset_name,\n",
        "    evaluators=[\n",
        "        qa_evaluator,\n",
        "        labeled_helpfulness_evaluator,\n",
        "        dope_or_nope_evaluator\n",
        "    ],\n",
        "    metadata={\"revision_id\": \"dope_chain\"},\n",
        ")"
      ]
    },
    {
      "cell_type": "markdown",
      "metadata": {
        "id": "3C7migvlDPZT"
      },
      "source": [
        "#### 🏗️ Activity #3:\n",
        "\n",
        "Provide a screenshot of the difference between the two chains, and explain why you believe certain metrics changed in certain ways."
      ]
    }
  ],
  "metadata": {
    "colab": {
      "provenance": [],
      "toc_visible": true
    },
    "kernelspec": {
      "display_name": ".venv",
      "language": "python",
      "name": "python3"
    },
    "language_info": {
      "codemirror_mode": {
        "name": "ipython",
        "version": 3
      },
      "file_extension": ".py",
      "mimetype": "text/x-python",
      "name": "python",
      "nbconvert_exporter": "python",
      "pygments_lexer": "ipython3",
      "version": "3.13.2"
    },
    "widgets": {
      "application/vnd.jupyter.widget-state+json": {
        "07ab3dc0790241bbb85a7f488a42ef8c": {
          "model_module": "@jupyter-widgets/controls",
          "model_module_version": "1.5.0",
          "model_name": "HBoxModel",
          "state": {
            "_dom_classes": [],
            "_model_module": "@jupyter-widgets/controls",
            "_model_module_version": "1.5.0",
            "_model_name": "HBoxModel",
            "_view_count": null,
            "_view_module": "@jupyter-widgets/controls",
            "_view_module_version": "1.5.0",
            "_view_name": "HBoxView",
            "box_style": "",
            "children": [
              "IPY_MODEL_7710c7377cbc4c30b55b28b4bc99e88f",
              "IPY_MODEL_41bdd49fab5f4826959d0d50663ff539",
              "IPY_MODEL_60168d85131d4afc99d55d61ab954ee6"
            ],
            "layout": "IPY_MODEL_9edf898aeeab40dda9b9475395776521"
          }
        },
        "095f680d37a3430fb82d223615662db5": {
          "model_module": "@jupyter-widgets/controls",
          "model_module_version": "1.5.0",
          "model_name": "ProgressStyleModel",
          "state": {
            "_model_module": "@jupyter-widgets/controls",
            "_model_module_version": "1.5.0",
            "_model_name": "ProgressStyleModel",
            "_view_count": null,
            "_view_module": "@jupyter-widgets/base",
            "_view_module_version": "1.2.0",
            "_view_name": "StyleView",
            "bar_color": null,
            "description_width": ""
          }
        },
        "0b44cb0f8e34446c8dde668a75d3d8ad": {
          "model_module": "@jupyter-widgets/base",
          "model_module_version": "1.2.0",
          "model_name": "LayoutModel",
          "state": {
            "_model_module": "@jupyter-widgets/base",
            "_model_module_version": "1.2.0",
            "_model_name": "LayoutModel",
            "_view_count": null,
            "_view_module": "@jupyter-widgets/base",
            "_view_module_version": "1.2.0",
            "_view_name": "LayoutView",
            "align_content": null,
            "align_items": null,
            "align_self": null,
            "border": null,
            "bottom": null,
            "display": null,
            "flex": null,
            "flex_flow": null,
            "grid_area": null,
            "grid_auto_columns": null,
            "grid_auto_flow": null,
            "grid_auto_rows": null,
            "grid_column": null,
            "grid_gap": null,
            "grid_row": null,
            "grid_template_areas": null,
            "grid_template_columns": null,
            "grid_template_rows": null,
            "height": null,
            "justify_content": null,
            "justify_items": null,
            "left": null,
            "margin": null,
            "max_height": null,
            "max_width": null,
            "min_height": null,
            "min_width": null,
            "object_fit": null,
            "object_position": null,
            "order": null,
            "overflow": null,
            "overflow_x": null,
            "overflow_y": null,
            "padding": null,
            "right": null,
            "top": null,
            "visibility": null,
            "width": null
          }
        },
        "10df31709059484c99f102453d780473": {
          "model_module": "@jupyter-widgets/base",
          "model_module_version": "1.2.0",
          "model_name": "LayoutModel",
          "state": {
            "_model_module": "@jupyter-widgets/base",
            "_model_module_version": "1.2.0",
            "_model_name": "LayoutModel",
            "_view_count": null,
            "_view_module": "@jupyter-widgets/base",
            "_view_module_version": "1.2.0",
            "_view_name": "LayoutView",
            "align_content": null,
            "align_items": null,
            "align_self": null,
            "border": null,
            "bottom": null,
            "display": null,
            "flex": null,
            "flex_flow": null,
            "grid_area": null,
            "grid_auto_columns": null,
            "grid_auto_flow": null,
            "grid_auto_rows": null,
            "grid_column": null,
            "grid_gap": null,
            "grid_row": null,
            "grid_template_areas": null,
            "grid_template_columns": null,
            "grid_template_rows": null,
            "height": null,
            "justify_content": null,
            "justify_items": null,
            "left": null,
            "margin": null,
            "max_height": null,
            "max_width": null,
            "min_height": null,
            "min_width": null,
            "object_fit": null,
            "object_position": null,
            "order": null,
            "overflow": null,
            "overflow_x": null,
            "overflow_y": null,
            "padding": null,
            "right": null,
            "top": null,
            "visibility": null,
            "width": null
          }
        },
        "1160a44dc18e47b0890f70c40eaa7eb0": {
          "model_module": "@jupyter-widgets/controls",
          "model_module_version": "1.5.0",
          "model_name": "DescriptionStyleModel",
          "state": {
            "_model_module": "@jupyter-widgets/controls",
            "_model_module_version": "1.5.0",
            "_model_name": "DescriptionStyleModel",
            "_view_count": null,
            "_view_module": "@jupyter-widgets/base",
            "_view_module_version": "1.2.0",
            "_view_name": "StyleView",
            "description_width": ""
          }
        },
        "11c7f66acc1d45be9517d0addf49331e": {
          "model_module": "@jupyter-widgets/base",
          "model_module_version": "1.2.0",
          "model_name": "LayoutModel",
          "state": {
            "_model_module": "@jupyter-widgets/base",
            "_model_module_version": "1.2.0",
            "_model_name": "LayoutModel",
            "_view_count": null,
            "_view_module": "@jupyter-widgets/base",
            "_view_module_version": "1.2.0",
            "_view_name": "LayoutView",
            "align_content": null,
            "align_items": null,
            "align_self": null,
            "border": null,
            "bottom": null,
            "display": null,
            "flex": null,
            "flex_flow": null,
            "grid_area": null,
            "grid_auto_columns": null,
            "grid_auto_flow": null,
            "grid_auto_rows": null,
            "grid_column": null,
            "grid_gap": null,
            "grid_row": null,
            "grid_template_areas": null,
            "grid_template_columns": null,
            "grid_template_rows": null,
            "height": null,
            "justify_content": null,
            "justify_items": null,
            "left": null,
            "margin": null,
            "max_height": null,
            "max_width": null,
            "min_height": null,
            "min_width": null,
            "object_fit": null,
            "object_position": null,
            "order": null,
            "overflow": null,
            "overflow_x": null,
            "overflow_y": null,
            "padding": null,
            "right": null,
            "top": null,
            "visibility": null,
            "width": null
          }
        },
        "122b1bd1f0e9417a8dcb57d4eebe4d2e": {
          "model_module": "@jupyter-widgets/controls",
          "model_module_version": "1.5.0",
          "model_name": "HBoxModel",
          "state": {
            "_dom_classes": [],
            "_model_module": "@jupyter-widgets/controls",
            "_model_module_version": "1.5.0",
            "_model_name": "HBoxModel",
            "_view_count": null,
            "_view_module": "@jupyter-widgets/controls",
            "_view_module_version": "1.5.0",
            "_view_name": "HBoxView",
            "box_style": "",
            "children": [
              "IPY_MODEL_e0c233ad01604540a6c873f4a731982d",
              "IPY_MODEL_e9a01115c75b499884f7e0ef32e9e599",
              "IPY_MODEL_5faba4ad609448b2b49024add4ad3b8e"
            ],
            "layout": "IPY_MODEL_ef25efa751304e4699910f1fbc14345f"
          }
        },
        "158212a630f04cbd884c937f2f60f5c8": {
          "model_module": "@jupyter-widgets/controls",
          "model_module_version": "1.5.0",
          "model_name": "HTMLModel",
          "state": {
            "_dom_classes": [],
            "_model_module": "@jupyter-widgets/controls",
            "_model_module_version": "1.5.0",
            "_model_name": "HTMLModel",
            "_view_count": null,
            "_view_module": "@jupyter-widgets/controls",
            "_view_module_version": "1.5.0",
            "_view_name": "HTMLView",
            "description": "",
            "description_tooltip": null,
            "layout": "IPY_MODEL_d1d54ccd56494c4d831f71b416a1f880",
            "placeholder": "​",
            "style": "IPY_MODEL_530f696feefe499da08c6312047379b2",
            "value": " 20/? [01:43&lt;00:00,  5.25s/it]"
          }
        },
        "23863bc37a8645029934b8c106622c51": {
          "model_module": "@jupyter-widgets/base",
          "model_module_version": "1.2.0",
          "model_name": "LayoutModel",
          "state": {
            "_model_module": "@jupyter-widgets/base",
            "_model_module_version": "1.2.0",
            "_model_name": "LayoutModel",
            "_view_count": null,
            "_view_module": "@jupyter-widgets/base",
            "_view_module_version": "1.2.0",
            "_view_name": "LayoutView",
            "align_content": null,
            "align_items": null,
            "align_self": null,
            "border": null,
            "bottom": null,
            "display": null,
            "flex": null,
            "flex_flow": null,
            "grid_area": null,
            "grid_auto_columns": null,
            "grid_auto_flow": null,
            "grid_auto_rows": null,
            "grid_column": null,
            "grid_gap": null,
            "grid_row": null,
            "grid_template_areas": null,
            "grid_template_columns": null,
            "grid_template_rows": null,
            "height": null,
            "justify_content": null,
            "justify_items": null,
            "left": null,
            "margin": null,
            "max_height": null,
            "max_width": null,
            "min_height": null,
            "min_width": null,
            "object_fit": null,
            "object_position": null,
            "order": null,
            "overflow": null,
            "overflow_x": null,
            "overflow_y": null,
            "padding": null,
            "right": null,
            "top": null,
            "visibility": null,
            "width": null
          }
        },
        "2508d229935744cbb5fc340222e2d660": {
          "model_module": "@jupyter-widgets/controls",
          "model_module_version": "1.5.0",
          "model_name": "DescriptionStyleModel",
          "state": {
            "_model_module": "@jupyter-widgets/controls",
            "_model_module_version": "1.5.0",
            "_model_name": "DescriptionStyleModel",
            "_view_count": null,
            "_view_module": "@jupyter-widgets/base",
            "_view_module_version": "1.2.0",
            "_view_name": "StyleView",
            "description_width": ""
          }
        },
        "2a0755d4476543feb4a64538e3e37213": {
          "model_module": "@jupyter-widgets/controls",
          "model_module_version": "1.5.0",
          "model_name": "FloatProgressModel",
          "state": {
            "_dom_classes": [],
            "_model_module": "@jupyter-widgets/controls",
            "_model_module_version": "1.5.0",
            "_model_name": "FloatProgressModel",
            "_view_count": null,
            "_view_module": "@jupyter-widgets/controls",
            "_view_module_version": "1.5.0",
            "_view_name": "ProgressView",
            "bar_style": "success",
            "description": "",
            "description_tooltip": null,
            "layout": "IPY_MODEL_c20b539cd70b4ba99601ad1d69fd9cec",
            "max": 1,
            "min": 0,
            "orientation": "horizontal",
            "style": "IPY_MODEL_a6d681eeafa44d18b933a4c5dec88382",
            "value": 1
          }
        },
        "33f063017b7c4c7fa8cbafc89674350b": {
          "model_module": "@jupyter-widgets/controls",
          "model_module_version": "1.5.0",
          "model_name": "HBoxModel",
          "state": {
            "_dom_classes": [],
            "_model_module": "@jupyter-widgets/controls",
            "_model_module_version": "1.5.0",
            "_model_name": "HBoxModel",
            "_view_count": null,
            "_view_module": "@jupyter-widgets/controls",
            "_view_module_version": "1.5.0",
            "_view_name": "HBoxView",
            "box_style": "",
            "children": [
              "IPY_MODEL_6864c81e2bcf459bbaf5acbb36bdfcbe",
              "IPY_MODEL_59d6e269eadf429a924f6f79bc8ba4ba",
              "IPY_MODEL_ca791fc471e34b9da2f9070fc1053c0f"
            ],
            "layout": "IPY_MODEL_8baf0ed3d0f743f294e07f2b5407e820"
          }
        },
        "3a8537e37fc14fd9b16ca0ceee4fede6": {
          "model_module": "@jupyter-widgets/base",
          "model_module_version": "1.2.0",
          "model_name": "LayoutModel",
          "state": {
            "_model_module": "@jupyter-widgets/base",
            "_model_module_version": "1.2.0",
            "_model_name": "LayoutModel",
            "_view_count": null,
            "_view_module": "@jupyter-widgets/base",
            "_view_module_version": "1.2.0",
            "_view_name": "LayoutView",
            "align_content": null,
            "align_items": null,
            "align_self": null,
            "border": null,
            "bottom": null,
            "display": null,
            "flex": null,
            "flex_flow": null,
            "grid_area": null,
            "grid_auto_columns": null,
            "grid_auto_flow": null,
            "grid_auto_rows": null,
            "grid_column": null,
            "grid_gap": null,
            "grid_row": null,
            "grid_template_areas": null,
            "grid_template_columns": null,
            "grid_template_rows": null,
            "height": null,
            "justify_content": null,
            "justify_items": null,
            "left": null,
            "margin": null,
            "max_height": null,
            "max_width": null,
            "min_height": null,
            "min_width": null,
            "object_fit": null,
            "object_position": null,
            "order": null,
            "overflow": null,
            "overflow_x": null,
            "overflow_y": null,
            "padding": null,
            "right": null,
            "top": null,
            "visibility": null,
            "width": null
          }
        },
        "41bdd49fab5f4826959d0d50663ff539": {
          "model_module": "@jupyter-widgets/controls",
          "model_module_version": "1.5.0",
          "model_name": "FloatProgressModel",
          "state": {
            "_dom_classes": [],
            "_model_module": "@jupyter-widgets/controls",
            "_model_module_version": "1.5.0",
            "_model_name": "FloatProgressModel",
            "_view_count": null,
            "_view_module": "@jupyter-widgets/controls",
            "_view_module_version": "1.5.0",
            "_view_name": "ProgressView",
            "bar_style": "",
            "description": "",
            "description_tooltip": null,
            "layout": "IPY_MODEL_6eb8b2e3262c45248708a2082c366f0a",
            "max": 64,
            "min": 0,
            "orientation": "horizontal",
            "style": "IPY_MODEL_095f680d37a3430fb82d223615662db5",
            "value": 64
          }
        },
        "530f696feefe499da08c6312047379b2": {
          "model_module": "@jupyter-widgets/controls",
          "model_module_version": "1.5.0",
          "model_name": "DescriptionStyleModel",
          "state": {
            "_model_module": "@jupyter-widgets/controls",
            "_model_module_version": "1.5.0",
            "_model_name": "DescriptionStyleModel",
            "_view_count": null,
            "_view_module": "@jupyter-widgets/base",
            "_view_module_version": "1.2.0",
            "_view_name": "StyleView",
            "description_width": ""
          }
        },
        "59d6e269eadf429a924f6f79bc8ba4ba": {
          "model_module": "@jupyter-widgets/controls",
          "model_module_version": "1.5.0",
          "model_name": "FloatProgressModel",
          "state": {
            "_dom_classes": [],
            "_model_module": "@jupyter-widgets/controls",
            "_model_module_version": "1.5.0",
            "_model_name": "FloatProgressModel",
            "_view_count": null,
            "_view_module": "@jupyter-widgets/controls",
            "_view_module_version": "1.5.0",
            "_view_name": "ProgressView",
            "bar_style": "success",
            "description": "",
            "description_tooltip": null,
            "layout": "IPY_MODEL_890e0dd7fa524ceca1e805cb6253ee71",
            "max": 20,
            "min": 0,
            "orientation": "horizontal",
            "style": "IPY_MODEL_61b52ff459214129b8f7e6d67b192b78",
            "value": 20
          }
        },
        "5ab5f08afa5841709aedb2f78a52a11c": {
          "model_module": "@jupyter-widgets/controls",
          "model_module_version": "1.5.0",
          "model_name": "DescriptionStyleModel",
          "state": {
            "_model_module": "@jupyter-widgets/controls",
            "_model_module_version": "1.5.0",
            "_model_name": "DescriptionStyleModel",
            "_view_count": null,
            "_view_module": "@jupyter-widgets/base",
            "_view_module_version": "1.2.0",
            "_view_name": "StyleView",
            "description_width": ""
          }
        },
        "5c2fda99d4204d85b1bf7ad354fd58d4": {
          "model_module": "@jupyter-widgets/base",
          "model_module_version": "1.2.0",
          "model_name": "LayoutModel",
          "state": {
            "_model_module": "@jupyter-widgets/base",
            "_model_module_version": "1.2.0",
            "_model_name": "LayoutModel",
            "_view_count": null,
            "_view_module": "@jupyter-widgets/base",
            "_view_module_version": "1.2.0",
            "_view_name": "LayoutView",
            "align_content": null,
            "align_items": null,
            "align_self": null,
            "border": null,
            "bottom": null,
            "display": null,
            "flex": null,
            "flex_flow": null,
            "grid_area": null,
            "grid_auto_columns": null,
            "grid_auto_flow": null,
            "grid_auto_rows": null,
            "grid_column": null,
            "grid_gap": null,
            "grid_row": null,
            "grid_template_areas": null,
            "grid_template_columns": null,
            "grid_template_rows": null,
            "height": null,
            "justify_content": null,
            "justify_items": null,
            "left": null,
            "margin": null,
            "max_height": null,
            "max_width": null,
            "min_height": null,
            "min_width": null,
            "object_fit": null,
            "object_position": null,
            "order": null,
            "overflow": null,
            "overflow_x": null,
            "overflow_y": null,
            "padding": null,
            "right": null,
            "top": null,
            "visibility": null,
            "width": null
          }
        },
        "5faba4ad609448b2b49024add4ad3b8e": {
          "model_module": "@jupyter-widgets/controls",
          "model_module_version": "1.5.0",
          "model_name": "HTMLModel",
          "state": {
            "_dom_classes": [],
            "_model_module": "@jupyter-widgets/controls",
            "_model_module_version": "1.5.0",
            "_model_name": "HTMLModel",
            "_view_count": null,
            "_view_module": "@jupyter-widgets/controls",
            "_view_module_version": "1.5.0",
            "_view_name": "HTMLView",
            "description": "",
            "description_tooltip": null,
            "layout": "IPY_MODEL_849b5c95008541d49f1ceedf0a59ac60",
            "placeholder": "​",
            "style": "IPY_MODEL_f3665a86662746c4ac7cb0796604781d",
            "value": " 20/? [01:27&lt;00:00,  6.45s/it]"
          }
        },
        "60168d85131d4afc99d55d61ab954ee6": {
          "model_module": "@jupyter-widgets/controls",
          "model_module_version": "1.5.0",
          "model_name": "HTMLModel",
          "state": {
            "_dom_classes": [],
            "_model_module": "@jupyter-widgets/controls",
            "_model_module_version": "1.5.0",
            "_model_name": "HTMLModel",
            "_view_count": null,
            "_view_module": "@jupyter-widgets/controls",
            "_view_module_version": "1.5.0",
            "_view_name": "HTMLView",
            "description": "",
            "description_tooltip": null,
            "layout": "IPY_MODEL_3a8537e37fc14fd9b16ca0ceee4fede6",
            "placeholder": "​",
            "style": "IPY_MODEL_1160a44dc18e47b0890f70c40eaa7eb0",
            "value": " 61/64 [00:02&lt;00:00, 23.36it/s]"
          }
        },
        "61b52ff459214129b8f7e6d67b192b78": {
          "model_module": "@jupyter-widgets/controls",
          "model_module_version": "1.5.0",
          "model_name": "ProgressStyleModel",
          "state": {
            "_model_module": "@jupyter-widgets/controls",
            "_model_module_version": "1.5.0",
            "_model_name": "ProgressStyleModel",
            "_view_count": null,
            "_view_module": "@jupyter-widgets/base",
            "_view_module_version": "1.2.0",
            "_view_name": "StyleView",
            "bar_color": null,
            "description_width": ""
          }
        },
        "6864c81e2bcf459bbaf5acbb36bdfcbe": {
          "model_module": "@jupyter-widgets/controls",
          "model_module_version": "1.5.0",
          "model_name": "HTMLModel",
          "state": {
            "_dom_classes": [],
            "_model_module": "@jupyter-widgets/controls",
            "_model_module_version": "1.5.0",
            "_model_name": "HTMLModel",
            "_view_count": null,
            "_view_module": "@jupyter-widgets/controls",
            "_view_module_version": "1.5.0",
            "_view_name": "HTMLView",
            "description": "",
            "description_tooltip": null,
            "layout": "IPY_MODEL_10df31709059484c99f102453d780473",
            "placeholder": "​",
            "style": "IPY_MODEL_2508d229935744cbb5fc340222e2d660",
            "value": "Generating: 100%"
          }
        },
        "6eb8b2e3262c45248708a2082c366f0a": {
          "model_module": "@jupyter-widgets/base",
          "model_module_version": "1.2.0",
          "model_name": "LayoutModel",
          "state": {
            "_model_module": "@jupyter-widgets/base",
            "_model_module_version": "1.2.0",
            "_model_name": "LayoutModel",
            "_view_count": null,
            "_view_module": "@jupyter-widgets/base",
            "_view_module_version": "1.2.0",
            "_view_name": "LayoutView",
            "align_content": null,
            "align_items": null,
            "align_self": null,
            "border": null,
            "bottom": null,
            "display": null,
            "flex": null,
            "flex_flow": null,
            "grid_area": null,
            "grid_auto_columns": null,
            "grid_auto_flow": null,
            "grid_auto_rows": null,
            "grid_column": null,
            "grid_gap": null,
            "grid_row": null,
            "grid_template_areas": null,
            "grid_template_columns": null,
            "grid_template_rows": null,
            "height": null,
            "justify_content": null,
            "justify_items": null,
            "left": null,
            "margin": null,
            "max_height": null,
            "max_width": null,
            "min_height": null,
            "min_width": null,
            "object_fit": null,
            "object_position": null,
            "order": null,
            "overflow": null,
            "overflow_x": null,
            "overflow_y": null,
            "padding": null,
            "right": null,
            "top": null,
            "visibility": null,
            "width": null
          }
        },
        "7710c7377cbc4c30b55b28b4bc99e88f": {
          "model_module": "@jupyter-widgets/controls",
          "model_module_version": "1.5.0",
          "model_name": "HTMLModel",
          "state": {
            "_dom_classes": [],
            "_model_module": "@jupyter-widgets/controls",
            "_model_module_version": "1.5.0",
            "_model_name": "HTMLModel",
            "_view_count": null,
            "_view_module": "@jupyter-widgets/controls",
            "_view_module_version": "1.5.0",
            "_view_name": "HTMLView",
            "description": "",
            "description_tooltip": null,
            "layout": "IPY_MODEL_5c2fda99d4204d85b1bf7ad354fd58d4",
            "placeholder": "​",
            "style": "IPY_MODEL_93cd4d35c5fd41f5904ca1d52d1f52a8",
            "value": "embedding nodes:  95%"
          }
        },
        "7cb241365f604419af454c1c28de197a": {
          "model_module": "@jupyter-widgets/base",
          "model_module_version": "1.2.0",
          "model_name": "LayoutModel",
          "state": {
            "_model_module": "@jupyter-widgets/base",
            "_model_module_version": "1.2.0",
            "_model_name": "LayoutModel",
            "_view_count": null,
            "_view_module": "@jupyter-widgets/base",
            "_view_module_version": "1.2.0",
            "_view_name": "LayoutView",
            "align_content": null,
            "align_items": null,
            "align_self": null,
            "border": null,
            "bottom": null,
            "display": null,
            "flex": null,
            "flex_flow": null,
            "grid_area": null,
            "grid_auto_columns": null,
            "grid_auto_flow": null,
            "grid_auto_rows": null,
            "grid_column": null,
            "grid_gap": null,
            "grid_row": null,
            "grid_template_areas": null,
            "grid_template_columns": null,
            "grid_template_rows": null,
            "height": null,
            "justify_content": null,
            "justify_items": null,
            "left": null,
            "margin": null,
            "max_height": null,
            "max_width": null,
            "min_height": null,
            "min_width": null,
            "object_fit": null,
            "object_position": null,
            "order": null,
            "overflow": null,
            "overflow_x": null,
            "overflow_y": null,
            "padding": null,
            "right": null,
            "top": null,
            "visibility": null,
            "width": "20px"
          }
        },
        "7dce19ac55264f2b88a0e4730e55867b": {
          "model_module": "@jupyter-widgets/controls",
          "model_module_version": "1.5.0",
          "model_name": "HTMLModel",
          "state": {
            "_dom_classes": [],
            "_model_module": "@jupyter-widgets/controls",
            "_model_module_version": "1.5.0",
            "_model_name": "HTMLModel",
            "_view_count": null,
            "_view_module": "@jupyter-widgets/controls",
            "_view_module_version": "1.5.0",
            "_view_name": "HTMLView",
            "description": "",
            "description_tooltip": null,
            "layout": "IPY_MODEL_ddffd834e09940a4bd3874c3f39b4e21",
            "placeholder": "​",
            "style": "IPY_MODEL_ef63c3b2d51e452da03cdae5d9b034be",
            "value": ""
          }
        },
        "849b5c95008541d49f1ceedf0a59ac60": {
          "model_module": "@jupyter-widgets/base",
          "model_module_version": "1.2.0",
          "model_name": "LayoutModel",
          "state": {
            "_model_module": "@jupyter-widgets/base",
            "_model_module_version": "1.2.0",
            "_model_name": "LayoutModel",
            "_view_count": null,
            "_view_module": "@jupyter-widgets/base",
            "_view_module_version": "1.2.0",
            "_view_name": "LayoutView",
            "align_content": null,
            "align_items": null,
            "align_self": null,
            "border": null,
            "bottom": null,
            "display": null,
            "flex": null,
            "flex_flow": null,
            "grid_area": null,
            "grid_auto_columns": null,
            "grid_auto_flow": null,
            "grid_auto_rows": null,
            "grid_column": null,
            "grid_gap": null,
            "grid_row": null,
            "grid_template_areas": null,
            "grid_template_columns": null,
            "grid_template_rows": null,
            "height": null,
            "justify_content": null,
            "justify_items": null,
            "left": null,
            "margin": null,
            "max_height": null,
            "max_width": null,
            "min_height": null,
            "min_width": null,
            "object_fit": null,
            "object_position": null,
            "order": null,
            "overflow": null,
            "overflow_x": null,
            "overflow_y": null,
            "padding": null,
            "right": null,
            "top": null,
            "visibility": null,
            "width": null
          }
        },
        "890e0dd7fa524ceca1e805cb6253ee71": {
          "model_module": "@jupyter-widgets/base",
          "model_module_version": "1.2.0",
          "model_name": "LayoutModel",
          "state": {
            "_model_module": "@jupyter-widgets/base",
            "_model_module_version": "1.2.0",
            "_model_name": "LayoutModel",
            "_view_count": null,
            "_view_module": "@jupyter-widgets/base",
            "_view_module_version": "1.2.0",
            "_view_name": "LayoutView",
            "align_content": null,
            "align_items": null,
            "align_self": null,
            "border": null,
            "bottom": null,
            "display": null,
            "flex": null,
            "flex_flow": null,
            "grid_area": null,
            "grid_auto_columns": null,
            "grid_auto_flow": null,
            "grid_auto_rows": null,
            "grid_column": null,
            "grid_gap": null,
            "grid_row": null,
            "grid_template_areas": null,
            "grid_template_columns": null,
            "grid_template_rows": null,
            "height": null,
            "justify_content": null,
            "justify_items": null,
            "left": null,
            "margin": null,
            "max_height": null,
            "max_width": null,
            "min_height": null,
            "min_width": null,
            "object_fit": null,
            "object_position": null,
            "order": null,
            "overflow": null,
            "overflow_x": null,
            "overflow_y": null,
            "padding": null,
            "right": null,
            "top": null,
            "visibility": null,
            "width": null
          }
        },
        "8baf0ed3d0f743f294e07f2b5407e820": {
          "model_module": "@jupyter-widgets/base",
          "model_module_version": "1.2.0",
          "model_name": "LayoutModel",
          "state": {
            "_model_module": "@jupyter-widgets/base",
            "_model_module_version": "1.2.0",
            "_model_name": "LayoutModel",
            "_view_count": null,
            "_view_module": "@jupyter-widgets/base",
            "_view_module_version": "1.2.0",
            "_view_name": "LayoutView",
            "align_content": null,
            "align_items": null,
            "align_self": null,
            "border": null,
            "bottom": null,
            "display": null,
            "flex": null,
            "flex_flow": null,
            "grid_area": null,
            "grid_auto_columns": null,
            "grid_auto_flow": null,
            "grid_auto_rows": null,
            "grid_column": null,
            "grid_gap": null,
            "grid_row": null,
            "grid_template_areas": null,
            "grid_template_columns": null,
            "grid_template_rows": null,
            "height": null,
            "justify_content": null,
            "justify_items": null,
            "left": null,
            "margin": null,
            "max_height": null,
            "max_width": null,
            "min_height": null,
            "min_width": null,
            "object_fit": null,
            "object_position": null,
            "order": null,
            "overflow": null,
            "overflow_x": null,
            "overflow_y": null,
            "padding": null,
            "right": null,
            "top": null,
            "visibility": null,
            "width": null
          }
        },
        "93cd4d35c5fd41f5904ca1d52d1f52a8": {
          "model_module": "@jupyter-widgets/controls",
          "model_module_version": "1.5.0",
          "model_name": "DescriptionStyleModel",
          "state": {
            "_model_module": "@jupyter-widgets/controls",
            "_model_module_version": "1.5.0",
            "_model_name": "DescriptionStyleModel",
            "_view_count": null,
            "_view_module": "@jupyter-widgets/base",
            "_view_module_version": "1.2.0",
            "_view_name": "StyleView",
            "description_width": ""
          }
        },
        "9cf586576ff44dba86ba2eb389593c61": {
          "model_module": "@jupyter-widgets/controls",
          "model_module_version": "1.5.0",
          "model_name": "ProgressStyleModel",
          "state": {
            "_model_module": "@jupyter-widgets/controls",
            "_model_module_version": "1.5.0",
            "_model_name": "ProgressStyleModel",
            "_view_count": null,
            "_view_module": "@jupyter-widgets/base",
            "_view_module_version": "1.2.0",
            "_view_name": "StyleView",
            "bar_color": null,
            "description_width": ""
          }
        },
        "9edf898aeeab40dda9b9475395776521": {
          "model_module": "@jupyter-widgets/base",
          "model_module_version": "1.2.0",
          "model_name": "LayoutModel",
          "state": {
            "_model_module": "@jupyter-widgets/base",
            "_model_module_version": "1.2.0",
            "_model_name": "LayoutModel",
            "_view_count": null,
            "_view_module": "@jupyter-widgets/base",
            "_view_module_version": "1.2.0",
            "_view_name": "LayoutView",
            "align_content": null,
            "align_items": null,
            "align_self": null,
            "border": null,
            "bottom": null,
            "display": null,
            "flex": null,
            "flex_flow": null,
            "grid_area": null,
            "grid_auto_columns": null,
            "grid_auto_flow": null,
            "grid_auto_rows": null,
            "grid_column": null,
            "grid_gap": null,
            "grid_row": null,
            "grid_template_areas": null,
            "grid_template_columns": null,
            "grid_template_rows": null,
            "height": null,
            "justify_content": null,
            "justify_items": null,
            "left": null,
            "margin": null,
            "max_height": null,
            "max_width": null,
            "min_height": null,
            "min_width": null,
            "object_fit": null,
            "object_position": null,
            "order": null,
            "overflow": null,
            "overflow_x": null,
            "overflow_y": null,
            "padding": null,
            "right": null,
            "top": null,
            "visibility": "hidden",
            "width": null
          }
        },
        "a6d681eeafa44d18b933a4c5dec88382": {
          "model_module": "@jupyter-widgets/controls",
          "model_module_version": "1.5.0",
          "model_name": "ProgressStyleModel",
          "state": {
            "_model_module": "@jupyter-widgets/controls",
            "_model_module_version": "1.5.0",
            "_model_name": "ProgressStyleModel",
            "_view_count": null,
            "_view_module": "@jupyter-widgets/base",
            "_view_module_version": "1.2.0",
            "_view_name": "StyleView",
            "bar_color": null,
            "description_width": ""
          }
        },
        "bf8dcc0895054529af356da401c513f6": {
          "model_module": "@jupyter-widgets/controls",
          "model_module_version": "1.5.0",
          "model_name": "HBoxModel",
          "state": {
            "_dom_classes": [],
            "_model_module": "@jupyter-widgets/controls",
            "_model_module_version": "1.5.0",
            "_model_name": "HBoxModel",
            "_view_count": null,
            "_view_module": "@jupyter-widgets/controls",
            "_view_module_version": "1.5.0",
            "_view_name": "HBoxView",
            "box_style": "",
            "children": [
              "IPY_MODEL_7dce19ac55264f2b88a0e4730e55867b",
              "IPY_MODEL_2a0755d4476543feb4a64538e3e37213",
              "IPY_MODEL_158212a630f04cbd884c937f2f60f5c8"
            ],
            "layout": "IPY_MODEL_11c7f66acc1d45be9517d0addf49331e"
          }
        },
        "c20b539cd70b4ba99601ad1d69fd9cec": {
          "model_module": "@jupyter-widgets/base",
          "model_module_version": "1.2.0",
          "model_name": "LayoutModel",
          "state": {
            "_model_module": "@jupyter-widgets/base",
            "_model_module_version": "1.2.0",
            "_model_name": "LayoutModel",
            "_view_count": null,
            "_view_module": "@jupyter-widgets/base",
            "_view_module_version": "1.2.0",
            "_view_name": "LayoutView",
            "align_content": null,
            "align_items": null,
            "align_self": null,
            "border": null,
            "bottom": null,
            "display": null,
            "flex": null,
            "flex_flow": null,
            "grid_area": null,
            "grid_auto_columns": null,
            "grid_auto_flow": null,
            "grid_auto_rows": null,
            "grid_column": null,
            "grid_gap": null,
            "grid_row": null,
            "grid_template_areas": null,
            "grid_template_columns": null,
            "grid_template_rows": null,
            "height": null,
            "justify_content": null,
            "justify_items": null,
            "left": null,
            "margin": null,
            "max_height": null,
            "max_width": null,
            "min_height": null,
            "min_width": null,
            "object_fit": null,
            "object_position": null,
            "order": null,
            "overflow": null,
            "overflow_x": null,
            "overflow_y": null,
            "padding": null,
            "right": null,
            "top": null,
            "visibility": null,
            "width": "20px"
          }
        },
        "ca791fc471e34b9da2f9070fc1053c0f": {
          "model_module": "@jupyter-widgets/controls",
          "model_module_version": "1.5.0",
          "model_name": "HTMLModel",
          "state": {
            "_dom_classes": [],
            "_model_module": "@jupyter-widgets/controls",
            "_model_module_version": "1.5.0",
            "_model_name": "HTMLModel",
            "_view_count": null,
            "_view_module": "@jupyter-widgets/controls",
            "_view_module_version": "1.5.0",
            "_view_name": "HTMLView",
            "description": "",
            "description_tooltip": null,
            "layout": "IPY_MODEL_23863bc37a8645029934b8c106622c51",
            "placeholder": "​",
            "style": "IPY_MODEL_5ab5f08afa5841709aedb2f78a52a11c",
            "value": " 20/20 [00:52&lt;00:00,  4.50s/it]"
          }
        },
        "d1d54ccd56494c4d831f71b416a1f880": {
          "model_module": "@jupyter-widgets/base",
          "model_module_version": "1.2.0",
          "model_name": "LayoutModel",
          "state": {
            "_model_module": "@jupyter-widgets/base",
            "_model_module_version": "1.2.0",
            "_model_name": "LayoutModel",
            "_view_count": null,
            "_view_module": "@jupyter-widgets/base",
            "_view_module_version": "1.2.0",
            "_view_name": "LayoutView",
            "align_content": null,
            "align_items": null,
            "align_self": null,
            "border": null,
            "bottom": null,
            "display": null,
            "flex": null,
            "flex_flow": null,
            "grid_area": null,
            "grid_auto_columns": null,
            "grid_auto_flow": null,
            "grid_auto_rows": null,
            "grid_column": null,
            "grid_gap": null,
            "grid_row": null,
            "grid_template_areas": null,
            "grid_template_columns": null,
            "grid_template_rows": null,
            "height": null,
            "justify_content": null,
            "justify_items": null,
            "left": null,
            "margin": null,
            "max_height": null,
            "max_width": null,
            "min_height": null,
            "min_width": null,
            "object_fit": null,
            "object_position": null,
            "order": null,
            "overflow": null,
            "overflow_x": null,
            "overflow_y": null,
            "padding": null,
            "right": null,
            "top": null,
            "visibility": null,
            "width": null
          }
        },
        "ddffd834e09940a4bd3874c3f39b4e21": {
          "model_module": "@jupyter-widgets/base",
          "model_module_version": "1.2.0",
          "model_name": "LayoutModel",
          "state": {
            "_model_module": "@jupyter-widgets/base",
            "_model_module_version": "1.2.0",
            "_model_name": "LayoutModel",
            "_view_count": null,
            "_view_module": "@jupyter-widgets/base",
            "_view_module_version": "1.2.0",
            "_view_name": "LayoutView",
            "align_content": null,
            "align_items": null,
            "align_self": null,
            "border": null,
            "bottom": null,
            "display": null,
            "flex": null,
            "flex_flow": null,
            "grid_area": null,
            "grid_auto_columns": null,
            "grid_auto_flow": null,
            "grid_auto_rows": null,
            "grid_column": null,
            "grid_gap": null,
            "grid_row": null,
            "grid_template_areas": null,
            "grid_template_columns": null,
            "grid_template_rows": null,
            "height": null,
            "justify_content": null,
            "justify_items": null,
            "left": null,
            "margin": null,
            "max_height": null,
            "max_width": null,
            "min_height": null,
            "min_width": null,
            "object_fit": null,
            "object_position": null,
            "order": null,
            "overflow": null,
            "overflow_x": null,
            "overflow_y": null,
            "padding": null,
            "right": null,
            "top": null,
            "visibility": null,
            "width": null
          }
        },
        "e0c233ad01604540a6c873f4a731982d": {
          "model_module": "@jupyter-widgets/controls",
          "model_module_version": "1.5.0",
          "model_name": "HTMLModel",
          "state": {
            "_dom_classes": [],
            "_model_module": "@jupyter-widgets/controls",
            "_model_module_version": "1.5.0",
            "_model_name": "HTMLModel",
            "_view_count": null,
            "_view_module": "@jupyter-widgets/controls",
            "_view_module_version": "1.5.0",
            "_view_name": "HTMLView",
            "description": "",
            "description_tooltip": null,
            "layout": "IPY_MODEL_0b44cb0f8e34446c8dde668a75d3d8ad",
            "placeholder": "​",
            "style": "IPY_MODEL_edaac6587b2d4bd5be52b89bb097f99f",
            "value": ""
          }
        },
        "e9a01115c75b499884f7e0ef32e9e599": {
          "model_module": "@jupyter-widgets/controls",
          "model_module_version": "1.5.0",
          "model_name": "FloatProgressModel",
          "state": {
            "_dom_classes": [],
            "_model_module": "@jupyter-widgets/controls",
            "_model_module_version": "1.5.0",
            "_model_name": "FloatProgressModel",
            "_view_count": null,
            "_view_module": "@jupyter-widgets/controls",
            "_view_module_version": "1.5.0",
            "_view_name": "ProgressView",
            "bar_style": "success",
            "description": "",
            "description_tooltip": null,
            "layout": "IPY_MODEL_7cb241365f604419af454c1c28de197a",
            "max": 1,
            "min": 0,
            "orientation": "horizontal",
            "style": "IPY_MODEL_9cf586576ff44dba86ba2eb389593c61",
            "value": 1
          }
        },
        "edaac6587b2d4bd5be52b89bb097f99f": {
          "model_module": "@jupyter-widgets/controls",
          "model_module_version": "1.5.0",
          "model_name": "DescriptionStyleModel",
          "state": {
            "_model_module": "@jupyter-widgets/controls",
            "_model_module_version": "1.5.0",
            "_model_name": "DescriptionStyleModel",
            "_view_count": null,
            "_view_module": "@jupyter-widgets/base",
            "_view_module_version": "1.2.0",
            "_view_name": "StyleView",
            "description_width": ""
          }
        },
        "ef25efa751304e4699910f1fbc14345f": {
          "model_module": "@jupyter-widgets/base",
          "model_module_version": "1.2.0",
          "model_name": "LayoutModel",
          "state": {
            "_model_module": "@jupyter-widgets/base",
            "_model_module_version": "1.2.0",
            "_model_name": "LayoutModel",
            "_view_count": null,
            "_view_module": "@jupyter-widgets/base",
            "_view_module_version": "1.2.0",
            "_view_name": "LayoutView",
            "align_content": null,
            "align_items": null,
            "align_self": null,
            "border": null,
            "bottom": null,
            "display": null,
            "flex": null,
            "flex_flow": null,
            "grid_area": null,
            "grid_auto_columns": null,
            "grid_auto_flow": null,
            "grid_auto_rows": null,
            "grid_column": null,
            "grid_gap": null,
            "grid_row": null,
            "grid_template_areas": null,
            "grid_template_columns": null,
            "grid_template_rows": null,
            "height": null,
            "justify_content": null,
            "justify_items": null,
            "left": null,
            "margin": null,
            "max_height": null,
            "max_width": null,
            "min_height": null,
            "min_width": null,
            "object_fit": null,
            "object_position": null,
            "order": null,
            "overflow": null,
            "overflow_x": null,
            "overflow_y": null,
            "padding": null,
            "right": null,
            "top": null,
            "visibility": null,
            "width": null
          }
        },
        "ef63c3b2d51e452da03cdae5d9b034be": {
          "model_module": "@jupyter-widgets/controls",
          "model_module_version": "1.5.0",
          "model_name": "DescriptionStyleModel",
          "state": {
            "_model_module": "@jupyter-widgets/controls",
            "_model_module_version": "1.5.0",
            "_model_name": "DescriptionStyleModel",
            "_view_count": null,
            "_view_module": "@jupyter-widgets/base",
            "_view_module_version": "1.2.0",
            "_view_name": "StyleView",
            "description_width": ""
          }
        },
        "f3665a86662746c4ac7cb0796604781d": {
          "model_module": "@jupyter-widgets/controls",
          "model_module_version": "1.5.0",
          "model_name": "DescriptionStyleModel",
          "state": {
            "_model_module": "@jupyter-widgets/controls",
            "_model_module_version": "1.5.0",
            "_model_name": "DescriptionStyleModel",
            "_view_count": null,
            "_view_module": "@jupyter-widgets/base",
            "_view_module_version": "1.2.0",
            "_view_name": "StyleView",
            "description_width": ""
          }
        },
        "state": {}
      }
    }
  },
  "nbformat": 4,
  "nbformat_minor": 0
}
